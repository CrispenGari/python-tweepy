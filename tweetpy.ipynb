{
 "cells": [
  {
   "cell_type": "markdown",
   "id": "neutral-three",
   "metadata": {},
   "source": [
    "## Tweetpy - Twitter + Python"
   ]
  },
  {
   "cell_type": "markdown",
   "id": "portuguese-match",
   "metadata": {},
   "source": [
    "## Installation"
   ]
  },
  {
   "cell_type": "code",
   "execution_count": 1,
   "id": "modular-stretch",
   "metadata": {},
   "outputs": [
    {
     "name": "stdout",
     "output_type": "stream",
     "text": [
      "Collecting tweepy\n",
      "  Downloading tweepy-3.10.0-py2.py3-none-any.whl (30 kB)\n",
      "Requirement already satisfied: requests-oauthlib>=0.7.0 in c:\\users\\crisp\\documents\\anaconda3\\lib\\site-packages (from tweepy) (1.3.0)\n",
      "Requirement already satisfied: six>=1.10.0 in c:\\users\\crisp\\documents\\anaconda3\\lib\\site-packages (from tweepy) (1.15.0)\n",
      "Requirement already satisfied: requests[socks]>=2.11.1 in c:\\users\\crisp\\documents\\anaconda3\\lib\\site-packages (from tweepy) (2.25.1)\n",
      "Requirement already satisfied: oauthlib>=3.0.0 in c:\\users\\crisp\\documents\\anaconda3\\lib\\site-packages (from requests-oauthlib>=0.7.0->tweepy) (3.1.0)\n",
      "Requirement already satisfied: certifi>=2017.4.17 in c:\\users\\crisp\\documents\\anaconda3\\lib\\site-packages (from requests[socks]>=2.11.1->tweepy) (2020.12.5)\n",
      "Requirement already satisfied: idna<3,>=2.5 in c:\\users\\crisp\\documents\\anaconda3\\lib\\site-packages (from requests[socks]>=2.11.1->tweepy) (2.10)\n",
      "Requirement already satisfied: chardet<5,>=3.0.2 in c:\\users\\crisp\\documents\\anaconda3\\lib\\site-packages (from requests[socks]>=2.11.1->tweepy) (4.0.0)\n",
      "Requirement already satisfied: urllib3<1.27,>=1.21.1 in c:\\users\\crisp\\documents\\anaconda3\\lib\\site-packages (from requests[socks]>=2.11.1->tweepy) (1.26.3)\n",
      "Requirement already satisfied: PySocks!=1.5.7,>=1.5.6 in c:\\users\\crisp\\documents\\anaconda3\\lib\\site-packages (from requests[socks]>=2.11.1->tweepy) (1.7.1)\n",
      "Installing collected packages: tweepy\n",
      "Successfully installed tweepy-3.10.0\n"
     ]
    }
   ],
   "source": [
    "!pip install tweepy"
   ]
  },
  {
   "cell_type": "code",
   "execution_count": 2,
   "id": "relative-block",
   "metadata": {},
   "outputs": [],
   "source": [
    "API_KEY = \"BGCl17ypkOcsD7TCaN70D9xuS\"\n",
    "API_SECRET = \"7zHkFDtFRD3N9EBcQTV6EqNjB4klbKNioIOprbaFDE5JRAjrid\"\n",
    "ACCESS_TOKEN= \"1327521749521604608-fYcYb1kyDHumLW7aw6cGWSVCL7AtGR\"\n",
    "ACCESS_TOKEN_SECRET = \"9sYLJOHcwdK2SdN8AeqDo5Cx2TVw4ZpJfa7vR1CBBozbD\""
   ]
  },
  {
   "cell_type": "code",
   "execution_count": 7,
   "id": "joint-activity",
   "metadata": {},
   "outputs": [
    {
     "name": "stdout",
     "output_type": "stream",
     "text": [
      "20\n"
     ]
    },
    {
     "data": {
      "text/plain": [
       "Status(_api=<tweepy.api.API object at 0x000002AB60708430>, _json={'created_at': 'Tue Apr 27 15:19:45 +0000 2021', 'id': 1387063926509219841, 'id_str': '1387063926509219841', 'text': \"RT @AmauryPi: Ma sœur lance une recherche en ds &amp; œnologie. Si vous voulez aider avec cinq minutes de votre temps, n'hésitez pas ! https://…\", 'truncated': False, 'entities': {'hashtags': [], 'symbols': [], 'user_mentions': [{'screen_name': 'AmauryPi', 'name': 'Amaury 🐘', 'id': 274110478, 'id_str': '274110478', 'indices': [3, 12]}], 'urls': []}, 'source': '<a href=\"https://twitter.com/\" rel=\"nofollow\">MLTweetBotMK</a>', 'in_reply_to_status_id': None, 'in_reply_to_status_id_str': None, 'in_reply_to_user_id': None, 'in_reply_to_user_id_str': None, 'in_reply_to_screen_name': None, 'user': {'id': 1257170815881228295, 'id_str': '1257170815881228295', 'name': 'Machine Learning Bot', 'screen_name': 'ML_Tweet_Bot', 'location': 'Help us!', 'description': 'A bot, which retweet tweets that have \"Machine Learning\" in their content.  https://t.co/SV6bDgExNK', 'url': 'https://t.co/SV6bDgExNK', 'entities': {'url': {'urls': [{'url': 'https://t.co/SV6bDgExNK', 'expanded_url': 'https://www.buymeacoffee.com/mltweetbot', 'display_url': 'buymeacoffee.com/mltweetbot', 'indices': [0, 23]}]}, 'description': {'urls': [{'url': 'https://t.co/SV6bDgExNK', 'expanded_url': 'https://www.buymeacoffee.com/mltweetbot', 'display_url': 'buymeacoffee.com/mltweetbot', 'indices': [76, 99]}]}}, 'protected': False, 'followers_count': 6295, 'friends_count': 1, 'listed_count': 116, 'created_at': 'Mon May 04 04:51:06 +0000 2020', 'favourites_count': 110, 'utc_offset': None, 'time_zone': None, 'geo_enabled': False, 'verified': False, 'statuses_count': 472755, 'lang': None, 'contributors_enabled': False, 'is_translator': False, 'is_translation_enabled': False, 'profile_background_color': 'F5F8FA', 'profile_background_image_url': None, 'profile_background_image_url_https': None, 'profile_background_tile': False, 'profile_image_url': 'http://pbs.twimg.com/profile_images/1324106333268922369/SEF6rZgM_normal.jpg', 'profile_image_url_https': 'https://pbs.twimg.com/profile_images/1324106333268922369/SEF6rZgM_normal.jpg', 'profile_banner_url': 'https://pbs.twimg.com/profile_banners/1257170815881228295/1604526526', 'profile_link_color': '1DA1F2', 'profile_sidebar_border_color': 'C0DEED', 'profile_sidebar_fill_color': 'DDEEF6', 'profile_text_color': '333333', 'profile_use_background_image': True, 'has_extended_profile': False, 'default_profile': True, 'default_profile_image': False, 'following': True, 'follow_request_sent': False, 'notifications': False, 'translator_type': 'none', 'withheld_in_countries': []}, 'geo': None, 'coordinates': None, 'place': None, 'contributors': None, 'retweeted_status': {'created_at': 'Tue Apr 27 14:59:09 +0000 2021', 'id': 1387058743964278784, 'id_str': '1387058743964278784', 'text': \"Ma sœur lance une recherche en ds &amp; œnologie. Si vous voulez aider avec cinq minutes de votre temps, n'hésitez pas ! https://t.co/OEsIXpP4gq\", 'truncated': False, 'entities': {'hashtags': [], 'symbols': [], 'user_mentions': [], 'urls': [{'url': 'https://t.co/OEsIXpP4gq', 'expanded_url': 'https://twitter.com/etholie/status/1386582714116022278', 'display_url': 'twitter.com/etholie/status…', 'indices': [121, 144]}]}, 'source': '<a href=\"http://twitter.com/download/android\" rel=\"nofollow\">Twitter for Android</a>', 'in_reply_to_status_id': None, 'in_reply_to_status_id_str': None, 'in_reply_to_user_id': None, 'in_reply_to_user_id_str': None, 'in_reply_to_screen_name': None, 'user': {'id': 274110478, 'id_str': '274110478', 'name': 'Amaury 🐘', 'screen_name': 'AmauryPi', 'location': 'Mastodon 🐘 @amaurypi@mamot.fr', 'description': \"Astro, maths, piano et pipouness — je bêtise avec du code et j'aime partager la science.\\n\\nNébulius • Président de @ZesteDeSavoir • @cafe_sciences • il, lui\", 'url': 'https://t.co/9BGUNU5Dsu', 'entities': {'url': {'urls': [{'url': 'https://t.co/9BGUNU5Dsu', 'expanded_url': 'https://amaury.carrade.eu', 'display_url': 'amaury.carrade.eu', 'indices': [0, 23]}]}, 'description': {'urls': []}}, 'protected': False, 'followers_count': 813, 'friends_count': 1670, 'listed_count': 25, 'created_at': 'Tue Mar 29 19:07:20 +0000 2011', 'favourites_count': 39200, 'utc_offset': None, 'time_zone': None, 'geo_enabled': True, 'verified': False, 'statuses_count': 15492, 'lang': None, 'contributors_enabled': False, 'is_translator': False, 'is_translation_enabled': False, 'profile_background_color': 'C0DEED', 'profile_background_image_url': 'http://abs.twimg.com/images/themes/theme1/bg.png', 'profile_background_image_url_https': 'https://abs.twimg.com/images/themes/theme1/bg.png', 'profile_background_tile': False, 'profile_image_url': 'http://pbs.twimg.com/profile_images/1312556685500784642/z0pe0Zxn_normal.jpg', 'profile_image_url_https': 'https://pbs.twimg.com/profile_images/1312556685500784642/z0pe0Zxn_normal.jpg', 'profile_banner_url': 'https://pbs.twimg.com/profile_banners/274110478/1516109381', 'profile_link_color': 'B36417', 'profile_sidebar_border_color': 'FFFFFF', 'profile_sidebar_fill_color': 'DDEEF6', 'profile_text_color': '333333', 'profile_use_background_image': True, 'has_extended_profile': True, 'default_profile': False, 'default_profile_image': False, 'following': False, 'follow_request_sent': False, 'notifications': False, 'translator_type': 'regular', 'withheld_in_countries': []}, 'geo': None, 'coordinates': None, 'place': None, 'contributors': None, 'is_quote_status': True, 'quoted_status_id': 1386582714116022278, 'quoted_status_id_str': '1386582714116022278', 'quoted_status': {'created_at': 'Mon Apr 26 07:27:35 +0000 2021', 'id': 1386582714116022278, 'id_str': '1386582714116022278', 'text': \"Je lance une recherche avec l'Université de Fribourg en rapport avec le machine learning appliqué aux goûts en vin.… https://t.co/Hp8yEyIfLo\", 'truncated': True, 'entities': {'hashtags': [], 'symbols': [], 'user_mentions': [], 'urls': [{'url': 'https://t.co/Hp8yEyIfLo', 'expanded_url': 'https://twitter.com/i/web/status/1386582714116022278', 'display_url': 'twitter.com/i/web/status/1…', 'indices': [117, 140]}]}, 'source': '<a href=\"https://mobile.twitter.com\" rel=\"nofollow\">Twitter Web App</a>', 'in_reply_to_status_id': None, 'in_reply_to_status_id_str': None, 'in_reply_to_user_id': None, 'in_reply_to_user_id_str': None, 'in_reply_to_screen_name': None, 'user': {'id': 889589402825101312, 'id_str': '889589402825101312', 'name': 'Pauline Carrade', 'screen_name': 'etholie', 'location': '', 'description': \"Étudiante à l'École Hôtelière de Lausanne, bibliophile, curieuse et amatrice de nouvelles connaissances et de sarcasme\", 'url': None, 'entities': {'description': {'urls': []}}, 'protected': False, 'followers_count': 15, 'friends_count': 70, 'listed_count': 0, 'created_at': 'Mon Jul 24 20:53:36 +0000 2017', 'favourites_count': 464, 'utc_offset': None, 'time_zone': None, 'geo_enabled': False, 'verified': False, 'statuses_count': 29, 'lang': None, 'contributors_enabled': False, 'is_translator': False, 'is_translation_enabled': False, 'profile_background_color': '000000', 'profile_background_image_url': 'http://abs.twimg.com/images/themes/theme1/bg.png', 'profile_background_image_url_https': 'https://abs.twimg.com/images/themes/theme1/bg.png', 'profile_background_tile': False, 'profile_image_url': 'http://pbs.twimg.com/profile_images/889600108437917696/lq1IHmRQ_normal.jpg', 'profile_image_url_https': 'https://pbs.twimg.com/profile_images/889600108437917696/lq1IHmRQ_normal.jpg', 'profile_banner_url': 'https://pbs.twimg.com/profile_banners/889589402825101312/1500933929', 'profile_link_color': '7FDBB6', 'profile_sidebar_border_color': '000000', 'profile_sidebar_fill_color': '000000', 'profile_text_color': '000000', 'profile_use_background_image': False, 'has_extended_profile': True, 'default_profile': False, 'default_profile_image': False, 'following': False, 'follow_request_sent': False, 'notifications': False, 'translator_type': 'none', 'withheld_in_countries': []}, 'geo': None, 'coordinates': None, 'place': None, 'contributors': None, 'is_quote_status': False, 'retweet_count': 2, 'favorite_count': 1, 'favorited': False, 'retweeted': False, 'possibly_sensitive': False, 'possibly_sensitive_appealable': False, 'lang': 'fr'}, 'retweet_count': 2, 'favorite_count': 0, 'favorited': False, 'retweeted': False, 'possibly_sensitive': False, 'possibly_sensitive_appealable': False, 'lang': 'fr'}, 'is_quote_status': True, 'quoted_status_id': 1386582714116022278, 'quoted_status_id_str': '1386582714116022278', 'retweet_count': 2, 'favorite_count': 0, 'favorited': False, 'retweeted': False, 'lang': 'fr'}, created_at=datetime.datetime(2021, 4, 27, 15, 19, 45), id=1387063926509219841, id_str='1387063926509219841', text=\"RT @AmauryPi: Ma sœur lance une recherche en ds &amp; œnologie. Si vous voulez aider avec cinq minutes de votre temps, n'hésitez pas ! https://…\", truncated=False, entities={'hashtags': [], 'symbols': [], 'user_mentions': [{'screen_name': 'AmauryPi', 'name': 'Amaury 🐘', 'id': 274110478, 'id_str': '274110478', 'indices': [3, 12]}], 'urls': []}, source='MLTweetBotMK', source_url='https://twitter.com/', in_reply_to_status_id=None, in_reply_to_status_id_str=None, in_reply_to_user_id=None, in_reply_to_user_id_str=None, in_reply_to_screen_name=None, author=User(_api=<tweepy.api.API object at 0x000002AB60708430>, _json={'id': 1257170815881228295, 'id_str': '1257170815881228295', 'name': 'Machine Learning Bot', 'screen_name': 'ML_Tweet_Bot', 'location': 'Help us!', 'description': 'A bot, which retweet tweets that have \"Machine Learning\" in their content.  https://t.co/SV6bDgExNK', 'url': 'https://t.co/SV6bDgExNK', 'entities': {'url': {'urls': [{'url': 'https://t.co/SV6bDgExNK', 'expanded_url': 'https://www.buymeacoffee.com/mltweetbot', 'display_url': 'buymeacoffee.com/mltweetbot', 'indices': [0, 23]}]}, 'description': {'urls': [{'url': 'https://t.co/SV6bDgExNK', 'expanded_url': 'https://www.buymeacoffee.com/mltweetbot', 'display_url': 'buymeacoffee.com/mltweetbot', 'indices': [76, 99]}]}}, 'protected': False, 'followers_count': 6295, 'friends_count': 1, 'listed_count': 116, 'created_at': 'Mon May 04 04:51:06 +0000 2020', 'favourites_count': 110, 'utc_offset': None, 'time_zone': None, 'geo_enabled': False, 'verified': False, 'statuses_count': 472755, 'lang': None, 'contributors_enabled': False, 'is_translator': False, 'is_translation_enabled': False, 'profile_background_color': 'F5F8FA', 'profile_background_image_url': None, 'profile_background_image_url_https': None, 'profile_background_tile': False, 'profile_image_url': 'http://pbs.twimg.com/profile_images/1324106333268922369/SEF6rZgM_normal.jpg', 'profile_image_url_https': 'https://pbs.twimg.com/profile_images/1324106333268922369/SEF6rZgM_normal.jpg', 'profile_banner_url': 'https://pbs.twimg.com/profile_banners/1257170815881228295/1604526526', 'profile_link_color': '1DA1F2', 'profile_sidebar_border_color': 'C0DEED', 'profile_sidebar_fill_color': 'DDEEF6', 'profile_text_color': '333333', 'profile_use_background_image': True, 'has_extended_profile': False, 'default_profile': True, 'default_profile_image': False, 'following': True, 'follow_request_sent': False, 'notifications': False, 'translator_type': 'none', 'withheld_in_countries': []}, id=1257170815881228295, id_str='1257170815881228295', name='Machine Learning Bot', screen_name='ML_Tweet_Bot', location='Help us!', description='A bot, which retweet tweets that have \"Machine Learning\" in their content.  https://t.co/SV6bDgExNK', url='https://t.co/SV6bDgExNK', entities={'url': {'urls': [{'url': 'https://t.co/SV6bDgExNK', 'expanded_url': 'https://www.buymeacoffee.com/mltweetbot', 'display_url': 'buymeacoffee.com/mltweetbot', 'indices': [0, 23]}]}, 'description': {'urls': [{'url': 'https://t.co/SV6bDgExNK', 'expanded_url': 'https://www.buymeacoffee.com/mltweetbot', 'display_url': 'buymeacoffee.com/mltweetbot', 'indices': [76, 99]}]}}, protected=False, followers_count=6295, friends_count=1, listed_count=116, created_at=datetime.datetime(2020, 5, 4, 4, 51, 6), favourites_count=110, utc_offset=None, time_zone=None, geo_enabled=False, verified=False, statuses_count=472755, lang=None, contributors_enabled=False, is_translator=False, is_translation_enabled=False, profile_background_color='F5F8FA', profile_background_image_url=None, profile_background_image_url_https=None, profile_background_tile=False, profile_image_url='http://pbs.twimg.com/profile_images/1324106333268922369/SEF6rZgM_normal.jpg', profile_image_url_https='https://pbs.twimg.com/profile_images/1324106333268922369/SEF6rZgM_normal.jpg', profile_banner_url='https://pbs.twimg.com/profile_banners/1257170815881228295/1604526526', profile_link_color='1DA1F2', profile_sidebar_border_color='C0DEED', profile_sidebar_fill_color='DDEEF6', profile_text_color='333333', profile_use_background_image=True, has_extended_profile=False, default_profile=True, default_profile_image=False, following=True, follow_request_sent=False, notifications=False, translator_type='none', withheld_in_countries=[]), user=User(_api=<tweepy.api.API object at 0x000002AB60708430>, _json={'id': 1257170815881228295, 'id_str': '1257170815881228295', 'name': 'Machine Learning Bot', 'screen_name': 'ML_Tweet_Bot', 'location': 'Help us!', 'description': 'A bot, which retweet tweets that have \"Machine Learning\" in their content.  https://t.co/SV6bDgExNK', 'url': 'https://t.co/SV6bDgExNK', 'entities': {'url': {'urls': [{'url': 'https://t.co/SV6bDgExNK', 'expanded_url': 'https://www.buymeacoffee.com/mltweetbot', 'display_url': 'buymeacoffee.com/mltweetbot', 'indices': [0, 23]}]}, 'description': {'urls': [{'url': 'https://t.co/SV6bDgExNK', 'expanded_url': 'https://www.buymeacoffee.com/mltweetbot', 'display_url': 'buymeacoffee.com/mltweetbot', 'indices': [76, 99]}]}}, 'protected': False, 'followers_count': 6295, 'friends_count': 1, 'listed_count': 116, 'created_at': 'Mon May 04 04:51:06 +0000 2020', 'favourites_count': 110, 'utc_offset': None, 'time_zone': None, 'geo_enabled': False, 'verified': False, 'statuses_count': 472755, 'lang': None, 'contributors_enabled': False, 'is_translator': False, 'is_translation_enabled': False, 'profile_background_color': 'F5F8FA', 'profile_background_image_url': None, 'profile_background_image_url_https': None, 'profile_background_tile': False, 'profile_image_url': 'http://pbs.twimg.com/profile_images/1324106333268922369/SEF6rZgM_normal.jpg', 'profile_image_url_https': 'https://pbs.twimg.com/profile_images/1324106333268922369/SEF6rZgM_normal.jpg', 'profile_banner_url': 'https://pbs.twimg.com/profile_banners/1257170815881228295/1604526526', 'profile_link_color': '1DA1F2', 'profile_sidebar_border_color': 'C0DEED', 'profile_sidebar_fill_color': 'DDEEF6', 'profile_text_color': '333333', 'profile_use_background_image': True, 'has_extended_profile': False, 'default_profile': True, 'default_profile_image': False, 'following': True, 'follow_request_sent': False, 'notifications': False, 'translator_type': 'none', 'withheld_in_countries': []}, id=1257170815881228295, id_str='1257170815881228295', name='Machine Learning Bot', screen_name='ML_Tweet_Bot', location='Help us!', description='A bot, which retweet tweets that have \"Machine Learning\" in their content.  https://t.co/SV6bDgExNK', url='https://t.co/SV6bDgExNK', entities={'url': {'urls': [{'url': 'https://t.co/SV6bDgExNK', 'expanded_url': 'https://www.buymeacoffee.com/mltweetbot', 'display_url': 'buymeacoffee.com/mltweetbot', 'indices': [0, 23]}]}, 'description': {'urls': [{'url': 'https://t.co/SV6bDgExNK', 'expanded_url': 'https://www.buymeacoffee.com/mltweetbot', 'display_url': 'buymeacoffee.com/mltweetbot', 'indices': [76, 99]}]}}, protected=False, followers_count=6295, friends_count=1, listed_count=116, created_at=datetime.datetime(2020, 5, 4, 4, 51, 6), favourites_count=110, utc_offset=None, time_zone=None, geo_enabled=False, verified=False, statuses_count=472755, lang=None, contributors_enabled=False, is_translator=False, is_translation_enabled=False, profile_background_color='F5F8FA', profile_background_image_url=None, profile_background_image_url_https=None, profile_background_tile=False, profile_image_url='http://pbs.twimg.com/profile_images/1324106333268922369/SEF6rZgM_normal.jpg', profile_image_url_https='https://pbs.twimg.com/profile_images/1324106333268922369/SEF6rZgM_normal.jpg', profile_banner_url='https://pbs.twimg.com/profile_banners/1257170815881228295/1604526526', profile_link_color='1DA1F2', profile_sidebar_border_color='C0DEED', profile_sidebar_fill_color='DDEEF6', profile_text_color='333333', profile_use_background_image=True, has_extended_profile=False, default_profile=True, default_profile_image=False, following=True, follow_request_sent=False, notifications=False, translator_type='none', withheld_in_countries=[]), geo=None, coordinates=None, place=None, contributors=None, retweeted_status=Status(_api=<tweepy.api.API object at 0x000002AB60708430>, _json={'created_at': 'Tue Apr 27 14:59:09 +0000 2021', 'id': 1387058743964278784, 'id_str': '1387058743964278784', 'text': \"Ma sœur lance une recherche en ds &amp; œnologie. Si vous voulez aider avec cinq minutes de votre temps, n'hésitez pas ! https://t.co/OEsIXpP4gq\", 'truncated': False, 'entities': {'hashtags': [], 'symbols': [], 'user_mentions': [], 'urls': [{'url': 'https://t.co/OEsIXpP4gq', 'expanded_url': 'https://twitter.com/etholie/status/1386582714116022278', 'display_url': 'twitter.com/etholie/status…', 'indices': [121, 144]}]}, 'source': '<a href=\"http://twitter.com/download/android\" rel=\"nofollow\">Twitter for Android</a>', 'in_reply_to_status_id': None, 'in_reply_to_status_id_str': None, 'in_reply_to_user_id': None, 'in_reply_to_user_id_str': None, 'in_reply_to_screen_name': None, 'user': {'id': 274110478, 'id_str': '274110478', 'name': 'Amaury 🐘', 'screen_name': 'AmauryPi', 'location': 'Mastodon 🐘 @amaurypi@mamot.fr', 'description': \"Astro, maths, piano et pipouness — je bêtise avec du code et j'aime partager la science.\\n\\nNébulius • Président de @ZesteDeSavoir • @cafe_sciences • il, lui\", 'url': 'https://t.co/9BGUNU5Dsu', 'entities': {'url': {'urls': [{'url': 'https://t.co/9BGUNU5Dsu', 'expanded_url': 'https://amaury.carrade.eu', 'display_url': 'amaury.carrade.eu', 'indices': [0, 23]}]}, 'description': {'urls': []}}, 'protected': False, 'followers_count': 813, 'friends_count': 1670, 'listed_count': 25, 'created_at': 'Tue Mar 29 19:07:20 +0000 2011', 'favourites_count': 39200, 'utc_offset': None, 'time_zone': None, 'geo_enabled': True, 'verified': False, 'statuses_count': 15492, 'lang': None, 'contributors_enabled': False, 'is_translator': False, 'is_translation_enabled': False, 'profile_background_color': 'C0DEED', 'profile_background_image_url': 'http://abs.twimg.com/images/themes/theme1/bg.png', 'profile_background_image_url_https': 'https://abs.twimg.com/images/themes/theme1/bg.png', 'profile_background_tile': False, 'profile_image_url': 'http://pbs.twimg.com/profile_images/1312556685500784642/z0pe0Zxn_normal.jpg', 'profile_image_url_https': 'https://pbs.twimg.com/profile_images/1312556685500784642/z0pe0Zxn_normal.jpg', 'profile_banner_url': 'https://pbs.twimg.com/profile_banners/274110478/1516109381', 'profile_link_color': 'B36417', 'profile_sidebar_border_color': 'FFFFFF', 'profile_sidebar_fill_color': 'DDEEF6', 'profile_text_color': '333333', 'profile_use_background_image': True, 'has_extended_profile': True, 'default_profile': False, 'default_profile_image': False, 'following': False, 'follow_request_sent': False, 'notifications': False, 'translator_type': 'regular', 'withheld_in_countries': []}, 'geo': None, 'coordinates': None, 'place': None, 'contributors': None, 'is_quote_status': True, 'quoted_status_id': 1386582714116022278, 'quoted_status_id_str': '1386582714116022278', 'quoted_status': {'created_at': 'Mon Apr 26 07:27:35 +0000 2021', 'id': 1386582714116022278, 'id_str': '1386582714116022278', 'text': \"Je lance une recherche avec l'Université de Fribourg en rapport avec le machine learning appliqué aux goûts en vin.… https://t.co/Hp8yEyIfLo\", 'truncated': True, 'entities': {'hashtags': [], 'symbols': [], 'user_mentions': [], 'urls': [{'url': 'https://t.co/Hp8yEyIfLo', 'expanded_url': 'https://twitter.com/i/web/status/1386582714116022278', 'display_url': 'twitter.com/i/web/status/1…', 'indices': [117, 140]}]}, 'source': '<a href=\"https://mobile.twitter.com\" rel=\"nofollow\">Twitter Web App</a>', 'in_reply_to_status_id': None, 'in_reply_to_status_id_str': None, 'in_reply_to_user_id': None, 'in_reply_to_user_id_str': None, 'in_reply_to_screen_name': None, 'user': {'id': 889589402825101312, 'id_str': '889589402825101312', 'name': 'Pauline Carrade', 'screen_name': 'etholie', 'location': '', 'description': \"Étudiante à l'École Hôtelière de Lausanne, bibliophile, curieuse et amatrice de nouvelles connaissances et de sarcasme\", 'url': None, 'entities': {'description': {'urls': []}}, 'protected': False, 'followers_count': 15, 'friends_count': 70, 'listed_count': 0, 'created_at': 'Mon Jul 24 20:53:36 +0000 2017', 'favourites_count': 464, 'utc_offset': None, 'time_zone': None, 'geo_enabled': False, 'verified': False, 'statuses_count': 29, 'lang': None, 'contributors_enabled': False, 'is_translator': False, 'is_translation_enabled': False, 'profile_background_color': '000000', 'profile_background_image_url': 'http://abs.twimg.com/images/themes/theme1/bg.png', 'profile_background_image_url_https': 'https://abs.twimg.com/images/themes/theme1/bg.png', 'profile_background_tile': False, 'profile_image_url': 'http://pbs.twimg.com/profile_images/889600108437917696/lq1IHmRQ_normal.jpg', 'profile_image_url_https': 'https://pbs.twimg.com/profile_images/889600108437917696/lq1IHmRQ_normal.jpg', 'profile_banner_url': 'https://pbs.twimg.com/profile_banners/889589402825101312/1500933929', 'profile_link_color': '7FDBB6', 'profile_sidebar_border_color': '000000', 'profile_sidebar_fill_color': '000000', 'profile_text_color': '000000', 'profile_use_background_image': False, 'has_extended_profile': True, 'default_profile': False, 'default_profile_image': False, 'following': False, 'follow_request_sent': False, 'notifications': False, 'translator_type': 'none', 'withheld_in_countries': []}, 'geo': None, 'coordinates': None, 'place': None, 'contributors': None, 'is_quote_status': False, 'retweet_count': 2, 'favorite_count': 1, 'favorited': False, 'retweeted': False, 'possibly_sensitive': False, 'possibly_sensitive_appealable': False, 'lang': 'fr'}, 'retweet_count': 2, 'favorite_count': 0, 'favorited': False, 'retweeted': False, 'possibly_sensitive': False, 'possibly_sensitive_appealable': False, 'lang': 'fr'}, created_at=datetime.datetime(2021, 4, 27, 14, 59, 9), id=1387058743964278784, id_str='1387058743964278784', text=\"Ma sœur lance une recherche en ds &amp; œnologie. Si vous voulez aider avec cinq minutes de votre temps, n'hésitez pas ! https://t.co/OEsIXpP4gq\", truncated=False, entities={'hashtags': [], 'symbols': [], 'user_mentions': [], 'urls': [{'url': 'https://t.co/OEsIXpP4gq', 'expanded_url': 'https://twitter.com/etholie/status/1386582714116022278', 'display_url': 'twitter.com/etholie/status…', 'indices': [121, 144]}]}, source='Twitter for Android', source_url='http://twitter.com/download/android', in_reply_to_status_id=None, in_reply_to_status_id_str=None, in_reply_to_user_id=None, in_reply_to_user_id_str=None, in_reply_to_screen_name=None, author=User(_api=<tweepy.api.API object at 0x000002AB60708430>, _json={'id': 274110478, 'id_str': '274110478', 'name': 'Amaury 🐘', 'screen_name': 'AmauryPi', 'location': 'Mastodon 🐘 @amaurypi@mamot.fr', 'description': \"Astro, maths, piano et pipouness — je bêtise avec du code et j'aime partager la science.\\n\\nNébulius • Président de @ZesteDeSavoir • @cafe_sciences • il, lui\", 'url': 'https://t.co/9BGUNU5Dsu', 'entities': {'url': {'urls': [{'url': 'https://t.co/9BGUNU5Dsu', 'expanded_url': 'https://amaury.carrade.eu', 'display_url': 'amaury.carrade.eu', 'indices': [0, 23]}]}, 'description': {'urls': []}}, 'protected': False, 'followers_count': 813, 'friends_count': 1670, 'listed_count': 25, 'created_at': 'Tue Mar 29 19:07:20 +0000 2011', 'favourites_count': 39200, 'utc_offset': None, 'time_zone': None, 'geo_enabled': True, 'verified': False, 'statuses_count': 15492, 'lang': None, 'contributors_enabled': False, 'is_translator': False, 'is_translation_enabled': False, 'profile_background_color': 'C0DEED', 'profile_background_image_url': 'http://abs.twimg.com/images/themes/theme1/bg.png', 'profile_background_image_url_https': 'https://abs.twimg.com/images/themes/theme1/bg.png', 'profile_background_tile': False, 'profile_image_url': 'http://pbs.twimg.com/profile_images/1312556685500784642/z0pe0Zxn_normal.jpg', 'profile_image_url_https': 'https://pbs.twimg.com/profile_images/1312556685500784642/z0pe0Zxn_normal.jpg', 'profile_banner_url': 'https://pbs.twimg.com/profile_banners/274110478/1516109381', 'profile_link_color': 'B36417', 'profile_sidebar_border_color': 'FFFFFF', 'profile_sidebar_fill_color': 'DDEEF6', 'profile_text_color': '333333', 'profile_use_background_image': True, 'has_extended_profile': True, 'default_profile': False, 'default_profile_image': False, 'following': False, 'follow_request_sent': False, 'notifications': False, 'translator_type': 'regular', 'withheld_in_countries': []}, id=274110478, id_str='274110478', name='Amaury 🐘', screen_name='AmauryPi', location='Mastodon 🐘 @amaurypi@mamot.fr', description=\"Astro, maths, piano et pipouness — je bêtise avec du code et j'aime partager la science.\\n\\nNébulius • Président de @ZesteDeSavoir • @cafe_sciences • il, lui\", url='https://t.co/9BGUNU5Dsu', entities={'url': {'urls': [{'url': 'https://t.co/9BGUNU5Dsu', 'expanded_url': 'https://amaury.carrade.eu', 'display_url': 'amaury.carrade.eu', 'indices': [0, 23]}]}, 'description': {'urls': []}}, protected=False, followers_count=813, friends_count=1670, listed_count=25, created_at=datetime.datetime(2011, 3, 29, 19, 7, 20), favourites_count=39200, utc_offset=None, time_zone=None, geo_enabled=True, verified=False, statuses_count=15492, lang=None, contributors_enabled=False, is_translator=False, is_translation_enabled=False, profile_background_color='C0DEED', profile_background_image_url='http://abs.twimg.com/images/themes/theme1/bg.png', profile_background_image_url_https='https://abs.twimg.com/images/themes/theme1/bg.png', profile_background_tile=False, profile_image_url='http://pbs.twimg.com/profile_images/1312556685500784642/z0pe0Zxn_normal.jpg', profile_image_url_https='https://pbs.twimg.com/profile_images/1312556685500784642/z0pe0Zxn_normal.jpg', profile_banner_url='https://pbs.twimg.com/profile_banners/274110478/1516109381', profile_link_color='B36417', profile_sidebar_border_color='FFFFFF', profile_sidebar_fill_color='DDEEF6', profile_text_color='333333', profile_use_background_image=True, has_extended_profile=True, default_profile=False, default_profile_image=False, following=False, follow_request_sent=False, notifications=False, translator_type='regular', withheld_in_countries=[]), user=User(_api=<tweepy.api.API object at 0x000002AB60708430>, _json={'id': 274110478, 'id_str': '274110478', 'name': 'Amaury 🐘', 'screen_name': 'AmauryPi', 'location': 'Mastodon 🐘 @amaurypi@mamot.fr', 'description': \"Astro, maths, piano et pipouness — je bêtise avec du code et j'aime partager la science.\\n\\nNébulius • Président de @ZesteDeSavoir • @cafe_sciences • il, lui\", 'url': 'https://t.co/9BGUNU5Dsu', 'entities': {'url': {'urls': [{'url': 'https://t.co/9BGUNU5Dsu', 'expanded_url': 'https://amaury.carrade.eu', 'display_url': 'amaury.carrade.eu', 'indices': [0, 23]}]}, 'description': {'urls': []}}, 'protected': False, 'followers_count': 813, 'friends_count': 1670, 'listed_count': 25, 'created_at': 'Tue Mar 29 19:07:20 +0000 2011', 'favourites_count': 39200, 'utc_offset': None, 'time_zone': None, 'geo_enabled': True, 'verified': False, 'statuses_count': 15492, 'lang': None, 'contributors_enabled': False, 'is_translator': False, 'is_translation_enabled': False, 'profile_background_color': 'C0DEED', 'profile_background_image_url': 'http://abs.twimg.com/images/themes/theme1/bg.png', 'profile_background_image_url_https': 'https://abs.twimg.com/images/themes/theme1/bg.png', 'profile_background_tile': False, 'profile_image_url': 'http://pbs.twimg.com/profile_images/1312556685500784642/z0pe0Zxn_normal.jpg', 'profile_image_url_https': 'https://pbs.twimg.com/profile_images/1312556685500784642/z0pe0Zxn_normal.jpg', 'profile_banner_url': 'https://pbs.twimg.com/profile_banners/274110478/1516109381', 'profile_link_color': 'B36417', 'profile_sidebar_border_color': 'FFFFFF', 'profile_sidebar_fill_color': 'DDEEF6', 'profile_text_color': '333333', 'profile_use_background_image': True, 'has_extended_profile': True, 'default_profile': False, 'default_profile_image': False, 'following': False, 'follow_request_sent': False, 'notifications': False, 'translator_type': 'regular', 'withheld_in_countries': []}, id=274110478, id_str='274110478', name='Amaury 🐘', screen_name='AmauryPi', location='Mastodon 🐘 @amaurypi@mamot.fr', description=\"Astro, maths, piano et pipouness — je bêtise avec du code et j'aime partager la science.\\n\\nNébulius • Président de @ZesteDeSavoir • @cafe_sciences • il, lui\", url='https://t.co/9BGUNU5Dsu', entities={'url': {'urls': [{'url': 'https://t.co/9BGUNU5Dsu', 'expanded_url': 'https://amaury.carrade.eu', 'display_url': 'amaury.carrade.eu', 'indices': [0, 23]}]}, 'description': {'urls': []}}, protected=False, followers_count=813, friends_count=1670, listed_count=25, created_at=datetime.datetime(2011, 3, 29, 19, 7, 20), favourites_count=39200, utc_offset=None, time_zone=None, geo_enabled=True, verified=False, statuses_count=15492, lang=None, contributors_enabled=False, is_translator=False, is_translation_enabled=False, profile_background_color='C0DEED', profile_background_image_url='http://abs.twimg.com/images/themes/theme1/bg.png', profile_background_image_url_https='https://abs.twimg.com/images/themes/theme1/bg.png', profile_background_tile=False, profile_image_url='http://pbs.twimg.com/profile_images/1312556685500784642/z0pe0Zxn_normal.jpg', profile_image_url_https='https://pbs.twimg.com/profile_images/1312556685500784642/z0pe0Zxn_normal.jpg', profile_banner_url='https://pbs.twimg.com/profile_banners/274110478/1516109381', profile_link_color='B36417', profile_sidebar_border_color='FFFFFF', profile_sidebar_fill_color='DDEEF6', profile_text_color='333333', profile_use_background_image=True, has_extended_profile=True, default_profile=False, default_profile_image=False, following=False, follow_request_sent=False, notifications=False, translator_type='regular', withheld_in_countries=[]), geo=None, coordinates=None, place=None, contributors=None, is_quote_status=True, quoted_status_id=1386582714116022278, quoted_status_id_str='1386582714116022278', quoted_status=Status(_api=<tweepy.api.API object at 0x000002AB60708430>, _json={'created_at': 'Mon Apr 26 07:27:35 +0000 2021', 'id': 1386582714116022278, 'id_str': '1386582714116022278', 'text': \"Je lance une recherche avec l'Université de Fribourg en rapport avec le machine learning appliqué aux goûts en vin.… https://t.co/Hp8yEyIfLo\", 'truncated': True, 'entities': {'hashtags': [], 'symbols': [], 'user_mentions': [], 'urls': [{'url': 'https://t.co/Hp8yEyIfLo', 'expanded_url': 'https://twitter.com/i/web/status/1386582714116022278', 'display_url': 'twitter.com/i/web/status/1…', 'indices': [117, 140]}]}, 'source': '<a href=\"https://mobile.twitter.com\" rel=\"nofollow\">Twitter Web App</a>', 'in_reply_to_status_id': None, 'in_reply_to_status_id_str': None, 'in_reply_to_user_id': None, 'in_reply_to_user_id_str': None, 'in_reply_to_screen_name': None, 'user': {'id': 889589402825101312, 'id_str': '889589402825101312', 'name': 'Pauline Carrade', 'screen_name': 'etholie', 'location': '', 'description': \"Étudiante à l'École Hôtelière de Lausanne, bibliophile, curieuse et amatrice de nouvelles connaissances et de sarcasme\", 'url': None, 'entities': {'description': {'urls': []}}, 'protected': False, 'followers_count': 15, 'friends_count': 70, 'listed_count': 0, 'created_at': 'Mon Jul 24 20:53:36 +0000 2017', 'favourites_count': 464, 'utc_offset': None, 'time_zone': None, 'geo_enabled': False, 'verified': False, 'statuses_count': 29, 'lang': None, 'contributors_enabled': False, 'is_translator': False, 'is_translation_enabled': False, 'profile_background_color': '000000', 'profile_background_image_url': 'http://abs.twimg.com/images/themes/theme1/bg.png', 'profile_background_image_url_https': 'https://abs.twimg.com/images/themes/theme1/bg.png', 'profile_background_tile': False, 'profile_image_url': 'http://pbs.twimg.com/profile_images/889600108437917696/lq1IHmRQ_normal.jpg', 'profile_image_url_https': 'https://pbs.twimg.com/profile_images/889600108437917696/lq1IHmRQ_normal.jpg', 'profile_banner_url': 'https://pbs.twimg.com/profile_banners/889589402825101312/1500933929', 'profile_link_color': '7FDBB6', 'profile_sidebar_border_color': '000000', 'profile_sidebar_fill_color': '000000', 'profile_text_color': '000000', 'profile_use_background_image': False, 'has_extended_profile': True, 'default_profile': False, 'default_profile_image': False, 'following': False, 'follow_request_sent': False, 'notifications': False, 'translator_type': 'none', 'withheld_in_countries': []}, 'geo': None, 'coordinates': None, 'place': None, 'contributors': None, 'is_quote_status': False, 'retweet_count': 2, 'favorite_count': 1, 'favorited': False, 'retweeted': False, 'possibly_sensitive': False, 'possibly_sensitive_appealable': False, 'lang': 'fr'}, created_at=datetime.datetime(2021, 4, 26, 7, 27, 35), id=1386582714116022278, id_str='1386582714116022278', text=\"Je lance une recherche avec l'Université de Fribourg en rapport avec le machine learning appliqué aux goûts en vin.… https://t.co/Hp8yEyIfLo\", truncated=True, entities={'hashtags': [], 'symbols': [], 'user_mentions': [], 'urls': [{'url': 'https://t.co/Hp8yEyIfLo', 'expanded_url': 'https://twitter.com/i/web/status/1386582714116022278', 'display_url': 'twitter.com/i/web/status/1…', 'indices': [117, 140]}]}, source='Twitter Web App', source_url='https://mobile.twitter.com', in_reply_to_status_id=None, in_reply_to_status_id_str=None, in_reply_to_user_id=None, in_reply_to_user_id_str=None, in_reply_to_screen_name=None, author=User(_api=<tweepy.api.API object at 0x000002AB60708430>, _json={'id': 889589402825101312, 'id_str': '889589402825101312', 'name': 'Pauline Carrade', 'screen_name': 'etholie', 'location': '', 'description': \"Étudiante à l'École Hôtelière de Lausanne, bibliophile, curieuse et amatrice de nouvelles connaissances et de sarcasme\", 'url': None, 'entities': {'description': {'urls': []}}, 'protected': False, 'followers_count': 15, 'friends_count': 70, 'listed_count': 0, 'created_at': 'Mon Jul 24 20:53:36 +0000 2017', 'favourites_count': 464, 'utc_offset': None, 'time_zone': None, 'geo_enabled': False, 'verified': False, 'statuses_count': 29, 'lang': None, 'contributors_enabled': False, 'is_translator': False, 'is_translation_enabled': False, 'profile_background_color': '000000', 'profile_background_image_url': 'http://abs.twimg.com/images/themes/theme1/bg.png', 'profile_background_image_url_https': 'https://abs.twimg.com/images/themes/theme1/bg.png', 'profile_background_tile': False, 'profile_image_url': 'http://pbs.twimg.com/profile_images/889600108437917696/lq1IHmRQ_normal.jpg', 'profile_image_url_https': 'https://pbs.twimg.com/profile_images/889600108437917696/lq1IHmRQ_normal.jpg', 'profile_banner_url': 'https://pbs.twimg.com/profile_banners/889589402825101312/1500933929', 'profile_link_color': '7FDBB6', 'profile_sidebar_border_color': '000000', 'profile_sidebar_fill_color': '000000', 'profile_text_color': '000000', 'profile_use_background_image': False, 'has_extended_profile': True, 'default_profile': False, 'default_profile_image': False, 'following': False, 'follow_request_sent': False, 'notifications': False, 'translator_type': 'none', 'withheld_in_countries': []}, id=889589402825101312, id_str='889589402825101312', name='Pauline Carrade', screen_name='etholie', location='', description=\"Étudiante à l'École Hôtelière de Lausanne, bibliophile, curieuse et amatrice de nouvelles connaissances et de sarcasme\", url=None, entities={'description': {'urls': []}}, protected=False, followers_count=15, friends_count=70, listed_count=0, created_at=datetime.datetime(2017, 7, 24, 20, 53, 36), favourites_count=464, utc_offset=None, time_zone=None, geo_enabled=False, verified=False, statuses_count=29, lang=None, contributors_enabled=False, is_translator=False, is_translation_enabled=False, profile_background_color='000000', profile_background_image_url='http://abs.twimg.com/images/themes/theme1/bg.png', profile_background_image_url_https='https://abs.twimg.com/images/themes/theme1/bg.png', profile_background_tile=False, profile_image_url='http://pbs.twimg.com/profile_images/889600108437917696/lq1IHmRQ_normal.jpg', profile_image_url_https='https://pbs.twimg.com/profile_images/889600108437917696/lq1IHmRQ_normal.jpg', profile_banner_url='https://pbs.twimg.com/profile_banners/889589402825101312/1500933929', profile_link_color='7FDBB6', profile_sidebar_border_color='000000', profile_sidebar_fill_color='000000', profile_text_color='000000', profile_use_background_image=False, has_extended_profile=True, default_profile=False, default_profile_image=False, following=False, follow_request_sent=False, notifications=False, translator_type='none', withheld_in_countries=[]), user=User(_api=<tweepy.api.API object at 0x000002AB60708430>, _json={'id': 889589402825101312, 'id_str': '889589402825101312', 'name': 'Pauline Carrade', 'screen_name': 'etholie', 'location': '', 'description': \"Étudiante à l'École Hôtelière de Lausanne, bibliophile, curieuse et amatrice de nouvelles connaissances et de sarcasme\", 'url': None, 'entities': {'description': {'urls': []}}, 'protected': False, 'followers_count': 15, 'friends_count': 70, 'listed_count': 0, 'created_at': 'Mon Jul 24 20:53:36 +0000 2017', 'favourites_count': 464, 'utc_offset': None, 'time_zone': None, 'geo_enabled': False, 'verified': False, 'statuses_count': 29, 'lang': None, 'contributors_enabled': False, 'is_translator': False, 'is_translation_enabled': False, 'profile_background_color': '000000', 'profile_background_image_url': 'http://abs.twimg.com/images/themes/theme1/bg.png', 'profile_background_image_url_https': 'https://abs.twimg.com/images/themes/theme1/bg.png', 'profile_background_tile': False, 'profile_image_url': 'http://pbs.twimg.com/profile_images/889600108437917696/lq1IHmRQ_normal.jpg', 'profile_image_url_https': 'https://pbs.twimg.com/profile_images/889600108437917696/lq1IHmRQ_normal.jpg', 'profile_banner_url': 'https://pbs.twimg.com/profile_banners/889589402825101312/1500933929', 'profile_link_color': '7FDBB6', 'profile_sidebar_border_color': '000000', 'profile_sidebar_fill_color': '000000', 'profile_text_color': '000000', 'profile_use_background_image': False, 'has_extended_profile': True, 'default_profile': False, 'default_profile_image': False, 'following': False, 'follow_request_sent': False, 'notifications': False, 'translator_type': 'none', 'withheld_in_countries': []}, id=889589402825101312, id_str='889589402825101312', name='Pauline Carrade', screen_name='etholie', location='', description=\"Étudiante à l'École Hôtelière de Lausanne, bibliophile, curieuse et amatrice de nouvelles connaissances et de sarcasme\", url=None, entities={'description': {'urls': []}}, protected=False, followers_count=15, friends_count=70, listed_count=0, created_at=datetime.datetime(2017, 7, 24, 20, 53, 36), favourites_count=464, utc_offset=None, time_zone=None, geo_enabled=False, verified=False, statuses_count=29, lang=None, contributors_enabled=False, is_translator=False, is_translation_enabled=False, profile_background_color='000000', profile_background_image_url='http://abs.twimg.com/images/themes/theme1/bg.png', profile_background_image_url_https='https://abs.twimg.com/images/themes/theme1/bg.png', profile_background_tile=False, profile_image_url='http://pbs.twimg.com/profile_images/889600108437917696/lq1IHmRQ_normal.jpg', profile_image_url_https='https://pbs.twimg.com/profile_images/889600108437917696/lq1IHmRQ_normal.jpg', profile_banner_url='https://pbs.twimg.com/profile_banners/889589402825101312/1500933929', profile_link_color='7FDBB6', profile_sidebar_border_color='000000', profile_sidebar_fill_color='000000', profile_text_color='000000', profile_use_background_image=False, has_extended_profile=True, default_profile=False, default_profile_image=False, following=False, follow_request_sent=False, notifications=False, translator_type='none', withheld_in_countries=[]), geo=None, coordinates=None, place=None, contributors=None, is_quote_status=False, retweet_count=2, favorite_count=1, favorited=False, retweeted=False, possibly_sensitive=False, possibly_sensitive_appealable=False, lang='fr'), retweet_count=2, favorite_count=0, favorited=False, retweeted=False, possibly_sensitive=False, possibly_sensitive_appealable=False, lang='fr'), is_quote_status=True, quoted_status_id=1386582714116022278, quoted_status_id_str='1386582714116022278', retweet_count=2, favorite_count=0, favorited=False, retweeted=False, lang='fr')"
      ]
     },
     "execution_count": 7,
     "metadata": {},
     "output_type": "execute_result"
    }
   ],
   "source": [
    "import tweepy\n",
    "\n",
    "auth = tweepy.OAuthHandler(API_KEY, API_SECRET)\n",
    "auth.set_access_token(ACCESS_TOKEN,ACCESS_TOKEN_SECRET)\n",
    "\n",
    "api = tweepy.API(auth)\n",
    "\n",
    "public_tweets = api.home_timeline()\n",
    "print(len(public_tweets))\n",
    "public_tweets[0]"
   ]
  },
  {
   "cell_type": "code",
   "execution_count": 9,
   "id": "naval-explanation",
   "metadata": {},
   "outputs": [
    {
     "data": {
      "text/plain": [
       "User(_api=<tweepy.api.API object at 0x000002AB60708430>, _json={'id': 783214, 'id_str': '783214', 'name': 'Twitter', 'screen_name': 'Twitter', 'location': 'everywhere', 'profile_location': None, 'description': \"What's happening?!\", 'url': 'https://t.co/TAXQpsHa5X', 'entities': {'url': {'urls': [{'url': 'https://t.co/TAXQpsHa5X', 'expanded_url': 'https://about.twitter.com/', 'display_url': 'about.twitter.com', 'indices': [0, 23]}]}, 'description': {'urls': []}}, 'protected': False, 'followers_count': 59566839, 'friends_count': 35, 'listed_count': 87300, 'created_at': 'Tue Feb 20 14:35:54 +0000 2007', 'favourites_count': 6322, 'utc_offset': None, 'time_zone': None, 'geo_enabled': True, 'verified': True, 'statuses_count': 14255, 'lang': None, 'status': {'created_at': 'Tue Apr 27 15:20:54 +0000 2021', 'id': 1387064218042736644, 'id_str': '1387064218042736644', 'text': '@lovershoax make it stop', 'truncated': False, 'entities': {'hashtags': [], 'symbols': [], 'user_mentions': [{'screen_name': 'lovershoax', 'name': 'ria :)', 'id': 1290355776494731268, 'id_str': '1290355776494731268', 'indices': [0, 11]}], 'urls': []}, 'source': '<a href=\"https://mobile.twitter.com\" rel=\"nofollow\">Twitter Web App</a>', 'in_reply_to_status_id': 1387062054121525253, 'in_reply_to_status_id_str': '1387062054121525253', 'in_reply_to_user_id': 1290355776494731268, 'in_reply_to_user_id_str': '1290355776494731268', 'in_reply_to_screen_name': 'lovershoax', 'geo': None, 'coordinates': None, 'place': None, 'contributors': None, 'is_quote_status': False, 'retweet_count': 0, 'favorite_count': 1, 'favorited': False, 'retweeted': False, 'lang': 'en'}, 'contributors_enabled': False, 'is_translator': False, 'is_translation_enabled': False, 'profile_background_color': 'ACDED6', 'profile_background_image_url': 'http://abs.twimg.com/images/themes/theme18/bg.gif', 'profile_background_image_url_https': 'https://abs.twimg.com/images/themes/theme18/bg.gif', 'profile_background_tile': True, 'profile_image_url': 'http://pbs.twimg.com/profile_images/1354479643882004483/Btnfm47p_normal.jpg', 'profile_image_url_https': 'https://pbs.twimg.com/profile_images/1354479643882004483/Btnfm47p_normal.jpg', 'profile_banner_url': 'https://pbs.twimg.com/profile_banners/783214/1616686952', 'profile_link_color': '1B95E0', 'profile_sidebar_border_color': 'FFFFFF', 'profile_sidebar_fill_color': 'F6F6F6', 'profile_text_color': '333333', 'profile_use_background_image': True, 'has_extended_profile': True, 'default_profile': False, 'default_profile_image': False, 'following': False, 'follow_request_sent': False, 'notifications': False, 'translator_type': 'regular', 'withheld_in_countries': []}, id=783214, id_str='783214', name='Twitter', screen_name='Twitter', location='everywhere', profile_location=None, description=\"What's happening?!\", url='https://t.co/TAXQpsHa5X', entities={'url': {'urls': [{'url': 'https://t.co/TAXQpsHa5X', 'expanded_url': 'https://about.twitter.com/', 'display_url': 'about.twitter.com', 'indices': [0, 23]}]}, 'description': {'urls': []}}, protected=False, followers_count=59566839, friends_count=35, listed_count=87300, created_at=datetime.datetime(2007, 2, 20, 14, 35, 54), favourites_count=6322, utc_offset=None, time_zone=None, geo_enabled=True, verified=True, statuses_count=14255, lang=None, status=Status(_api=<tweepy.api.API object at 0x000002AB60708430>, _json={'created_at': 'Tue Apr 27 15:20:54 +0000 2021', 'id': 1387064218042736644, 'id_str': '1387064218042736644', 'text': '@lovershoax make it stop', 'truncated': False, 'entities': {'hashtags': [], 'symbols': [], 'user_mentions': [{'screen_name': 'lovershoax', 'name': 'ria :)', 'id': 1290355776494731268, 'id_str': '1290355776494731268', 'indices': [0, 11]}], 'urls': []}, 'source': '<a href=\"https://mobile.twitter.com\" rel=\"nofollow\">Twitter Web App</a>', 'in_reply_to_status_id': 1387062054121525253, 'in_reply_to_status_id_str': '1387062054121525253', 'in_reply_to_user_id': 1290355776494731268, 'in_reply_to_user_id_str': '1290355776494731268', 'in_reply_to_screen_name': 'lovershoax', 'geo': None, 'coordinates': None, 'place': None, 'contributors': None, 'is_quote_status': False, 'retweet_count': 0, 'favorite_count': 1, 'favorited': False, 'retweeted': False, 'lang': 'en'}, created_at=datetime.datetime(2021, 4, 27, 15, 20, 54), id=1387064218042736644, id_str='1387064218042736644', text='@lovershoax make it stop', truncated=False, entities={'hashtags': [], 'symbols': [], 'user_mentions': [{'screen_name': 'lovershoax', 'name': 'ria :)', 'id': 1290355776494731268, 'id_str': '1290355776494731268', 'indices': [0, 11]}], 'urls': []}, source='Twitter Web App', source_url='https://mobile.twitter.com', in_reply_to_status_id=1387062054121525253, in_reply_to_status_id_str='1387062054121525253', in_reply_to_user_id=1290355776494731268, in_reply_to_user_id_str='1290355776494731268', in_reply_to_screen_name='lovershoax', geo=None, coordinates=None, place=None, contributors=None, is_quote_status=False, retweet_count=0, favorite_count=1, favorited=False, retweeted=False, lang='en'), contributors_enabled=False, is_translator=False, is_translation_enabled=False, profile_background_color='ACDED6', profile_background_image_url='http://abs.twimg.com/images/themes/theme18/bg.gif', profile_background_image_url_https='https://abs.twimg.com/images/themes/theme18/bg.gif', profile_background_tile=True, profile_image_url='http://pbs.twimg.com/profile_images/1354479643882004483/Btnfm47p_normal.jpg', profile_image_url_https='https://pbs.twimg.com/profile_images/1354479643882004483/Btnfm47p_normal.jpg', profile_banner_url='https://pbs.twimg.com/profile_banners/783214/1616686952', profile_link_color='1B95E0', profile_sidebar_border_color='FFFFFF', profile_sidebar_fill_color='F6F6F6', profile_text_color='333333', profile_use_background_image=True, has_extended_profile=True, default_profile=False, default_profile_image=False, following=False, follow_request_sent=False, notifications=False, translator_type='regular', withheld_in_countries=[])"
      ]
     },
     "execution_count": 9,
     "metadata": {},
     "output_type": "execute_result"
    }
   ],
   "source": [
    "user = api.get_user('twitter')\n",
    "user"
   ]
  },
  {
   "cell_type": "code",
   "execution_count": 10,
   "id": "raising-assistant",
   "metadata": {},
   "outputs": [
    {
     "name": "stdout",
     "output_type": "stream",
     "text": [
      "Twitter\n",
      "59566839\n",
      "TwitterAsians\n",
      "wendyluwrites\n",
      "originalspin\n",
      "angryasianman\n",
      "gunnarolla\n",
      "runwithskizzers\n",
      "frankshyong\n",
      "toda\n",
      "ndungca\n",
      "somebadideas\n",
      "thefawz\n",
      "jennyyangtv\n",
      "mjmichellekim\n",
      "karenyhan\n",
      "aijenpoo\n",
      "reappropriate\n",
      "Lilly\n",
      "GoAwayWithJae\n",
      "heymichellelee\n",
      "kimmythepooh\n"
     ]
    }
   ],
   "source": [
    "print(user.screen_name)\n",
    "print(user.followers_count)\n",
    "for friend in user.friends():\n",
    "    \n",
    "    print(friend.screen_name)"
   ]
  },
  {
   "cell_type": "code",
   "execution_count": 15,
   "id": "dramatic-respect",
   "metadata": {},
   "outputs": [],
   "source": [
    "fist = api.search(\"news\")[0].text"
   ]
  },
  {
   "cell_type": "code",
   "execution_count": 16,
   "id": "horizontal-robin",
   "metadata": {},
   "outputs": [
    {
     "data": {
      "text/plain": [
       "'RT @NexoFinance: Some good, though lukewarm news for Turkey: a full #cryptocurrency ban is off the table, with regulations defining any res…'"
      ]
     },
     "execution_count": 16,
     "metadata": {},
     "output_type": "execute_result"
    }
   ],
   "source": [
    "fist"
   ]
  },
  {
   "cell_type": "code",
   "execution_count": 17,
   "id": "reasonable-summit",
   "metadata": {},
   "outputs": [
    {
     "name": "stdout",
     "output_type": "stream",
     "text": [
      "RT @kylegriffin1: 58%: That's the share of Americans who say their bigger concern is making sure that everyone who wants to vote can do so,…\n",
      "RT @axum_sun: Horrifying News coming out from #Mekelle,Tigray\n",
      "\n",
      "Barbaric 🇪🇹n soldiers r kidnapping young men &amp; women &amp; taking them 2 unknown…\n",
      "NEWS: Canaccord Genuity analyst Jed Dorsheimer lowered the price target on $TSLA to $974 (from $1,071) while mainta… https://t.co/eHjz0Wxqi3\n",
      "RT @CoE_HRightsRLaw: Follow us to stay updated on news from the Council of Europe Directorate General #HumanRights and #RuleOfLaw\n",
      "यूपी: क्या महामारी के बीच पंचायत चुनाव करवाने की ज़िद सरकारी कर्मचारियों पर भारी पड़ रही है|The Wire - Hindi - Hind… https://t.co/P6YolSGrbG\n",
      "RT @billboard: The Recording Academy awarded a Grammy to Joe Alwyn as a co-producer of #TaylorSwift's 'Folklore.'\n",
      "\n",
      "https://t.co/b2HAvpOASJ\n",
      "RT @mahninpwint: I am never one to underestimate the enemy, but the news of #KNU taking control of #SAC posts got me thinking. TMD has been…\n",
      "RT @STattisconie: Bookmark this, a small piece about Sturgeon not having an Economic Assessment Impact report, she doesn't have one as this…\n",
      "RT @iam_steveola: FRIENDS WHO GENUINELY GET EXCITED WHEN YOU TELL THEM GOOD NEWS&gt;&gt;&gt;&gt;&gt;&gt;&gt;&gt;&gt;&gt;\n",
      "RT @_SemaHernandez_: 65 million indigenous people were here before colonizers arrived, stole the land and committed massive genocide.\n",
      "\n",
      "Why…\n",
      "RT @cvpayne: Great point - I wonder about that with news in general even financial news where certain folks always diss and root against th…\n",
      "Just let people do what they want. Why have laws? Covid hasn't killed anyone has it?\n",
      "COVID-19: Every fine issued to… https://t.co/eXhHg4Z5m3\n",
      "RT @SJAMcBride: Breaking News: After more than five turbulent years as DUP leader, Arlene Foster’s time at the helm of Northern Ireland’s b…\n",
      "RT @dfes_official: 【配信イベント】\n",
      "アプリ＆アニメ5周年を記念して、\n",
      "『ドリフェス！スタッフトークショー　LIVE配信!!!!!!!』開催決定♪\n",
      "\n",
      "2021年5月25日(火)20時～予定！\n",
      "チケット情報は後日お知らせ致します。\n",
      "\n",
      "▼出演者※敬称略\n",
      "#村野佑太…\n",
      "Boris Johnson denies disrespecting Covid-19 victims. But the political crises are piling up. https://t.co/FHKT9ZxY7z\n"
     ]
    }
   ],
   "source": [
    "for i in api.search(\"news\"):\n",
    "    print(i.text)"
   ]
  },
  {
   "cell_type": "code",
   "execution_count": null,
   "id": "civic-terrace",
   "metadata": {},
   "outputs": [],
   "source": []
  },
  {
   "cell_type": "code",
   "execution_count": null,
   "id": "constant-defendant",
   "metadata": {},
   "outputs": [],
   "source": []
  },
  {
   "cell_type": "code",
   "execution_count": null,
   "id": "relative-chancellor",
   "metadata": {},
   "outputs": [],
   "source": []
  },
  {
   "cell_type": "code",
   "execution_count": null,
   "id": "nonprofit-occasion",
   "metadata": {},
   "outputs": [],
   "source": []
  },
  {
   "cell_type": "code",
   "execution_count": null,
   "id": "filled-timeline",
   "metadata": {},
   "outputs": [],
   "source": []
  }
 ],
 "metadata": {
  "kernelspec": {
   "display_name": "Python 3",
   "language": "python",
   "name": "python3"
  },
  "language_info": {
   "codemirror_mode": {
    "name": "ipython",
    "version": 3
   },
   "file_extension": ".py",
   "mimetype": "text/x-python",
   "name": "python",
   "nbconvert_exporter": "python",
   "pygments_lexer": "ipython3",
   "version": "3.8.5"
  }
 },
 "nbformat": 4,
 "nbformat_minor": 5
}
