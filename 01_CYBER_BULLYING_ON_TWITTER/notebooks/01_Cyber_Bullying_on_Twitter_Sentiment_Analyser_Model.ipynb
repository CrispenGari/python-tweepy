{
  "nbformat": 4,
  "nbformat_minor": 0,
  "metadata": {
    "colab": {
      "provenance": []
    },
    "kernelspec": {
      "name": "python3",
      "display_name": "Python 3"
    },
    "language_info": {
      "name": "python"
    },
    "accelerator": "GPU"
  },
  "cells": [
    {
      "cell_type": "markdown",
      "source": [
        "---\n",
        "Topic: `Sentiment Analysis for Cyberbullying Detection on Twitter - Sentiment Analyiser`\n",
        "\n",
        "Date: `2023/05/04`\n",
        "\n",
        "Programming Language: `python`\n",
        "\n",
        "Main: `Natural Language Processing (NLP)`\n",
        "\n",
        "---\n",
        "\n",
        "### Introduction\n",
        "\n",
        "Sentiment analyis (SA) is a supervised or unsupervised machine learning task for classifying the popularity of a given text. Given a text and labels a model can be trained to classify the category the text belongs to for example it can classify wether a given text fall under `positive`, `negative` or `neutral`. SA can be either a `multi-class` classification or a `binary` classification task.\n",
        "\n",
        "### Abstract\n",
        "Sentiment analyisis is a very useful study in modern technology. SA goal is to study human opinion over written text of natural languages. Natural languages are languages that are spoken by people, unlike programming language natural languages comes natural for example Shona, English, Ndebele etc. SA can analyise human emotions, attitude, opinion, sentiments over a written language. This study is very useful in systems like chatbots and virtual assistance in making decisions when interacting with human beings.\n",
        "\n",
        "\n",
        "_In this notebook I'm going to implement and train a model from scratch using modern python libraries such as `pytorch` by `facebook` that does a general sentiment analyisis classification task based on `3` class labels (`positive`, `negative`, `neutral`). Each code cell that we are going to execute will be explained by the use of `Markdown` that's why I choose `.ipyb` or `IPython` notebook to write code for model training._\n",
        "\n",
        "### Keywords\n",
        "Natural Language Processing (NLP),  Sentiment Analysis, Long Short Term Memory (LSTM), Bi-Directional.\n",
        "\n",
        "\n",
        "### Cloud File System\n",
        "\n",
        "This notebook is an instance of a cloud notebook (Google Colab) notebook where we can write code in the browser without installing any packages or any programming language. Alternatively one can use `Jupyter Notebooks` to perform this task but for speed we may consider using something like `Google Colab` because it offers free `Graphic Processing Units (GPU)` and `Tensor Processing Unit (TPU)`. These devices or runtime environments allows our code to execute fast because they are good when it comes to mathematical computations as compared to `Central Processing Units (CPU)`\n",
        "\n",
        "When you are using `Google Colab` you might as well think of accessing your file system. Fortunate enough google made it easy for developers because there's an `API` that allows us to directly link our `Google Drive` cloud storage with `Google Colab`. Also most of the datascientists use the API like `Kaggle` to access the dataset without bothering uploading the dataset in the google drive storage. The following shows how our file system looks like in the google drive.\n",
        "\n",
        "```\n",
        "📁 drive\n",
        "  📁 My Drive\n",
        "    📁 Cyber Bullying on Twitter\n",
        "       - keys.json\n",
        "       - [category].csv\n",
        "       - clean_tweets.csv\n",
        "\n",
        "* category can be either one of the categories that we have tageted when fetching cyberbullying data between [education, sports and politics]    \n",
        "```\n",
        "> Note that the `clean_tweets.csv` contains our dataset with cleaned paired to their labels and was obtained in the prevoius notebook. \n",
        "\n",
        "\n",
        "### Phyiscal Devices\n",
        "As i mentioned before that we are going to make use of free `GPU` we need to make sure that we change the runtime type by clicking on the `Runtime` menu > `Change Runtime Type` > `GPU`\n",
        "\n",
        "### Mounting the Drive\n",
        "\n",
        "In order to use the google drive in google colab we have to mount it and give google colab access to our google drive storage. We can mount the drive by running the following code cell.\n",
        "\n"
      ],
      "metadata": {
        "id": "i1vhg2fiDU1w"
      }
    },
    {
      "cell_type": "code",
      "source": [
        "from google.colab import drive\n",
        "drive.mount('/content/drive')"
      ],
      "metadata": {
        "colab": {
          "base_uri": "https://localhost:8080/"
        },
        "id": "B3xstK6HDUmE",
        "outputId": "b1291d2c-0309-4e8f-dbb7-93f3d81c9d7d"
      },
      "execution_count": 1,
      "outputs": [
        {
          "output_type": "stream",
          "name": "stdout",
          "text": [
            "Mounted at /content/drive\n"
          ]
        }
      ]
    },
    {
      "cell_type": "markdown",
      "source": [
        "### Path to our files\n",
        "In the following code cell we are going to define the paths to our files. We are going to make use of the `os` built in python module to manage our paths."
      ],
      "metadata": {
        "id": "YUGw_BMZPo8c"
      }
    },
    {
      "cell_type": "code",
      "source": [
        "import os\n",
        "base_path = '/content/drive/My Drive/Cyber Bullying on Twitter'\n",
        "\n",
        "assert os.path.exists(base_path), f\"Path '{base_path}' does not exists.\"\n",
        "\n",
        "# path to our csv file\n",
        "data_path = os.path.join(base_path, 'clean_tweets.csv')\n",
        "assert os.path.exists(data_path), f\"Path '{data_path}' does not exists.\"\n"
      ],
      "metadata": {
        "id": "1kMv6K-6DUjV"
      },
      "execution_count": 2,
      "outputs": []
    },
    {
      "cell_type": "markdown",
      "source": [
        "### Installing `helperfns`\n",
        "\n",
        "In the following code cell we are going to install the package called `helperfns` which is the package that i've create that provides us with some usefull helper functions for machine learning."
      ],
      "metadata": {
        "id": "8kBRCRi4PCra"
      }
    },
    {
      "cell_type": "code",
      "source": [
        "pip install helperfns -q"
      ],
      "metadata": {
        "id": "aeitRZlTPUgR",
        "colab": {
          "base_uri": "https://localhost:8080/"
        },
        "outputId": "1072c8f6-097d-40e5-b68d-b3f8c8d5aaf1"
      },
      "execution_count": 3,
      "outputs": [
        {
          "output_type": "stream",
          "name": "stdout",
          "text": [
            "  Preparing metadata (setup.py) ... \u001b[?25l\u001b[?25hdone\n",
            "  Building wheel for sklearn (setup.py) ... \u001b[?25l\u001b[?25hdone\n"
          ]
        }
      ]
    },
    {
      "cell_type": "markdown",
      "source": [
        "### Imports\n",
        "\n",
        "Ofcause we are going to import packages that we are going to use in this notebook. In the following codecell we are going to import the basic modules that we are going to use in this notebook. \n",
        "\n",
        "The major modules that we are going to use that are not built-ins in python are as follows.\n",
        "\n",
        "1. `torchtext` - for working with `tensors` alternatively we can use `tensorflow` by `google` but i chose `pytorch` because why not.\n",
        "2. `matplotlib.pyplot` - for visualizing interms of graphs\n",
        "3. `helperfns` - provides us with some helper functions that we are going to use along the way.\n",
        "4. `pandas` - for working with dataframes\n",
        "5. `numpy` - numerical python, this package allows us to simply work with arrays very easily in python. Good news is that tensorflow keras can also work with these arrays directly instead of tensorflow tensors.\n",
        "6. `seaborn` - this package is used to do some colorful chats visualizations\n",
        "8. `sklearn` - offers some classes and functions that helps us to easily work with `2d` or `1d` data for example we can use the `tran_test_split` method from `sklearn` model selection to split examples into subsets.\n",
        "9. `torchtext` - consists of data processing utilities and popular datasets for natural language in pytorch.\n",
        "\n",
        "> Note that other packages that i did not mention here will be explained as we go, that's the reason i chose interactive notebook over writting this code in an code editor."
      ],
      "metadata": {
        "id": "aCaIZGl9RRtn"
      }
    },
    {
      "cell_type": "code",
      "source": [
        "import time\n",
        "import json\n",
        "import torch\n",
        "import os\n",
        "import re\n",
        "import random\n",
        "import torchtext\n",
        "from matplotlib import pyplot as plt\n",
        "from torch import nn\n",
        "from torchtext import data\n",
        "from collections import Counter\n",
        "from torchtext import vocab\n",
        "import seaborn as sns\n",
        "\n",
        "from helperfns.tables import tabulate_data\n",
        "from helperfns.visualization import plot_complicated_confusion_matrix, plot_simple_confusion_matrix\n",
        "from helperfns.torch import models\n",
        "from helperfns.utils import hms_string\n",
        "from sklearn.model_selection import train_test_split\n",
        "from sklearn.metrics import classification_report\n",
        "from helperfns.text import de_contract\n",
        "\n",
        "import torch.nn.functional as F\n",
        "import numpy as np\n",
        "import pandas as pd\n",
        "import wordcloud as wc\n",
        "\n",
        "from google.colab import drive, files\n",
        "\n",
        "torchtext.__version__, torch.__version__"
      ],
      "metadata": {
        "colab": {
          "base_uri": "https://localhost:8080/"
        },
        "id": "heNFjdlSDUgQ",
        "outputId": "705694a0-3b17-49ea-9292-196fbf6c4d12"
      },
      "execution_count": 4,
      "outputs": [
        {
          "output_type": "stream",
          "name": "stderr",
          "text": [
            "[nltk_data] Downloading package words to /root/nltk_data...\n",
            "[nltk_data]   Unzipping corpora/words.zip.\n"
          ]
        },
        {
          "output_type": "execute_result",
          "data": {
            "text/plain": [
              "('0.15.1+cpu', '2.0.0+cu118')"
            ]
          },
          "metadata": {},
          "execution_count": 4
        }
      ]
    },
    {
      "cell_type": "markdown",
      "source": [
        "### Seed\n",
        "\n",
        "In the following code cell we are going to set a `seed` for random reproducivity. In datascience we share code, so inoder to get the same output when running the same code at different times we need to set the seed to all random actions that we are going to make. In the following code cell i will set the seed to `42` for random reproducivity. Note that this seed can be any integer number you want. Changing this seed may result in changing results at the end."
      ],
      "metadata": {
        "id": "Iw0DXbLbVjYA"
      }
    },
    {
      "cell_type": "code",
      "source": [
        "SEED = 42\n",
        "\n",
        "random.seed(SEED)\n",
        "torch.manual_seed(SEED)\n",
        "torch.cuda.manual_seed(SEED)\n",
        "np.random.seed(SEED)\n",
        "torch.backends.cudnn.deterministic = True"
      ],
      "metadata": {
        "id": "nncYAwjBDUdH"
      },
      "execution_count": 5,
      "outputs": []
    },
    {
      "cell_type": "markdown",
      "source": [
        "### Physical Device & GPU acceration\n",
        "\n",
        "As i stated earlier on that we need to have access to physical devices such as `GPU` or `TPU` so that executing mathematical computations becomes time efficient. We are going to make use of a `GPU`. So we want a way of creating a device using `torch`\n"
      ],
      "metadata": {
        "id": "BxeocPdoicWV"
      }
    },
    {
      "cell_type": "code",
      "source": [
        "device = torch.device('cuda' if torch.cuda.is_available() else 'cpu')\n",
        "device"
      ],
      "metadata": {
        "colab": {
          "base_uri": "https://localhost:8080/"
        },
        "id": "ywyIuIiHDUZ2",
        "outputId": "ce790270-e5ab-4c01-f488-d804f866b2e1"
      },
      "execution_count": 6,
      "outputs": [
        {
          "output_type": "execute_result",
          "data": {
            "text/plain": [
              "device(type='cuda')"
            ]
          },
          "metadata": {},
          "execution_count": 6
        }
      ]
    },
    {
      "cell_type": "markdown",
      "source": [
        "### Data\n",
        "Our `clean_tweets.csv` file contains rows of examples where we will find text paired to their sentiment labels. In this section i will expain line by line data processing pipeline starting from loading a `.csv` file using pandas and visualizing and checking examples. Note that our dataset contains three labels which will be programmatically shown in code cells that will come after we load our data in a dataframe using `pandas`.\n",
        "\n",
        "\n",
        "### Creating a dataframe\n",
        "In the following code cell we are going to load the dataset using the `pandas` module which we have imported with alias `pd` in a dataframe. We are going to use the `read_csv` function from pandas to read the `coma-seperated-values` data from our file as follows:"
      ],
      "metadata": {
        "id": "ULkm-md4kFz6"
      }
    },
    {
      "cell_type": "code",
      "source": [
        "dataframe = pd.read_csv(data_path)"
      ],
      "metadata": {
        "id": "IOiZXDQvDUWK"
      },
      "execution_count": 7,
      "outputs": []
    },
    {
      "cell_type": "markdown",
      "source": [
        "### Checking the first `5` rows of the dataframe\n",
        "\n",
        "In pandas the method `head(n)` on a dataframe instance allows us to check the first `n` rows and the method `tail(n)` allows us to check the last `n` rows of the data in the dataframe. We want to check the first `10` rows so that we will be familiar with how our `data` looks like before doing any preprocessing on features and labels."
      ],
      "metadata": {
        "id": "XMLjI7FfmnZx"
      }
    },
    {
      "cell_type": "code",
      "source": [
        "dataframe.head(5)"
      ],
      "metadata": {
        "colab": {
          "base_uri": "https://localhost:8080/",
          "height": 206
        },
        "id": "UZN5KJLfmm23",
        "outputId": "faffb5f3-f43a-4502-c983-50dc6ccb2a59"
      },
      "execution_count": 8,
      "outputs": [
        {
          "output_type": "execute_result",
          "data": {
            "text/plain": [
              "                                                text     label\n",
              "0                             need quality education   neutral\n",
              "1  na still ipob is trying to bring nigerians fro...  negative\n",
              "2  disney packup your toys amp move to a liberal ...  negative\n",
              "3  the world is very beautiful but some people is...  positive\n",
              "4  desantis' cartoon villainy gives disney is law...  positive"
            ],
            "text/html": [
              "\n",
              "  <div id=\"df-94658db1-a9f6-4f7f-aecf-6014f104e5b3\">\n",
              "    <div class=\"colab-df-container\">\n",
              "      <div>\n",
              "<style scoped>\n",
              "    .dataframe tbody tr th:only-of-type {\n",
              "        vertical-align: middle;\n",
              "    }\n",
              "\n",
              "    .dataframe tbody tr th {\n",
              "        vertical-align: top;\n",
              "    }\n",
              "\n",
              "    .dataframe thead th {\n",
              "        text-align: right;\n",
              "    }\n",
              "</style>\n",
              "<table border=\"1\" class=\"dataframe\">\n",
              "  <thead>\n",
              "    <tr style=\"text-align: right;\">\n",
              "      <th></th>\n",
              "      <th>text</th>\n",
              "      <th>label</th>\n",
              "    </tr>\n",
              "  </thead>\n",
              "  <tbody>\n",
              "    <tr>\n",
              "      <th>0</th>\n",
              "      <td>need quality education</td>\n",
              "      <td>neutral</td>\n",
              "    </tr>\n",
              "    <tr>\n",
              "      <th>1</th>\n",
              "      <td>na still ipob is trying to bring nigerians fro...</td>\n",
              "      <td>negative</td>\n",
              "    </tr>\n",
              "    <tr>\n",
              "      <th>2</th>\n",
              "      <td>disney packup your toys amp move to a liberal ...</td>\n",
              "      <td>negative</td>\n",
              "    </tr>\n",
              "    <tr>\n",
              "      <th>3</th>\n",
              "      <td>the world is very beautiful but some people is...</td>\n",
              "      <td>positive</td>\n",
              "    </tr>\n",
              "    <tr>\n",
              "      <th>4</th>\n",
              "      <td>desantis' cartoon villainy gives disney is law...</td>\n",
              "      <td>positive</td>\n",
              "    </tr>\n",
              "  </tbody>\n",
              "</table>\n",
              "</div>\n",
              "      <button class=\"colab-df-convert\" onclick=\"convertToInteractive('df-94658db1-a9f6-4f7f-aecf-6014f104e5b3')\"\n",
              "              title=\"Convert this dataframe to an interactive table.\"\n",
              "              style=\"display:none;\">\n",
              "        \n",
              "  <svg xmlns=\"http://www.w3.org/2000/svg\" height=\"24px\"viewBox=\"0 0 24 24\"\n",
              "       width=\"24px\">\n",
              "    <path d=\"M0 0h24v24H0V0z\" fill=\"none\"/>\n",
              "    <path d=\"M18.56 5.44l.94 2.06.94-2.06 2.06-.94-2.06-.94-.94-2.06-.94 2.06-2.06.94zm-11 1L8.5 8.5l.94-2.06 2.06-.94-2.06-.94L8.5 2.5l-.94 2.06-2.06.94zm10 10l.94 2.06.94-2.06 2.06-.94-2.06-.94-.94-2.06-.94 2.06-2.06.94z\"/><path d=\"M17.41 7.96l-1.37-1.37c-.4-.4-.92-.59-1.43-.59-.52 0-1.04.2-1.43.59L10.3 9.45l-7.72 7.72c-.78.78-.78 2.05 0 2.83L4 21.41c.39.39.9.59 1.41.59.51 0 1.02-.2 1.41-.59l7.78-7.78 2.81-2.81c.8-.78.8-2.07 0-2.86zM5.41 20L4 18.59l7.72-7.72 1.47 1.35L5.41 20z\"/>\n",
              "  </svg>\n",
              "      </button>\n",
              "      \n",
              "  <style>\n",
              "    .colab-df-container {\n",
              "      display:flex;\n",
              "      flex-wrap:wrap;\n",
              "      gap: 12px;\n",
              "    }\n",
              "\n",
              "    .colab-df-convert {\n",
              "      background-color: #E8F0FE;\n",
              "      border: none;\n",
              "      border-radius: 50%;\n",
              "      cursor: pointer;\n",
              "      display: none;\n",
              "      fill: #1967D2;\n",
              "      height: 32px;\n",
              "      padding: 0 0 0 0;\n",
              "      width: 32px;\n",
              "    }\n",
              "\n",
              "    .colab-df-convert:hover {\n",
              "      background-color: #E2EBFA;\n",
              "      box-shadow: 0px 1px 2px rgba(60, 64, 67, 0.3), 0px 1px 3px 1px rgba(60, 64, 67, 0.15);\n",
              "      fill: #174EA6;\n",
              "    }\n",
              "\n",
              "    [theme=dark] .colab-df-convert {\n",
              "      background-color: #3B4455;\n",
              "      fill: #D2E3FC;\n",
              "    }\n",
              "\n",
              "    [theme=dark] .colab-df-convert:hover {\n",
              "      background-color: #434B5C;\n",
              "      box-shadow: 0px 1px 3px 1px rgba(0, 0, 0, 0.15);\n",
              "      filter: drop-shadow(0px 1px 2px rgba(0, 0, 0, 0.3));\n",
              "      fill: #FFFFFF;\n",
              "    }\n",
              "  </style>\n",
              "\n",
              "      <script>\n",
              "        const buttonEl =\n",
              "          document.querySelector('#df-94658db1-a9f6-4f7f-aecf-6014f104e5b3 button.colab-df-convert');\n",
              "        buttonEl.style.display =\n",
              "          google.colab.kernel.accessAllowed ? 'block' : 'none';\n",
              "\n",
              "        async function convertToInteractive(key) {\n",
              "          const element = document.querySelector('#df-94658db1-a9f6-4f7f-aecf-6014f104e5b3');\n",
              "          const dataTable =\n",
              "            await google.colab.kernel.invokeFunction('convertToInteractive',\n",
              "                                                     [key], {});\n",
              "          if (!dataTable) return;\n",
              "\n",
              "          const docLinkHtml = 'Like what you see? Visit the ' +\n",
              "            '<a target=\"_blank\" href=https://colab.research.google.com/notebooks/data_table.ipynb>data table notebook</a>'\n",
              "            + ' to learn more about interactive tables.';\n",
              "          element.innerHTML = '';\n",
              "          dataTable['output_type'] = 'display_data';\n",
              "          await google.colab.output.renderOutput(dataTable, element);\n",
              "          const docLink = document.createElement('div');\n",
              "          docLink.innerHTML = docLinkHtml;\n",
              "          element.appendChild(docLink);\n",
              "        }\n",
              "      </script>\n",
              "    </div>\n",
              "  </div>\n",
              "  "
            ]
          },
          "metadata": {},
          "execution_count": 8
        }
      ]
    },
    {
      "cell_type": "markdown",
      "source": [
        "### Our dataframe\n",
        "\n",
        "Based on the dataframe that we have we are only intrested in two columns which are:\n",
        "\n",
        "1. `labels` - values are `positive`, `negative` and `nuetral`\n",
        "2. `text` - this is the actual tweet text.\n",
        "\n",
        "### Counting examples\n",
        "\n",
        "In the following code cell we are going to visualize how many unique `sentiments` (which is our target value ) values are there in our dataframe. We are going to use the `seaborn` module taht was imported earlier with an alias `sns`. In this module we will found a method called `countplot` which will plot all the total count aganist the `target` name as follows:\n"
      ],
      "metadata": {
        "id": "8bFBacABomtH"
      }
    },
    {
      "cell_type": "code",
      "source": [
        "sns.countplot(x=\"label\", data=dataframe)\n",
        "plt.show()"
      ],
      "metadata": {
        "colab": {
          "base_uri": "https://localhost:8080/",
          "height": 449
        },
        "id": "UkZRmIeWHhze",
        "outputId": "f2095b99-64af-4dbe-f1bd-f2ced2b196e9"
      },
      "execution_count": 9,
      "outputs": [
        {
          "output_type": "display_data",
          "data": {
            "text/plain": [
              "<Figure size 640x480 with 1 Axes>"
            ],
            "image/png": "[encoded data removed]"
          },
          "metadata": {}
        }
      ]
    },
    {
      "cell_type": "markdown",
      "source": [
        "### Observesion\n",
        "\n",
        "From the above we can be able to see that there are more positive sentiments in this dataset. This brings us to a conclusion that the dataset has unbalanced labels and there's a high posibility that our model will overfit for positive sentiments. But we are going to make use of Natural Language Processing (NLP) techniquies to avoid this rather than balancing the labels.\n"
      ],
      "metadata": {
        "id": "YdnelQyyyqaq"
      }
    },
    {
      "cell_type": "markdown",
      "source": [
        "### Null columns.\n",
        "\n",
        "Our dataset is a dataset that was created using scrapping with the twitter API. There's high posibility that we have `null` values or `na` values on other columns. The first rule that we should do when working with pandas dataframes to to drop `na` values. In the following code cell we are going to check if we have `na` valued in our dataframe."
      ],
      "metadata": {
        "id": "DRkko4PLrOtb"
      }
    },
    {
      "cell_type": "code",
      "source": [
        "## Checking if there are 'na' valued in the dataframe\n",
        "dataframe.isna().any()"
      ],
      "metadata": {
        "colab": {
          "base_uri": "https://localhost:8080/"
        },
        "id": "3a8137OlrzZI",
        "outputId": "29a2a30b-1c0f-425a-e966-aa361d03a3ec"
      },
      "execution_count": 10,
      "outputs": [
        {
          "output_type": "execute_result",
          "data": {
            "text/plain": [
              "text      True\n",
              "label    False\n",
              "dtype: bool"
            ]
          },
          "metadata": {},
          "execution_count": 10
        }
      ]
    },
    {
      "cell_type": "markdown",
      "source": [
        "> We can see and conclude that there are no `na` values in our dataset.\n",
        "\n",
        "Next we are going to check if there are `null` values in our dataframe."
      ],
      "metadata": {
        "id": "3ruiuI0fsLFk"
      }
    },
    {
      "cell_type": "code",
      "source": [
        "dataframe.isnull().any()"
      ],
      "metadata": {
        "colab": {
          "base_uri": "https://localhost:8080/"
        },
        "id": "YLukz7xisf1E",
        "outputId": "3bb8870e-47e4-41b2-d1ef-df531f1037e9"
      },
      "execution_count": 11,
      "outputs": [
        {
          "output_type": "execute_result",
          "data": {
            "text/plain": [
              "text      True\n",
              "label    False\n",
              "dtype: bool"
            ]
          },
          "metadata": {},
          "execution_count": 11
        }
      ]
    },
    {
      "cell_type": "markdown",
      "source": [
        "> As we can see that we have a column with null values in our dataset. If it happened that you have null values in your dataset especially on the collumns that you are working with you will need to drop them for example using the code that says:\n",
        "\n",
        "```py\n",
        "dataframe = dataframe.dropna()\n",
        "```\n",
        "> note that a pandas method on a datafram `dropna` does not perform action in place so that's why we are re-assigning the dataframe.\n",
        "\n",
        "This is the first thing datascientist do before working with dataframes in pandas.\n"
      ],
      "metadata": {
        "id": "ea7xt8sVsmX-"
      }
    },
    {
      "cell_type": "code",
      "source": [
        "dataframe = dataframe.dropna()"
      ],
      "metadata": {
        "id": "Q-kf_SSKidTL"
      },
      "execution_count": 12,
      "outputs": []
    },
    {
      "cell_type": "markdown",
      "source": [
        "### Features and labels\n",
        "\n",
        "In this dataset we are interested in predicting the sentiment weather it's `positive` , `neutral` or `negative` based on the text. So based on the data that we have we are interested in two columns:\n",
        "\n",
        "1. label\n",
        "- Target values`negative`, `nuetral` or `positive`.\n",
        "\n",
        "2. text\n",
        "- This is the text in context with cyber bulling that need to be sentimented `positive`, `nuetral` or `negative`\n",
        "\n",
        "We are going to extract features(text) and labels(targets) into numpy array and do some preprocessing on them. The preprocessing steps will be expained line by line.\n",
        "\n",
        "### Labels\n",
        "\n",
        "Our target values are already numeric so we don't need to do anything as we preprocess them in the previous notebook."
      ],
      "metadata": {
        "id": "lFMxv8_9plSD"
      }
    },
    {
      "cell_type": "code",
      "source": [
        "targets = dataframe.label.values"
      ],
      "metadata": {
        "id": "QvT3szi_DUN7"
      },
      "execution_count": 13,
      "outputs": []
    },
    {
      "cell_type": "markdown",
      "source": [
        "Checking the first and last `3` target values"
      ],
      "metadata": {
        "id": "5Co25VcPt1QC"
      }
    },
    {
      "cell_type": "code",
      "source": [
        "targets[:3], targets[-3:]"
      ],
      "metadata": {
        "colab": {
          "base_uri": "https://localhost:8080/"
        },
        "id": "p9uG6yMHDUK0",
        "outputId": "113f31b1-5ac4-4a42-9a0c-d1b9c134ab95"
      },
      "execution_count": 14,
      "outputs": [
        {
          "output_type": "execute_result",
          "data": {
            "text/plain": [
              "(array(['neutral', 'negative', 'negative'], dtype=object),\n",
              " array(['positive', 'positive', 'positive'], dtype=object))"
            ]
          },
          "metadata": {},
          "execution_count": 14
        }
      ]
    },
    {
      "cell_type": "markdown",
      "source": [
        "### Features (text)\n",
        "\n",
        "In the previous notebook we cleaned our text, so theres nothing that we are going for text cleaning on our features.\n"
      ],
      "metadata": {
        "id": "z9gSak0RxNq7"
      }
    },
    {
      "cell_type": "code",
      "source": [
        "texts = dataframe.text.values"
      ],
      "metadata": {
        "id": "tR2fBOY-DT4N"
      },
      "execution_count": 15,
      "outputs": []
    },
    {
      "cell_type": "code",
      "source": [
        "texts[:3]"
      ],
      "metadata": {
        "colab": {
          "base_uri": "https://localhost:8080/"
        },
        "id": "J9fWaRuItjse",
        "outputId": "69de41d4-abc9-483b-c5af-90b8e2bebf57"
      },
      "execution_count": 16,
      "outputs": [
        {
          "output_type": "execute_result",
          "data": {
            "text/plain": [
              "array(['need quality education',\n",
              "       'na still ipob is trying to bring nigerians from sudan with his aeroplane but and up papa dey twitter de vomit rubbish look at how nigerian politics has turned you to children of hate and bigots',\n",
              "       'disney packup your toys amp move to a liberal blue state dont take shit from republicans desantis aligned board votes to sue disney desantis aligned board votes to sue disney'],\n",
              "      dtype=object)"
            ]
          },
          "metadata": {},
          "execution_count": 16
        }
      ]
    },
    {
      "cell_type": "markdown",
      "source": [
        "### Balancing Dataset\n",
        "\n",
        "In the following code cell we are going to try to balance our class labels, as we saw in the visualization that our `positive` sentiments are more than others we are going to try to balance them with at least the `negative` sentiments. The reason i didn't want to balance all the `3` target values is that, i'm afraid we will trim more examples and the dataset will be very small.\n",
        "\n",
        "\n",
        "We will start by counting how may negative labels do we have in the following code cell."
      ],
      "metadata": {
        "id": "M8omPs6sIe5Y"
      }
    },
    {
      "cell_type": "code",
      "source": [
        "negative_label = 'negative'\n",
        "negative_count = list(targets).count(negative_label)\n",
        "negative_count"
      ],
      "metadata": {
        "colab": {
          "base_uri": "https://localhost:8080/"
        },
        "id": "Cl9lRuqiJMoU",
        "outputId": "a34734dd-b534-47bd-e41e-11e7a46051e5"
      },
      "execution_count": 17,
      "outputs": [
        {
          "output_type": "execute_result",
          "data": {
            "text/plain": [
              "77085"
            ]
          },
          "metadata": {},
          "execution_count": 17
        }
      ]
    },
    {
      "cell_type": "markdown",
      "source": [
        "Based on this negative count value we are going to create a new variable called dataset that will store a newly created dataset with positive and negative labels balanced."
      ],
      "metadata": {
        "id": "_D2TpFbRJRFA"
      }
    },
    {
      "cell_type": "code",
      "source": [
        "dataset = list()\n",
        "positive_count = 0\n",
        "neutral_count = 0\n",
        "for feature, label in zip(texts, targets):\n",
        "  if label == 'negative':\n",
        "    # negative add\n",
        "    dataset.append([feature, label])\n",
        "  elif label == 'neutral':\n",
        "     # balance the neutral and negative labels (neutral)\n",
        "    if negative_count == neutral_count:\n",
        "      continue\n",
        "    else:\n",
        "      neutral_count += 1\n",
        "      dataset.append([feature, label])\n",
        "  elif label == 'positive':\n",
        "    # balance the positive and negative labels (positive)\n",
        "    if negative_count == positive_count:\n",
        "      continue\n",
        "    else:\n",
        "      positive_count += 1\n",
        "      dataset.append([feature, label])"
      ],
      "metadata": {
        "id": "5iZzhwXQFF5Q"
      },
      "execution_count": 18,
      "outputs": []
    },
    {
      "cell_type": "markdown",
      "source": [
        "### Extracting balanced Features and labels.\n",
        "\n",
        "Balanced features and labels will be extracted in the following code cell. But before we do that we can shuffle them, just to make sure that labels shuffled and nice."
      ],
      "metadata": {
        "id": "uSOyBBd2GKra"
      }
    },
    {
      "cell_type": "code",
      "source": [
        "random.shuffle(dataset)"
      ],
      "metadata": {
        "id": "tLY8JnJ2GYD4"
      },
      "execution_count": 19,
      "outputs": []
    },
    {
      "cell_type": "code",
      "source": [
        "features = list()\n",
        "labels = list()\n",
        "\n",
        "for (feature, label) in dataset:\n",
        "  features.append(feature)\n",
        "  labels.append(label)\n",
        "\n",
        "# check just to make sure features and labels has the same length\n",
        "assert len(features) == len(labels), f\"Features and labels must have the same length recieved {len(features)} and {len(labels)}.\""
      ],
      "metadata": {
        "id": "Ye8FTnFxGp6t"
      },
      "execution_count": 20,
      "outputs": []
    },
    {
      "cell_type": "markdown",
      "source": [
        "### Checking the most common words\n",
        "\n",
        "In the following code cell we are going to use `wordcloud` package that we have imported with an alias `wc` and check the most appearing word in our dataset. Note that we can specify the `max_words` arg and the maximum number of words that you want your wordcloud to have. But in this one we are not going to have a look at that."
      ],
      "metadata": {
        "id": "dUVPtrmvt490"
      }
    },
    {
      "cell_type": "code",
      "source": [
        "full_text = \" \".join(features)"
      ],
      "metadata": {
        "id": "3VytUkG2uMn-"
      },
      "execution_count": 21,
      "outputs": []
    },
    {
      "cell_type": "code",
      "source": [
        "wordcloud = wc.WordCloud().generate(full_text)\n",
        "plt.imshow(wordcloud)\n",
        "plt.axis(\"off\")\n",
        "plt.show()"
      ],
      "metadata": {
        "colab": {
          "base_uri": "https://localhost:8080/",
          "height": 285
        },
        "id": "cCAoQ3d7uMiY",
        "outputId": "a94123fa-c57b-4f51-aeba-647293d8c21b"
      },
      "execution_count": 22,
      "outputs": [
        {
          "output_type": "display_data",
          "data": {
            "text/plain": [
              "<Figure size 640x480 with 1 Axes>"
            ],
            "image/png": "[encoded data removed]"
          },
          "metadata": {}
        }
      ]
    },
    {
      "cell_type": "markdown",
      "source": [
        "As we can see that the most appearing word in our corpus is `\"education\"` which is the parameter of interest of our study."
      ],
      "metadata": {
        "id": "RYZQ8cEGun6H"
      }
    },
    {
      "cell_type": "markdown",
      "source": [
        "### Generating sets.\n",
        "In machine learning (supervised machine learning) when creating models we need to have three sets of data which are:\n",
        "\n",
        "1. training\n",
        "2. validation\n",
        "3. testing\n",
        "\n",
        "\n",
        "1. `train` - The train set is used to train the model so that it will learn the mathematical mapping or relationship between features and labels. These features and labels must be at some point be converted to numerical values.\n",
        "\n",
        "2. `validation` - The validation set is the same as the test set but it's just that the validation set is used during model training and it is used to measure how accurate our model is becoming interms of metrics such as loss, accuracy, etc. Theoretically the validation set must come from a fraction of the train dataset but with test set transformation. The reason is being that the validation set must represent the test dataset as much as posible.\n",
        "\n",
        "3. `testing` - The testing set is the one that will completely measure how our model has learn the mappings between labels and features. In this set we wouldn't want our model to know about it inorder for us to have unbiased metric representation. I will explain later on more about this during model evaluation and model inference.\n",
        "\n",
        "> Note that in this notebook our `validation` data will come from the `train` examples.\n",
        "\n",
        "We are going to use the `train_test_split` method from `sklearn.model_selection` to split our dataset into different subsets. Note that we are going to set the `random_state` to our `SEED` for reproducivity and this also allows us to shuffle examples in our dataset. We don't want a case where we will have about `~10` negative reviews that follows each other they should be mixed so that our model won't overfit. We will explain more about the overfit part later on."
      ],
      "metadata": {
        "id": "ZL_rbfqRMq6Q"
      }
    },
    {
      "cell_type": "code",
      "source": [
        "train_text, test_text, train_labels, test_labels = train_test_split(\n",
        "    features, labels, random_state=SEED, test_size= .2\n",
        ")\n",
        "\n",
        "#  the validation set should come from the train examples\n",
        "train_text, val_text, train_labels, val_labels  = train_test_split(\n",
        "    train_text, train_labels, random_state=SEED, test_size= .2\n",
        ")"
      ],
      "metadata": {
        "id": "t4cRF5O6YoXS"
      },
      "execution_count": 23,
      "outputs": []
    },
    {
      "cell_type": "markdown",
      "source": [
        "### Saving splitted Examples\n",
        "Now that we have extracted the examples and labels for each of the following set:\n",
        "\n",
        "1. `train`\n",
        "2. `testing`\n",
        "3. `validation`\n",
        "\n",
        "We can create dataframes for each set and save `.csv` files for each set in the following way.\n",
        "\n",
        "1. `train.csv` - contains training data\n",
        "2. `testing.csv` - contains testing data\n",
        "3. `validation.csv` - contains validation data"
      ],
      "metadata": {
        "id": "OlYWWmPcVPps"
      }
    },
    {
      "cell_type": "code",
      "source": [
        "train_df = pd.DataFrame(zip(train_text, train_labels), columns=[\"text\", \"label\" ])\n",
        "test_df = pd.DataFrame(zip(test_text, test_labels), columns=[\"text\", \"label\" ])\n",
        "val_df = pd.DataFrame(zip(val_text, val_labels), columns=[\"text\", \"label\" ])"
      ],
      "metadata": {
        "id": "pQJUdb9QV0ut"
      },
      "execution_count": 24,
      "outputs": []
    },
    {
      "cell_type": "markdown",
      "source": [
        "Checking our dataframes.\n",
        "\n",
        "1. train dataframe"
      ],
      "metadata": {
        "id": "NrI9W7r5WTbL"
      }
    },
    {
      "cell_type": "code",
      "source": [
        "train_df.head(5)"
      ],
      "metadata": {
        "id": "kkR_iZ_SWWCA",
        "colab": {
          "base_uri": "https://localhost:8080/",
          "height": 206
        },
        "outputId": "d3e3d4b4-ecf7-454f-a60a-f27c7d71358a"
      },
      "execution_count": 25,
      "outputs": [
        {
          "output_type": "execute_result",
          "data": {
            "text/plain": [
              "                                                text     label\n",
              "0                   he is a stain on french politics   neutral\n",
              "1   i signed up for the education empowerment on may   neutral\n",
              "2  _robert _lib _mr _pilled i saw you th grade ed...   neutral\n",
              "3  this nc high school will close half of its res...  negative\n",
              "4  _views some parties have turned politics into ...   neutral"
            ],
            "text/html": [
              "\n",
              "  <div id=\"df-dcf10f8a-c180-4e7d-8875-11afc406278f\">\n",
              "    <div class=\"colab-df-container\">\n",
              "      <div>\n",
              "<style scoped>\n",
              "    .dataframe tbody tr th:only-of-type {\n",
              "        vertical-align: middle;\n",
              "    }\n",
              "\n",
              "    .dataframe tbody tr th {\n",
              "        vertical-align: top;\n",
              "    }\n",
              "\n",
              "    .dataframe thead th {\n",
              "        text-align: right;\n",
              "    }\n",
              "</style>\n",
              "<table border=\"1\" class=\"dataframe\">\n",
              "  <thead>\n",
              "    <tr style=\"text-align: right;\">\n",
              "      <th></th>\n",
              "      <th>text</th>\n",
              "      <th>label</th>\n",
              "    </tr>\n",
              "  </thead>\n",
              "  <tbody>\n",
              "    <tr>\n",
              "      <th>0</th>\n",
              "      <td>he is a stain on french politics</td>\n",
              "      <td>neutral</td>\n",
              "    </tr>\n",
              "    <tr>\n",
              "      <th>1</th>\n",
              "      <td>i signed up for the education empowerment on may</td>\n",
              "      <td>neutral</td>\n",
              "    </tr>\n",
              "    <tr>\n",
              "      <th>2</th>\n",
              "      <td>_robert _lib _mr _pilled i saw you th grade ed...</td>\n",
              "      <td>neutral</td>\n",
              "    </tr>\n",
              "    <tr>\n",
              "      <th>3</th>\n",
              "      <td>this nc high school will close half of its res...</td>\n",
              "      <td>negative</td>\n",
              "    </tr>\n",
              "    <tr>\n",
              "      <th>4</th>\n",
              "      <td>_views some parties have turned politics into ...</td>\n",
              "      <td>neutral</td>\n",
              "    </tr>\n",
              "  </tbody>\n",
              "</table>\n",
              "</div>\n",
              "      <button class=\"colab-df-convert\" onclick=\"convertToInteractive('df-dcf10f8a-c180-4e7d-8875-11afc406278f')\"\n",
              "              title=\"Convert this dataframe to an interactive table.\"\n",
              "              style=\"display:none;\">\n",
              "        \n",
              "  <svg xmlns=\"http://www.w3.org/2000/svg\" height=\"24px\"viewBox=\"0 0 24 24\"\n",
              "       width=\"24px\">\n",
              "    <path d=\"M0 0h24v24H0V0z\" fill=\"none\"/>\n",
              "    <path d=\"M18.56 5.44l.94 2.06.94-2.06 2.06-.94-2.06-.94-.94-2.06-.94 2.06-2.06.94zm-11 1L8.5 8.5l.94-2.06 2.06-.94-2.06-.94L8.5 2.5l-.94 2.06-2.06.94zm10 10l.94 2.06.94-2.06 2.06-.94-2.06-.94-.94-2.06-.94 2.06-2.06.94z\"/><path d=\"M17.41 7.96l-1.37-1.37c-.4-.4-.92-.59-1.43-.59-.52 0-1.04.2-1.43.59L10.3 9.45l-7.72 7.72c-.78.78-.78 2.05 0 2.83L4 21.41c.39.39.9.59 1.41.59.51 0 1.02-.2 1.41-.59l7.78-7.78 2.81-2.81c.8-.78.8-2.07 0-2.86zM5.41 20L4 18.59l7.72-7.72 1.47 1.35L5.41 20z\"/>\n",
              "  </svg>\n",
              "      </button>\n",
              "      \n",
              "  <style>\n",
              "    .colab-df-container {\n",
              "      display:flex;\n",
              "      flex-wrap:wrap;\n",
              "      gap: 12px;\n",
              "    }\n",
              "\n",
              "    .colab-df-convert {\n",
              "      background-color: #E8F0FE;\n",
              "      border: none;\n",
              "      border-radius: 50%;\n",
              "      cursor: pointer;\n",
              "      display: none;\n",
              "      fill: #1967D2;\n",
              "      height: 32px;\n",
              "      padding: 0 0 0 0;\n",
              "      width: 32px;\n",
              "    }\n",
              "\n",
              "    .colab-df-convert:hover {\n",
              "      background-color: #E2EBFA;\n",
              "      box-shadow: 0px 1px 2px rgba(60, 64, 67, 0.3), 0px 1px 3px 1px rgba(60, 64, 67, 0.15);\n",
              "      fill: #174EA6;\n",
              "    }\n",
              "\n",
              "    [theme=dark] .colab-df-convert {\n",
              "      background-color: #3B4455;\n",
              "      fill: #D2E3FC;\n",
              "    }\n",
              "\n",
              "    [theme=dark] .colab-df-convert:hover {\n",
              "      background-color: #434B5C;\n",
              "      box-shadow: 0px 1px 3px 1px rgba(0, 0, 0, 0.15);\n",
              "      filter: drop-shadow(0px 1px 2px rgba(0, 0, 0, 0.3));\n",
              "      fill: #FFFFFF;\n",
              "    }\n",
              "  </style>\n",
              "\n",
              "      <script>\n",
              "        const buttonEl =\n",
              "          document.querySelector('#df-dcf10f8a-c180-4e7d-8875-11afc406278f button.colab-df-convert');\n",
              "        buttonEl.style.display =\n",
              "          google.colab.kernel.accessAllowed ? 'block' : 'none';\n",
              "\n",
              "        async function convertToInteractive(key) {\n",
              "          const element = document.querySelector('#df-dcf10f8a-c180-4e7d-8875-11afc406278f');\n",
              "          const dataTable =\n",
              "            await google.colab.kernel.invokeFunction('convertToInteractive',\n",
              "                                                     [key], {});\n",
              "          if (!dataTable) return;\n",
              "\n",
              "          const docLinkHtml = 'Like what you see? Visit the ' +\n",
              "            '<a target=\"_blank\" href=https://colab.research.google.com/notebooks/data_table.ipynb>data table notebook</a>'\n",
              "            + ' to learn more about interactive tables.';\n",
              "          element.innerHTML = '';\n",
              "          dataTable['output_type'] = 'display_data';\n",
              "          await google.colab.output.renderOutput(dataTable, element);\n",
              "          const docLink = document.createElement('div');\n",
              "          docLink.innerHTML = docLinkHtml;\n",
              "          element.appendChild(docLink);\n",
              "        }\n",
              "      </script>\n",
              "    </div>\n",
              "  </div>\n",
              "  "
            ]
          },
          "metadata": {},
          "execution_count": 25
        }
      ]
    },
    {
      "cell_type": "markdown",
      "source": [
        "2. test dataframe"
      ],
      "metadata": {
        "id": "RSYqWHX1WcR9"
      }
    },
    {
      "cell_type": "code",
      "source": [
        "test_df.head(5)"
      ],
      "metadata": {
        "id": "TT4MH9TYWWwg",
        "colab": {
          "base_uri": "https://localhost:8080/",
          "height": 206
        },
        "outputId": "72d3aff2-b044-41e7-defa-65cd703e3e06"
      },
      "execution_count": 26,
      "outputs": [
        {
          "output_type": "execute_result",
          "data": {
            "text/plain": [
              "                                                text     label\n",
              "0  and clearly anyone with a real education knows...  positive\n",
              "1  schumer 'hopeful' ailing sen feinstein returns...  negative\n",
              "2  it is rotten from top to bottom the only cuts ...   neutral\n",
              "3  orientation implementation of physical educati...   neutral\n",
              "4  free analysis live around improve politics nat...  positive"
            ],
            "text/html": [
              "\n",
              "  <div id=\"df-48cf0620-e3d5-487d-bb01-b721bf42f657\">\n",
              "    <div class=\"colab-df-container\">\n",
              "      <div>\n",
              "<style scoped>\n",
              "    .dataframe tbody tr th:only-of-type {\n",
              "        vertical-align: middle;\n",
              "    }\n",
              "\n",
              "    .dataframe tbody tr th {\n",
              "        vertical-align: top;\n",
              "    }\n",
              "\n",
              "    .dataframe thead th {\n",
              "        text-align: right;\n",
              "    }\n",
              "</style>\n",
              "<table border=\"1\" class=\"dataframe\">\n",
              "  <thead>\n",
              "    <tr style=\"text-align: right;\">\n",
              "      <th></th>\n",
              "      <th>text</th>\n",
              "      <th>label</th>\n",
              "    </tr>\n",
              "  </thead>\n",
              "  <tbody>\n",
              "    <tr>\n",
              "      <th>0</th>\n",
              "      <td>and clearly anyone with a real education knows...</td>\n",
              "      <td>positive</td>\n",
              "    </tr>\n",
              "    <tr>\n",
              "      <th>1</th>\n",
              "      <td>schumer 'hopeful' ailing sen feinstein returns...</td>\n",
              "      <td>negative</td>\n",
              "    </tr>\n",
              "    <tr>\n",
              "      <th>2</th>\n",
              "      <td>it is rotten from top to bottom the only cuts ...</td>\n",
              "      <td>neutral</td>\n",
              "    </tr>\n",
              "    <tr>\n",
              "      <th>3</th>\n",
              "      <td>orientation implementation of physical educati...</td>\n",
              "      <td>neutral</td>\n",
              "    </tr>\n",
              "    <tr>\n",
              "      <th>4</th>\n",
              "      <td>free analysis live around improve politics nat...</td>\n",
              "      <td>positive</td>\n",
              "    </tr>\n",
              "  </tbody>\n",
              "</table>\n",
              "</div>\n",
              "      <button class=\"colab-df-convert\" onclick=\"convertToInteractive('df-48cf0620-e3d5-487d-bb01-b721bf42f657')\"\n",
              "              title=\"Convert this dataframe to an interactive table.\"\n",
              "              style=\"display:none;\">\n",
              "        \n",
              "  <svg xmlns=\"http://www.w3.org/2000/svg\" height=\"24px\"viewBox=\"0 0 24 24\"\n",
              "       width=\"24px\">\n",
              "    <path d=\"M0 0h24v24H0V0z\" fill=\"none\"/>\n",
              "    <path d=\"M18.56 5.44l.94 2.06.94-2.06 2.06-.94-2.06-.94-.94-2.06-.94 2.06-2.06.94zm-11 1L8.5 8.5l.94-2.06 2.06-.94-2.06-.94L8.5 2.5l-.94 2.06-2.06.94zm10 10l.94 2.06.94-2.06 2.06-.94-2.06-.94-.94-2.06-.94 2.06-2.06.94z\"/><path d=\"M17.41 7.96l-1.37-1.37c-.4-.4-.92-.59-1.43-.59-.52 0-1.04.2-1.43.59L10.3 9.45l-7.72 7.72c-.78.78-.78 2.05 0 2.83L4 21.41c.39.39.9.59 1.41.59.51 0 1.02-.2 1.41-.59l7.78-7.78 2.81-2.81c.8-.78.8-2.07 0-2.86zM5.41 20L4 18.59l7.72-7.72 1.47 1.35L5.41 20z\"/>\n",
              "  </svg>\n",
              "      </button>\n",
              "      \n",
              "  <style>\n",
              "    .colab-df-container {\n",
              "      display:flex;\n",
              "      flex-wrap:wrap;\n",
              "      gap: 12px;\n",
              "    }\n",
              "\n",
              "    .colab-df-convert {\n",
              "      background-color: #E8F0FE;\n",
              "      border: none;\n",
              "      border-radius: 50%;\n",
              "      cursor: pointer;\n",
              "      display: none;\n",
              "      fill: #1967D2;\n",
              "      height: 32px;\n",
              "      padding: 0 0 0 0;\n",
              "      width: 32px;\n",
              "    }\n",
              "\n",
              "    .colab-df-convert:hover {\n",
              "      background-color: #E2EBFA;\n",
              "      box-shadow: 0px 1px 2px rgba(60, 64, 67, 0.3), 0px 1px 3px 1px rgba(60, 64, 67, 0.15);\n",
              "      fill: #174EA6;\n",
              "    }\n",
              "\n",
              "    [theme=dark] .colab-df-convert {\n",
              "      background-color: #3B4455;\n",
              "      fill: #D2E3FC;\n",
              "    }\n",
              "\n",
              "    [theme=dark] .colab-df-convert:hover {\n",
              "      background-color: #434B5C;\n",
              "      box-shadow: 0px 1px 3px 1px rgba(0, 0, 0, 0.15);\n",
              "      filter: drop-shadow(0px 1px 2px rgba(0, 0, 0, 0.3));\n",
              "      fill: #FFFFFF;\n",
              "    }\n",
              "  </style>\n",
              "\n",
              "      <script>\n",
              "        const buttonEl =\n",
              "          document.querySelector('#df-48cf0620-e3d5-487d-bb01-b721bf42f657 button.colab-df-convert');\n",
              "        buttonEl.style.display =\n",
              "          google.colab.kernel.accessAllowed ? 'block' : 'none';\n",
              "\n",
              "        async function convertToInteractive(key) {\n",
              "          const element = document.querySelector('#df-48cf0620-e3d5-487d-bb01-b721bf42f657');\n",
              "          const dataTable =\n",
              "            await google.colab.kernel.invokeFunction('convertToInteractive',\n",
              "                                                     [key], {});\n",
              "          if (!dataTable) return;\n",
              "\n",
              "          const docLinkHtml = 'Like what you see? Visit the ' +\n",
              "            '<a target=\"_blank\" href=https://colab.research.google.com/notebooks/data_table.ipynb>data table notebook</a>'\n",
              "            + ' to learn more about interactive tables.';\n",
              "          element.innerHTML = '';\n",
              "          dataTable['output_type'] = 'display_data';\n",
              "          await google.colab.output.renderOutput(dataTable, element);\n",
              "          const docLink = document.createElement('div');\n",
              "          docLink.innerHTML = docLinkHtml;\n",
              "          element.appendChild(docLink);\n",
              "        }\n",
              "      </script>\n",
              "    </div>\n",
              "  </div>\n",
              "  "
            ]
          },
          "metadata": {},
          "execution_count": 26
        }
      ]
    },
    {
      "cell_type": "markdown",
      "source": [
        "3. validatation dataframe"
      ],
      "metadata": {
        "id": "R9M3QhFMWhrR"
      }
    },
    {
      "cell_type": "code",
      "source": [
        "val_df.head(5)"
      ],
      "metadata": {
        "id": "W7sY1wzjWWik",
        "colab": {
          "base_uri": "https://localhost:8080/",
          "height": 206
        },
        "outputId": "0fd3ae12-197b-459c-b24f-af723cb4b50f"
      },
      "execution_count": 27,
      "outputs": [
        {
          "output_type": "execute_result",
          "data": {
            "text/plain": [
              "                                                text     label\n",
              "0  first republic bank crisis plunges biden team ...  negative\n",
              "1  green party co leader marama davidson can not ...  negative\n",
              "2  keynote speakers confirmed at you will hear fr...  positive\n",
              "3  _parn _lucre you are in wa why such a vested i...   neutral\n",
              "4  does anyone care what the chamber of commerce ...  positive"
            ],
            "text/html": [
              "\n",
              "  <div id=\"df-b4be1776-c315-4172-b381-941379d16be8\">\n",
              "    <div class=\"colab-df-container\">\n",
              "      <div>\n",
              "<style scoped>\n",
              "    .dataframe tbody tr th:only-of-type {\n",
              "        vertical-align: middle;\n",
              "    }\n",
              "\n",
              "    .dataframe tbody tr th {\n",
              "        vertical-align: top;\n",
              "    }\n",
              "\n",
              "    .dataframe thead th {\n",
              "        text-align: right;\n",
              "    }\n",
              "</style>\n",
              "<table border=\"1\" class=\"dataframe\">\n",
              "  <thead>\n",
              "    <tr style=\"text-align: right;\">\n",
              "      <th></th>\n",
              "      <th>text</th>\n",
              "      <th>label</th>\n",
              "    </tr>\n",
              "  </thead>\n",
              "  <tbody>\n",
              "    <tr>\n",
              "      <th>0</th>\n",
              "      <td>first republic bank crisis plunges biden team ...</td>\n",
              "      <td>negative</td>\n",
              "    </tr>\n",
              "    <tr>\n",
              "      <th>1</th>\n",
              "      <td>green party co leader marama davidson can not ...</td>\n",
              "      <td>negative</td>\n",
              "    </tr>\n",
              "    <tr>\n",
              "      <th>2</th>\n",
              "      <td>keynote speakers confirmed at you will hear fr...</td>\n",
              "      <td>positive</td>\n",
              "    </tr>\n",
              "    <tr>\n",
              "      <th>3</th>\n",
              "      <td>_parn _lucre you are in wa why such a vested i...</td>\n",
              "      <td>neutral</td>\n",
              "    </tr>\n",
              "    <tr>\n",
              "      <th>4</th>\n",
              "      <td>does anyone care what the chamber of commerce ...</td>\n",
              "      <td>positive</td>\n",
              "    </tr>\n",
              "  </tbody>\n",
              "</table>\n",
              "</div>\n",
              "      <button class=\"colab-df-convert\" onclick=\"convertToInteractive('df-b4be1776-c315-4172-b381-941379d16be8')\"\n",
              "              title=\"Convert this dataframe to an interactive table.\"\n",
              "              style=\"display:none;\">\n",
              "        \n",
              "  <svg xmlns=\"http://www.w3.org/2000/svg\" height=\"24px\"viewBox=\"0 0 24 24\"\n",
              "       width=\"24px\">\n",
              "    <path d=\"M0 0h24v24H0V0z\" fill=\"none\"/>\n",
              "    <path d=\"M18.56 5.44l.94 2.06.94-2.06 2.06-.94-2.06-.94-.94-2.06-.94 2.06-2.06.94zm-11 1L8.5 8.5l.94-2.06 2.06-.94-2.06-.94L8.5 2.5l-.94 2.06-2.06.94zm10 10l.94 2.06.94-2.06 2.06-.94-2.06-.94-.94-2.06-.94 2.06-2.06.94z\"/><path d=\"M17.41 7.96l-1.37-1.37c-.4-.4-.92-.59-1.43-.59-.52 0-1.04.2-1.43.59L10.3 9.45l-7.72 7.72c-.78.78-.78 2.05 0 2.83L4 21.41c.39.39.9.59 1.41.59.51 0 1.02-.2 1.41-.59l7.78-7.78 2.81-2.81c.8-.78.8-2.07 0-2.86zM5.41 20L4 18.59l7.72-7.72 1.47 1.35L5.41 20z\"/>\n",
              "  </svg>\n",
              "      </button>\n",
              "      \n",
              "  <style>\n",
              "    .colab-df-container {\n",
              "      display:flex;\n",
              "      flex-wrap:wrap;\n",
              "      gap: 12px;\n",
              "    }\n",
              "\n",
              "    .colab-df-convert {\n",
              "      background-color: #E8F0FE;\n",
              "      border: none;\n",
              "      border-radius: 50%;\n",
              "      cursor: pointer;\n",
              "      display: none;\n",
              "      fill: #1967D2;\n",
              "      height: 32px;\n",
              "      padding: 0 0 0 0;\n",
              "      width: 32px;\n",
              "    }\n",
              "\n",
              "    .colab-df-convert:hover {\n",
              "      background-color: #E2EBFA;\n",
              "      box-shadow: 0px 1px 2px rgba(60, 64, 67, 0.3), 0px 1px 3px 1px rgba(60, 64, 67, 0.15);\n",
              "      fill: #174EA6;\n",
              "    }\n",
              "\n",
              "    [theme=dark] .colab-df-convert {\n",
              "      background-color: #3B4455;\n",
              "      fill: #D2E3FC;\n",
              "    }\n",
              "\n",
              "    [theme=dark] .colab-df-convert:hover {\n",
              "      background-color: #434B5C;\n",
              "      box-shadow: 0px 1px 3px 1px rgba(0, 0, 0, 0.15);\n",
              "      filter: drop-shadow(0px 1px 2px rgba(0, 0, 0, 0.3));\n",
              "      fill: #FFFFFF;\n",
              "    }\n",
              "  </style>\n",
              "\n",
              "      <script>\n",
              "        const buttonEl =\n",
              "          document.querySelector('#df-b4be1776-c315-4172-b381-941379d16be8 button.colab-df-convert');\n",
              "        buttonEl.style.display =\n",
              "          google.colab.kernel.accessAllowed ? 'block' : 'none';\n",
              "\n",
              "        async function convertToInteractive(key) {\n",
              "          const element = document.querySelector('#df-b4be1776-c315-4172-b381-941379d16be8');\n",
              "          const dataTable =\n",
              "            await google.colab.kernel.invokeFunction('convertToInteractive',\n",
              "                                                     [key], {});\n",
              "          if (!dataTable) return;\n",
              "\n",
              "          const docLinkHtml = 'Like what you see? Visit the ' +\n",
              "            '<a target=\"_blank\" href=https://colab.research.google.com/notebooks/data_table.ipynb>data table notebook</a>'\n",
              "            + ' to learn more about interactive tables.';\n",
              "          element.innerHTML = '';\n",
              "          dataTable['output_type'] = 'display_data';\n",
              "          await google.colab.output.renderOutput(dataTable, element);\n",
              "          const docLink = document.createElement('div');\n",
              "          docLink.innerHTML = docLinkHtml;\n",
              "          element.appendChild(docLink);\n",
              "        }\n",
              "      </script>\n",
              "    </div>\n",
              "  </div>\n",
              "  "
            ]
          },
          "metadata": {},
          "execution_count": 27
        }
      ]
    },
    {
      "cell_type": "markdown",
      "source": [
        "Now that we have text matched to labels, we can go ahead and save the `csv` files for these `3` different sets of data"
      ],
      "metadata": {
        "id": "_1ZlqozUWqGl"
      }
    },
    {
      "cell_type": "code",
      "source": [
        "train_df.to_csv(os.path.join(base_path, \"train.csv\"),  index = False, header = True)\n",
        "test_df.to_csv(os.path.join(base_path, \"test.csv\"),  index = False, header = True)\n",
        "val_df.to_csv(os.path.join(base_path, \"val.csv\"),  index = False, header = True)\n",
        "print(\"Done\")"
      ],
      "metadata": {
        "id": "KocC8g_2WwIY",
        "colab": {
          "base_uri": "https://localhost:8080/"
        },
        "outputId": "e5b8ff32-b423-49d4-9972-94e64ba59d67"
      },
      "execution_count": 28,
      "outputs": [
        {
          "output_type": "stream",
          "name": "stdout",
          "text": [
            "Done\n"
          ]
        }
      ]
    },
    {
      "cell_type": "markdown",
      "source": [
        "### Counting and visualizing examples\n",
        "\n",
        "In this section we are going to do data visualisation in terms of plots and tables. We are going to count examples for each subset and then we will the visualize by the use of a table. Another thing that we can do is to count and visualize how the `labels` are distributed in terms of number in each set. So we will count how many examples are in each set and visualize them using a bar graph.\n",
        "\n",
        " We can use a helper function from `helperfns` package that is called `tabulate_data` to do this."
      ],
      "metadata": {
        "id": "WlXHwgOtZnT7"
      }
    },
    {
      "cell_type": "code",
      "source": [
        "columns = [\n",
        "    \"Set\", \"Total\", \"Neutral\", \"Negative\", \"Positive\"\n",
        "]\n",
        "examples = [\n",
        "   (\"training\", len(train_labels), list(train_labels).count('neutral'), list(train_labels).count('negative'), list(train_labels).count('positive')),\n",
        "    (\"testing\", len(test_labels), list(test_labels).count('neutral'), list(test_labels).count('negative'), list(test_labels).count('positive')),\n",
        "    (\"validation\", len(val_labels), list(val_labels).count('neutral'), list(val_labels).count('negative'), list(val_labels).count('positive')),\n",
        "   (\"total\", len(labels), list(labels).count('neutral'), list(labels).count('negative'), list(labels).count('positive')),\n",
        "]\n",
        "tabulate_data(columns, examples, \"Exmples\")"
      ],
      "metadata": {
        "id": "7GIOUrPOYrxK",
        "colab": {
          "base_uri": "https://localhost:8080/"
        },
        "outputId": "3756b926-fc1a-4cce-a19d-4aed67caf040"
      },
      "execution_count": 29,
      "outputs": [
        {
          "output_type": "stream",
          "name": "stdout",
          "text": [
            "+------------+--------+---------+----------+----------+\n",
            "| Set        |  Total | Neutral | Negative | Positive |\n",
            "+------------+--------+---------+----------+----------+\n",
            "| training   | 148003 |   49380 |    49365 |    49258 |\n",
            "| testing    |  46251 |   15297 |    15557 |    15397 |\n",
            "| validation |  37001 |   12408 |    12163 |    12430 |\n",
            "| total      | 231255 |   77085 |    77085 |    77085 |\n",
            "+------------+--------+---------+----------+----------+\n"
          ]
        }
      ]
    },
    {
      "cell_type": "markdown",
      "source": [
        "### Preparing Features(texts) and Labels(labels) for model training.\n",
        "\n",
        "In deep learning/machine learning model does not take in raw data such as text. We need to convert text to a sequence of integer representation and have a word to index lookup for a word to an integer also known as a `vocabulary`. First let's get some features and labels from our different sets.\n"
      ],
      "metadata": {
        "id": "GSb1CWD5QCQ8"
      }
    },
    {
      "cell_type": "code",
      "source": [
        "# train\n",
        "train_texts = train_df.text.values\n",
        "train_labels = train_df.label.values\n",
        "\n",
        "# test\n",
        "test_texts = test_df.text.values\n",
        "test_labels = test_df.label.values\n",
        "\n",
        "# val\n",
        "val_texts = val_df.text.values\n",
        "val_labels = val_df.label.values"
      ],
      "metadata": {
        "id": "Lwjsg2_mY12S"
      },
      "execution_count": 30,
      "outputs": []
    },
    {
      "cell_type": "markdown",
      "source": [
        "### Labels preprocessing\n",
        "\n",
        "Our labels for now are just `textual` (`positive`, `negative` or `neutral`). We also need to convert these labels into numbers. This is very simple what we need to do is to get all the uniqe labels and then create a `labels_vocab` which is a label to integer representation.\n",
        "\n",
        "As you have noticed we have `3` labels which are sentiments that we need to predict given a sequence of words or a single tweet.\n",
        "\n",
        "The `label_pipeline` function will them takes in the label and then returns us an integer representation of that label.\n",
        "\n"
      ],
      "metadata": {
        "id": "-OFSMsherRa1"
      }
    },
    {
      "cell_type": "code",
      "source": [
        "sentiments = train_df.label.unique()\n",
        "sentiments"
      ],
      "metadata": {
        "id": "X3K2mxqtgqkB",
        "colab": {
          "base_uri": "https://localhost:8080/"
        },
        "outputId": "98e2dfd0-dbe1-4ab6-aa8a-4eb1dd1d71ba"
      },
      "execution_count": 31,
      "outputs": [
        {
          "output_type": "execute_result",
          "data": {
            "text/plain": [
              "array(['neutral', 'negative', 'positive'], dtype=object)"
            ]
          },
          "metadata": {},
          "execution_count": 31
        }
      ]
    },
    {
      "cell_type": "code",
      "source": [
        "labels_dict = {k: v for v, k in enumerate([d.lower() for d in sentiments])}\n",
        "label_pipeline = lambda x: labels_dict[x]"
      ],
      "metadata": {
        "id": "Vqc5o9yhe_MM"
      },
      "execution_count": 32,
      "outputs": []
    },
    {
      "cell_type": "markdown",
      "source": [
        "### Feature Extraction\n",
        "\n",
        "In deep learning, feature extraction is the process of transforming raw data into numerical features that can be processed while preserving the information in the original data set. In this section we are going to preprocess our text(features) so that we will get the numerical representation of our text. \n",
        "\n",
        "There are a lot of ways we can do to convert these sentences in sequence of numbers one of the common way of doing which is older is using something called `\"The Bag Of Words\"` which has some limmitations. In this case we are not going to use it. We are going to take advantage of our `torchtext` library to create our `vocabulary`\n",
        "\n",
        "\n",
        "### What is a vocabulary?\n",
        "\n",
        "A vocabulary is esentially a `word` to `index` mapping that allows us to reference the word with their integer representation, since machine leaning models does not understand words. This vocabulary will be used during model `training` and also can be used as reference during model `inference`. Our vocabulary will be created based on the sentences that are in the train dataset. \n",
        "\n",
        "\n",
        "### Text Preprocessing\n",
        "In our text processing pipeline we need to do the following steps:\n",
        "\n",
        "1. tokenize sentences\n",
        "* this is the process of converting a sentence or text into senquence of word. For this process we are going to use a pre-trained model from `spacy` language model. You can read more about other tokenizers that you can use at [pytorch.org](https://pytorch.org/text/stable/data_utils.html).\n",
        "2. vocabulary\n",
        "We neet to create a vocabulary.\n",
        "\n",
        "\n",
        "### Tokenizer\n",
        "\n",
        "In the following code cell we are going to get a tokenier object that will convert a sentence into a sequence of word using the `spacy-en` language model. The reason we are using the english langauge model it's because our intents are in english."
      ],
      "metadata": {
        "id": "IlLCBy24z8xU"
      }
    },
    {
      "cell_type": "code",
      "source": [
        "tokenizer = data.utils.get_tokenizer('spacy', 'en')\n",
        "tokenizer(\"cyber bullying is bad.\")"
      ],
      "metadata": {
        "id": "n8o4sqRgy7IJ",
        "colab": {
          "base_uri": "https://localhost:8080/"
        },
        "outputId": "94e4ad5f-8552-4828-b9f9-60410f299520"
      },
      "execution_count": 33,
      "outputs": [
        {
          "output_type": "stream",
          "name": "stderr",
          "text": [
            "/usr/local/lib/python3.10/dist-packages/torchtext/data/utils.py:105: UserWarning: Spacy model \"en\" could not be loaded, trying \"en_core_web_sm\" instead\n",
            "  warnings.warn(\n"
          ]
        },
        {
          "output_type": "execute_result",
          "data": {
            "text/plain": [
              "['cyber', 'bullying', 'is', 'bad', '.']"
            ]
          },
          "metadata": {},
          "execution_count": 33
        }
      ]
    },
    {
      "cell_type": "markdown",
      "source": [
        "### Creating a Vocabulary\n",
        "\n",
        "I call this one the brain or memory of the model in NLP. A vocabulary is an index to word lookup. It is nothing but a python ordered dictionary with words as `keys` and `indices` as values. A vocabulary can look as follows:\n",
        "\n",
        "```json\n",
        "{\"-pad-\": 0, \"-unk-\": 1, \"the\": 2, \"is\": 3, .....}\n",
        "```\n",
        "\n",
        "In the following code cell we are going to create a vocabulary object from `torchtext`. So we are going to use the `Counter` module from collections to generate these counts from our train features.\n",
        "\n",
        "We are going to specify the `min_freq` to `2` meaning that the words that does not appear at least `2`  does not have an impact in our corpus times and will be converted to unknown. We are also going to specify the special tokens during creation of the vocabulary object."
      ],
      "metadata": {
        "id": "pgUstf5m3I3B"
      }
    },
    {
      "cell_type": "code",
      "source": [
        "counter = Counter()\n",
        "for line in train_texts:\n",
        "  counter.update(tokenizer(line))\n",
        "#  our special tokens are (unknown, padding, start of sentence, end of sentence)\n",
        "vocabulary = vocab.vocab(counter, min_freq=2, specials=('-unk-', '-pad-', '-sos-', '-eos-'))"
      ],
      "metadata": {
        "id": "TckT4lRby6zY"
      },
      "execution_count": 34,
      "outputs": []
    },
    {
      "cell_type": "markdown",
      "source": [
        "### STOI - String To Integer\n",
        "\n",
        "This will be a dictionary that contains a `string` to `integer` mapping which will be our actual vocabulary. In the following code cell we are going to create object called `stoi` which is essentially a dictionary of word to index mapping. This dictionary will be used during training as well as during model inference."
      ],
      "metadata": {
        "id": "FRT8QbBM7EkM"
      }
    },
    {
      "cell_type": "code",
      "source": [
        "stoi = vocabulary.get_stoi()"
      ],
      "metadata": {
        "id": "H4arOjvGy6wc"
      },
      "execution_count": 35,
      "outputs": []
    },
    {
      "cell_type": "markdown",
      "source": [
        "### Text Pipeline\n",
        "After our text has been tokenized we need a way of converting those words into numbers because machine leaning models understand numbers not words. That's where we the `text_pipeline` function comes into play. So this function takes in a sentence and tokenize it then converts each word to a number. Note that the word that does not exists in the vocabulay (`stoi`) will be converted to an unkown `-unk-` token (`0`)."
      ],
      "metadata": {
        "id": "RkjvB6J69Pxp"
      }
    },
    {
      "cell_type": "code",
      "source": [
        "def text_pipeline(x: str):\n",
        "  values = list()\n",
        "  tokens = tokenizer(x.lower()) # convert to lower case.\n",
        "  for token in tokens:\n",
        "    try:\n",
        "      v = stoi[token]\n",
        "    except KeyError as e:\n",
        "      v = stoi['-unk-']\n",
        "    values.append(v)\n",
        "  return values\n"
      ],
      "metadata": {
        "id": "6oi2uhbfy6rN"
      },
      "execution_count": 36,
      "outputs": []
    },
    {
      "cell_type": "markdown",
      "source": [
        "Let's create a function that will be able to converts tokens of integers to tokens of `string`. We aregoing to name this function `tokens_to_sequence`. But first we need to invernt the `stoi` to an `itos` dictionary which is a dictionary that contains `integers` and `keys` and `string` as `values`. "
      ],
      "metadata": {
        "id": "P3bcMyKwtsVr"
      }
    },
    {
      "cell_type": "code",
      "source": [
        "itos = {v: k for k, v in stoi.items()}\n",
        "def tokens_to_sequence(sequence: list[int]) -> list[str]:\n",
        "  return [itos[i] for i in sequence]\n",
        "tokens_to_sequence([1, 2, 3, 6])"
      ],
      "metadata": {
        "colab": {
          "base_uri": "https://localhost:8080/"
        },
        "id": "NwankOMWtlAb",
        "outputId": "b1d48a38-ec48-4254-e56e-8c3a5359a980"
      },
      "execution_count": 37,
      "outputs": [
        {
          "output_type": "execute_result",
          "data": {
            "text/plain": [
              "['-pad-', '-sos-', '-eos-', 'a']"
            ]
          },
          "metadata": {},
          "execution_count": 37
        }
      ]
    },
    {
      "cell_type": "markdown",
      "source": [
        "Now that we have our vocabularies for labels `labels_dict` and features `stoi` we can then save thes files as they will be used suring model inference. We are going to save these files as `.json` files."
      ],
      "metadata": {
        "id": "s8gr6-G4ddX0"
      }
    },
    {
      "cell_type": "code",
      "source": [
        "with open(os.path.join(base_path, \"vocab.json\"), 'w') as f:\n",
        "  f.write(json.dumps(stoi, indent=2))\n",
        "\n",
        "with open(os.path.join(base_path, \"labels_dict.json\"), 'w') as f:\n",
        "  f.write(json.dumps(labels_dict, indent=2))\n",
        "\n",
        "print(\"Saved!!\")"
      ],
      "metadata": {
        "id": "UhcNSS9Zdjel",
        "colab": {
          "base_uri": "https://localhost:8080/"
        },
        "outputId": "640c55b4-6d30-44c6-fdeb-2ed602351211"
      },
      "execution_count": 38,
      "outputs": [
        {
          "output_type": "stream",
          "name": "stdout",
          "text": [
            "Saved!!\n"
          ]
        }
      ]
    },
    {
      "cell_type": "markdown",
      "source": [
        "Now our features and labels are ready for model training we are now introducing a new important asspect in natural langauage processing which is nothing but.\n",
        "\n",
        "### Word Embeddings\n",
        "Embeddings transform a `one-hot` encoded vector (a vector that is 0 in elements except one, which is 1) into a much smaller dimension vector of real numbers. The `one-hot` encoded vector is also known as a `sparse vector`, whilst the real valued vector is known as a `dense vector`.\n",
        "\n",
        "The key concept in these word embeddings is that words that appear in similar contexts appear nearby in the vector space, i.e. the **Euclidean distance** between these two word vectors is small. By context here, we mean the surrounding words. For example in the sentences `\"I purchased some items at the shop\"` and `\"I purchased some items at the store\"` the words `'shop'` and `'store'` appear in the same context and thus should be close together in vector space, this means that the **Euclidean distance** between the word `shop` and `store` is very small.\n",
        "\n",
        "> If you want to read more about word embeddings you can visit this notebook [CrispenGari/pytorch-python](https://github.com/CrispenGari/pytorch-python/blob/main/09_NLP/02_Sentiment_Analyisis_Series/10_A_closer_look_on_Word_Embeddings.ipynb) for better understanding in theory.\n",
        "\n",
        "If you are an expert in NLP you may have heard that `'woman'` added to the vector of `'king'` minus the vector of `'man'` give us `'queen'`. \n",
        "\n",
        "### Why does this work?\n",
        "\n",
        "If we think about it, the vector calculated from `'king'` minus `'man'` gives us a `\"royalty vector\"`. This is the vector associated with traveling from a man to his royal counterpart, a king. If we add this `\"royality vector\"` to `'woman'`, this should travel to her royal equivalent, which is a `queen`! \n",
        "\n",
        "For better understanding of this consept visit the notebook that I've referenced.\n",
        "\n",
        "### Glove Word Vectors\n",
        "\n",
        "We are going to load the `Glove.6B.100d.txt` file as our pretrained word vectors. As the name suggested these vectors was trained with `~6B` words and has `100` dimension vectors. `GloVe` vectors are available in `50`, `100`, `200` and `300` dimensions. There is also a `42B` and `840B` glove vectors, however they are only available at `300` dimensions.\n",
        "\n",
        "### Why are we even loading Word vectors in our model?\n",
        "\n",
        "We want to create a general purpose sentment analyizer model that will be able to classify sentiments accurately. These pretrained word embeddings gives us a super power so that our model can easily learn the mappings between labels and features within a short period of time with only few epochs.\n",
        "\n",
        "\n",
        "In the following code cell we are going to load the `embedding` vectors from a txt file into an embedding dictionary.\n",
        "\n",
        "\n",
        "In the following code cell we are going to download the predtrained word vectors. We are going to use the `GloVe.6B.100d`. These are pretrained vectors that were trained with about `~6B` words and have a vector representation of a word in `100` dimension for each word."
      ],
      "metadata": {
        "id": "U8xPvKskEhlC"
      }
    },
    {
      "cell_type": "code",
      "source": [
        "EMBEDDING_DIM = 100\n",
        "glove_vectors = vocab.GloVe('6B', dim=EMBEDDING_DIM)"
      ],
      "metadata": {
        "id": "729zJw4Zd3YM",
        "colab": {
          "base_uri": "https://localhost:8080/"
        },
        "outputId": "839573a7-4ec6-426a-ca59-402e1b1ae863"
      },
      "execution_count": 39,
      "outputs": [
        {
          "output_type": "stream",
          "name": "stderr",
          "text": [
            ".vector_cache/glove.6B.zip: 862MB [02:41, 5.33MB/s]                           \n",
            "100%|█████████▉| 399999/400000 [00:17<00:00, 22723.57it/s]\n"
          ]
        }
      ]
    },
    {
      "cell_type": "markdown",
      "source": [
        "### Creating Embedding matrix\n",
        "Now that we have our glove vectors we need to costomize them so that they fit our use case. We are going to create an embedding matrix that suits the our vocabulary. So essentially this embedding matrix will be the word to vector mapping for all the words that arein our vocabulary."
      ],
      "metadata": {
        "id": "MPcFEq6yebW8"
      }
    },
    {
      "cell_type": "code",
      "source": [
        "VOCAB_SIZE = len(stoi)\n",
        "EMBEDDING_MATRIX= torch.zeros([VOCAB_SIZE, EMBEDDING_DIM])\n",
        "for i, word in enumerate(vocabulary.get_itos()):\n",
        "  EMBEDDING_MATRIX[i] = glove_vectors[word]"
      ],
      "metadata": {
        "id": "LgqYTppPegO_"
      },
      "execution_count": 40,
      "outputs": []
    },
    {
      "cell_type": "markdown",
      "source": [
        "In the followig code cell we are going to check the embedding matrix for the word `\"bad\"`."
      ],
      "metadata": {
        "id": "T9rO5d3iekv9"
      }
    },
    {
      "cell_type": "code",
      "source": [
        "EMBEDDING_MATRIX[stoi['bad']]"
      ],
      "metadata": {
        "id": "Q6zm8ZO1ehLn",
        "colab": {
          "base_uri": "https://localhost:8080/"
        },
        "outputId": "ce6a4b77-70f7-4d51-cafb-a69333c9d08a"
      },
      "execution_count": 41,
      "outputs": [
        {
          "output_type": "execute_result",
          "data": {
            "text/plain": [
              "tensor([ 0.3946, -0.2472,  1.0319, -0.6144, -1.2376,  0.0518, -0.5511, -0.3101,\n",
              "        -0.0257, -0.2471,  0.2584,  0.3490,  0.4618,  0.4424,  0.3540,  0.2126,\n",
              "        -0.2631, -0.1713,  0.4401,  1.1284,  0.3726,  0.4197, -0.2534, -0.0519,\n",
              "        -0.3492,  0.1530, -0.6844, -0.1951, -0.0186,  0.0842,  0.1457,  0.3869,\n",
              "         0.0235, -0.3786, -0.6508,  0.0104, -0.5009, -0.0874,  0.0986, -0.2191,\n",
              "        -0.0724, -0.1025, -0.3148, -0.3070, -0.3046, -0.1433,  0.1031, -0.0405,\n",
              "        -0.0959, -1.1920, -0.0634,  0.0341, -0.0577,  0.5658,  0.0825, -2.4617,\n",
              "         0.4803,  0.7281,  1.2841,  0.1067, -0.0451,  1.0117, -0.9793,  0.0228,\n",
              "         0.4688, -0.0269,  0.8002, -0.2310,  0.0867, -0.7434, -0.3874, -0.1924,\n",
              "        -0.1329,  0.5235,  0.3566,  0.2106, -0.1867,  0.4156, -0.5087,  0.4764,\n",
              "         0.7859,  0.2801, -0.7456, -0.0156, -1.8451, -0.2843, -0.8172, -0.4325,\n",
              "        -0.6003, -0.4005, -0.2661, -0.0586, -0.2051,  0.1621, -0.2530,  0.4816,\n",
              "        -0.1591,  0.0065,  0.1379, -0.0683])"
            ]
          },
          "metadata": {},
          "execution_count": 41
        }
      ]
    },
    {
      "cell_type": "markdown",
      "source": [
        "### Creating Dataset for Training\n",
        "In the following code cell we are going to create a a custom dataset class called `CBTSADataset` which will inherit from `data.Dataset`. This dataset will takes in the labels and the text of a set."
      ],
      "metadata": {
        "id": "QNW8Go1Cez1a"
      }
    },
    {
      "cell_type": "code",
      "source": [
        "class CBTSADataset(torch.utils.data.Dataset):\n",
        "  def __init__(self, labels, text):\n",
        "    super(CBTSADataset, self).__init__()\n",
        "    self.labels = labels\n",
        "    self.text = text\n",
        "      \n",
        "  def __getitem__(self, index):\n",
        "    return self.labels[index], self.text[index]\n",
        "  \n",
        "  def __len__(self):\n",
        "    return len(self.labels)"
      ],
      "metadata": {
        "id": "h4qYCbmKfE92"
      },
      "execution_count": 42,
      "outputs": []
    },
    {
      "cell_type": "markdown",
      "source": [
        "### collate_fn\n",
        "We are going to create a collate function called `tokenize_batch`. This function actually takes in a batch and does the preprocessing of the `text` and labels. This function will be passed to the `DataLoader` class to do the preprocessing of features and labels.\n",
        "\n",
        "1. `tokenize_batch` function:\n",
        "\n",
        "* this function takes in a `batch` in each set and convert the features and labels to integer representation. It goes ahead and `pad` and `truncate` the sequence to the same length and returns labels and features.\n",
        "\n",
        "### Pading and truncating of tweets.\n",
        "\n",
        "These tweets contains different lengths interms of words. In theory and practically these sequence must be of the same `size` or `length`. The reason why these sequences are of different lengths it's because the sentences are of different lengths to begin with. So to make these sentences or text have the same lengths, all the longer sentences must be `truncated` and all the shorter sentences must be `padded` with the pad token (`1`). So we need to define the `max_length` of our sentence so that the padding and truncating takes place to this common `length`. \n",
        "\n",
        "\n",
        "So all this will happen in the `tokenize_batch` function.\n",
        "\n",
        "\n"
      ],
      "metadata": {
        "id": "vTKsL1UWfNaN"
      }
    },
    {
      "cell_type": "code",
      "source": [
        "def tokenize_batch(batch, max_len=100, padding=\"pre\"):\n",
        "  assert padding==\"pre\" or padding==\"post\", \"the padding can be either pre or post\"\n",
        "  labels_list, text_list = [], []\n",
        "  for _label, _text in batch:\n",
        "    labels_list.append(label_pipeline(_label))\n",
        "    text_holder = torch.zeros(max_len, dtype=torch.int32)\n",
        "    processed_text = torch.tensor(text_pipeline(_text.lower()), dtype=torch.int32)\n",
        "    pos = min(max_len, len(processed_text))\n",
        "    if padding == \"pre\":\n",
        "      text_holder[:pos] = processed_text[:pos]\n",
        "    else:\n",
        "      text_holder[-pos:] = processed_text[-pos:]\n",
        "    text_list.append(text_holder.unsqueeze(dim=0))\n",
        "  #  the labels will be torch long tensors since it is a multi-class classification.\n",
        "  return torch.LongTensor(labels_list), torch.cat(text_list, dim=0)"
      ],
      "metadata": {
        "id": "vUxgXVU7L5sX"
      },
      "execution_count": 43,
      "outputs": []
    },
    {
      "cell_type": "markdown",
      "source": [
        "> Note that in pytorch our labels should be specifically of type `LongTensor` when it is a multi-lable classification."
      ],
      "metadata": {
        "id": "1ZMu1oAoguF8"
      }
    },
    {
      "cell_type": "markdown",
      "source": [
        "### Datasets\n",
        "In the following code cell we are going to create the datasets for all our three sets using the `CBTSADataset` class."
      ],
      "metadata": {
        "id": "csluydruJO8M"
      }
    },
    {
      "cell_type": "code",
      "source": [
        "train_dataset = CBTSADataset(train_labels, train_texts)\n",
        "test_dataset = CBTSADataset(test_labels, test_texts)\n",
        "val_dataset = CBTSADataset(val_labels, val_texts)"
      ],
      "metadata": {
        "id": "ha-gyROIL5lg"
      },
      "execution_count": 44,
      "outputs": []
    },
    {
      "cell_type": "markdown",
      "source": [
        "### Iterators\n",
        "In the following code cell we are going to create loaders using the `DataLoader` class from `torch.utils.data` for our `3` sets. We are going to use the `batch_size` of `128` and our `collate_function` is `tokenize_batch`. For the `validation` and `testing` dataset we are going to set the `shuffle` to `False` because there's no need fo us to shuffle these examples."
      ],
      "metadata": {
        "id": "6wQaCCf-hUaa"
      }
    },
    {
      "cell_type": "code",
      "source": [
        "BATCH_SIZE = 128\n",
        "train_loader = torch.utils.data.DataLoader(train_dataset, batch_size=BATCH_SIZE, shuffle=True, collate_fn=tokenize_batch)\n",
        "test_loader = torch.utils.data.DataLoader(test_dataset, batch_size=BATCH_SIZE, shuffle=False, collate_fn=tokenize_batch)\n",
        "val_loader = torch.utils.data.DataLoader(val_dataset, batch_size=BATCH_SIZE, shuffle=False, collate_fn=tokenize_batch)"
      ],
      "metadata": {
        "id": "FxSlJAlkhs9d"
      },
      "execution_count": 45,
      "outputs": []
    },
    {
      "cell_type": "markdown",
      "source": [
        "Checking a single Batch Data"
      ],
      "metadata": {
        "id": "-616MSH-hxal"
      }
    },
    {
      "cell_type": "code",
      "source": [
        "lbl, txt = next(iter(train_loader))"
      ],
      "metadata": {
        "id": "aAmicSzth0h4"
      },
      "execution_count": 46,
      "outputs": []
    },
    {
      "cell_type": "markdown",
      "source": [
        "Labels in the first batch."
      ],
      "metadata": {
        "id": "kZrlrIA3h707"
      }
    },
    {
      "cell_type": "code",
      "source": [
        "lbl"
      ],
      "metadata": {
        "id": "vlq9iGpth0Sn",
        "colab": {
          "base_uri": "https://localhost:8080/"
        },
        "outputId": "7e17d789-0d0a-4896-d9a1-3810684300c5"
      },
      "execution_count": 47,
      "outputs": [
        {
          "output_type": "execute_result",
          "data": {
            "text/plain": [
              "tensor([1, 2, 1, 0, 1, 1, 1, 1, 1, 2, 0, 0, 0, 2, 2, 1, 1, 2, 2, 2, 2, 1, 1, 1,\n",
              "        2, 1, 1, 0, 2, 1, 2, 0, 0, 2, 0, 0, 0, 0, 1, 1, 1, 2, 2, 2, 2, 0, 2, 1,\n",
              "        1, 1, 2, 2, 1, 1, 0, 0, 0, 1, 0, 0, 0, 0, 0, 2, 0, 1, 1, 1, 0, 2, 1, 2,\n",
              "        2, 0, 2, 0, 1, 1, 2, 0, 1, 0, 1, 0, 1, 0, 1, 2, 1, 0, 0, 0, 1, 1, 1, 1,\n",
              "        2, 1, 2, 1, 1, 0, 2, 0, 0, 2, 0, 0, 2, 1, 0, 1, 1, 1, 1, 0, 1, 1, 1, 1,\n",
              "        2, 0, 1, 1, 2, 2, 0, 1])"
            ]
          },
          "metadata": {},
          "execution_count": 47
        }
      ]
    },
    {
      "cell_type": "markdown",
      "source": [
        "The first sentence in the batch."
      ],
      "metadata": {
        "id": "ZYcu20fbh8sK"
      }
    },
    {
      "cell_type": "code",
      "source": [
        "txt[0]"
      ],
      "metadata": {
        "id": "jW3cTC5ch0OE",
        "colab": {
          "base_uri": "https://localhost:8080/"
        },
        "outputId": "47b867b9-d068-4e54-8f81-5c73fe13b804"
      },
      "execution_count": 48,
      "outputs": [
        {
          "output_type": "execute_result",
          "data": {
            "text/plain": [
              "tensor([ 4397,    50,   423,    15,  4324,    39,    15,  1856,    45,   736,\n",
              "         6621,  7953,   120, 14266,  1469,    62,  7124,     5,    74,  6051,\n",
              "          194,    57,    16,   316,  4397,   127, 15049,     0,     0,     0,\n",
              "            0,     0,     0,     0,     0,     0,     0,     0,     0,     0,\n",
              "            0,     0,     0,     0,     0,     0,     0,     0,     0,     0,\n",
              "            0,     0,     0,     0,     0,     0,     0,     0,     0,     0,\n",
              "            0,     0,     0,     0,     0,     0,     0,     0,     0,     0,\n",
              "            0,     0,     0,     0,     0,     0,     0,     0,     0,     0,\n",
              "            0,     0,     0,     0,     0,     0,     0,     0,     0,     0,\n",
              "            0,     0,     0,     0,     0,     0,     0,     0,     0,     0],\n",
              "       dtype=torch.int32)"
            ]
          },
          "metadata": {},
          "execution_count": 48
        }
      ]
    },
    {
      "cell_type": "markdown",
      "source": [
        "### Model Creation\n",
        "Now that we have our loaders we can now create a model. The model that we are going to create is called `CBTSAModel`. As mentioned we are going to use `BiDirectional Long Short Term Memory (BiLSTM)` to build this model.\n",
        "\n",
        "### Model\n",
        "\n",
        "Our model will be a very simple classification model. There are three ways of building a model in tensorflow keras. These ways are:\n",
        "\n",
        "In this notebook we are going to create a `Bi-Directional RNN` model for text classification. I'm not going to explain the mathematical theory that much in this presentation but you can read more about what the input shape does `RNN` (Recurrent Nueral Networks) accepts [CrispenGari/pytorch-python](https://github.com/CrispenGari/pytorch-python/blob/main/09_NLP/02_Sentiment_Analyisis_Series/01_Simple_Sentiment_Analysis.ipynb).\n",
        "\n",
        "### Why Recurrent Nueral Networks (RNN)\n",
        "These are nothing but layers which are commonly used and seems to be good in processing `sequential` data. These layers are used mostly in `audio` processing, `time-series` or `text-sequences`. These layers are a good fit to our case because we are working with sequential data.\n",
        "\n",
        "We are going to make use of an `RNN` type called `Long Short Term Memory (LSTM)`\n",
        "\n",
        "\n",
        "### Why is an LSTM better than a standard RNN? \n",
        "\n",
        "Standard `RNNs` suffer from the vanishing gradient problem. `LSTMs` overcome this by having an extra recurrent state called a `cell`, which can be thought of as the \"memory\" of the LSTM and the use use multiple gates which control the flow of information into and out of the memory. If you want to know the mathematics or clear explanation about these layers you can read them here [CrispenGari/pytorch-python](https://github.com/CrispenGari/pytorch-python/blob/main/09_NLP/02_Sentiment_Analyisis_Series/02_Updated_Sentiment_Analysis.ipynb).\n",
        "\n",
        "### Bidirectional `LSTM`.\n",
        "\n",
        "The concept behind a bidirectional RNN is simple. As well as having an RNN processing the words in the sentence from the first to the last (a forward RNN), we have a second RNN processing the words in the sentence from the last to the first (a backward RNN). In our model we are not going to have a  `Gated Reccurrent Unit (GRU)` which is another type of RNN.\n",
        "\n",
        "\n",
        "### Regularization\n",
        "\n",
        "Without going into overfitting into too much detail, the more parameters you have in in your model, the higher the probability that your model will overfit (memorize the training data, causing a low training error but high validation/testing error, i.e. poor generalization to new, unseen examples). To combat this, we use regularization. More specifically, we use a method of regularization called dropout. \n",
        "\n",
        "`Dropout` works by randomly dropping out (setting to 0) neurons in a layer during a forward pass. The probability that each neuron is dropped out is set by a hyperparameter and each neuron with dropout applied is considered indepenently. One theory about why dropout works is that a model with parameters dropped out can be seen as a \"weaker\" (less parameters) model. The predictions from all these \"weaker\" models (one for each forward pass) get averaged together withinin the parameters of the model. Thus, your one model can be thought of as an ensemble of weaker models, none of which are over-parameterized and thus should not overfit.\n",
        "\n",
        "\n",
        "Our model clas will be called `CBTSAModel` and it is implemented in the following code cell.\n",
        "\n"
      ],
      "metadata": {
        "id": "jmifRdstJb4s"
      }
    },
    {
      "cell_type": "code",
      "source": [
        "class CBTSAModel(nn.Module):\n",
        "  def __init__(self, vocab_size, embedding_size, hidden_size, output_size, num_layers\n",
        "               , bidirectional, dropout, pad_idx):\n",
        "    super(CBTSAModel, self).__init__()\n",
        "\n",
        "    self.embedding = nn.Sequential(\n",
        "        nn.Embedding(vocab_size, embedding_dim=embedding_size, padding_idx=pad_idx),\n",
        "        nn.Dropout(dropout)\n",
        "    )\n",
        "    self.lstm = nn.Sequential(\n",
        "        nn.LSTM(\n",
        "          embedding_size, \n",
        "          hidden_size=hidden_size, \n",
        "          bidirectional=bidirectional, \n",
        "          num_layers=num_layers,\n",
        "          dropout=dropout\n",
        "        )\n",
        "    )\n",
        "    self.out = nn.Sequential(\n",
        "        nn.Linear(hidden_size * 2, out_features=128),\n",
        "        nn.Dropout(dropout),\n",
        "        nn.Linear(128, out_features=225),\n",
        "        nn.Dropout(dropout),\n",
        "        nn.Linear(225, out_features=64),\n",
        "        nn.Dropout(dropout),\n",
        "        nn.Linear(64, out_features=output_size),\n",
        "        nn.Dropout(dropout)\n",
        "    )\n",
        "\n",
        "  def forward(self, text, text_lengths):\n",
        "    embedded = self.embedding(text)\n",
        "    # set batch_first=true since input shape has batch_size first and text_lengths to the device.\n",
        "    packed_embedded = nn.utils.rnn.pack_padded_sequence(embedded, text_lengths.to('cpu'), enforce_sorted=False, batch_first=True)\n",
        "    packed_output, (h_0, c_0) = self.lstm(packed_embedded)\n",
        "    output, output_lengths = nn.utils.rnn.pad_packed_sequence(packed_output)\n",
        "    output = torch.cat((h_0[-2,:,:], h_0[-1,:,:]), dim = 1)\n",
        "    return self.out(output)\n",
        "     "
      ],
      "metadata": {
        "id": "OIbGQpm-L5jI"
      },
      "execution_count": 49,
      "outputs": []
    },
    {
      "cell_type": "markdown",
      "source": [
        "### Model Instance\n",
        "In the following code cell we are going to create a model instance."
      ],
      "metadata": {
        "id": "5uOb9HqnjKjd"
      }
    },
    {
      "cell_type": "code",
      "source": [
        "INPUT_DIM = len(stoi) \n",
        "EMBEDDING_DIM = 100\n",
        "HIDDEN_DIM = 256\n",
        "OUTPUT_DIM = len(labels_dict)\n",
        "N_LAYERS = 2\n",
        "BIDIRECTIONAL = True\n",
        "DROPOUT = 0.45\n",
        "PAD_IDX = stoi['-pad-'] \n",
        "cbtsa_model = CBTSAModel(\n",
        "              INPUT_DIM, \n",
        "              EMBEDDING_DIM, \n",
        "              HIDDEN_DIM, \n",
        "              OUTPUT_DIM, \n",
        "              N_LAYERS, \n",
        "              BIDIRECTIONAL, \n",
        "              DROPOUT, \n",
        "              PAD_IDX\n",
        ").to(device)\n",
        "cbtsa_model"
      ],
      "metadata": {
        "colab": {
          "base_uri": "https://localhost:8080/"
        },
        "id": "xdfmWV5iFnzI",
        "outputId": "2db7074e-0e9a-4941-b87a-eaa16e9b6aa7"
      },
      "execution_count": 50,
      "outputs": [
        {
          "output_type": "execute_result",
          "data": {
            "text/plain": [
              "CBTSAModel(\n",
              "  (embedding): Sequential(\n",
              "    (0): Embedding(40571, 100, padding_idx=1)\n",
              "    (1): Dropout(p=0.45, inplace=False)\n",
              "  )\n",
              "  (lstm): Sequential(\n",
              "    (0): LSTM(100, 256, num_layers=2, dropout=0.45, bidirectional=True)\n",
              "  )\n",
              "  (out): Sequential(\n",
              "    (0): Linear(in_features=512, out_features=128, bias=True)\n",
              "    (1): Dropout(p=0.45, inplace=False)\n",
              "    (2): Linear(in_features=128, out_features=225, bias=True)\n",
              "    (3): Dropout(p=0.45, inplace=False)\n",
              "    (4): Linear(in_features=225, out_features=64, bias=True)\n",
              "    (5): Dropout(p=0.45, inplace=False)\n",
              "    (6): Linear(in_features=64, out_features=3, bias=True)\n",
              "    (7): Dropout(p=0.45, inplace=False)\n",
              "  )\n",
              ")"
            ]
          },
          "metadata": {},
          "execution_count": 50
        }
      ]
    },
    {
      "cell_type": "markdown",
      "source": [
        "### Counting Model Parameters\n",
        "In the following code cell we are going to count the model parameters. We are just going to have a look at total parameters and total trainable parameter. We are going to use the helper function that I've created called `models_params` from `helperfns.model`"
      ],
      "metadata": {
        "id": "WlxSK9dD0Peu"
      }
    },
    {
      "cell_type": "code",
      "source": [
        "models.model_params(cbtsa_model)"
      ],
      "metadata": {
        "id": "WkuFVX4ojy7Q",
        "colab": {
          "base_uri": "https://localhost:8080/"
        },
        "outputId": "08edef03-d3ce-4cc7-d3c5-6c76604d8e04"
      },
      "execution_count": 51,
      "outputs": [
        {
          "output_type": "stream",
          "name": "stdout",
          "text": [
            "TOTAL MODEL PARAMETERS: \t6,476,592\n",
            "TOTAL TRAINABLE PARAMETERS: \t6,476,592\n"
          ]
        }
      ]
    },
    {
      "cell_type": "markdown",
      "source": [
        "### Loading Embedding Vectors\n",
        "\n",
        "In the following code cell we are going to load the pretained custom vectors in our embedding layer. We are going to load the embedding vectors tha suits our data using the `cbtsa_model.embedding[0].weight.data.copy_(EMBEDDING_MATRIX)` as follows:"
      ],
      "metadata": {
        "id": "HuTehZ74j6b9"
      }
    },
    {
      "cell_type": "code",
      "source": [
        "cbtsa_model.embedding[0].weight.data.copy_(EMBEDDING_MATRIX)"
      ],
      "metadata": {
        "id": "tnDTpi8ZIKv5",
        "colab": {
          "base_uri": "https://localhost:8080/"
        },
        "outputId": "90b40b78-5e64-4342-dc5b-ac6d5b930506"
      },
      "execution_count": 52,
      "outputs": [
        {
          "output_type": "execute_result",
          "data": {
            "text/plain": [
              "tensor([[ 0.0000,  0.0000,  0.0000,  ...,  0.0000,  0.0000,  0.0000],\n",
              "        [ 0.0000,  0.0000,  0.0000,  ...,  0.0000,  0.0000,  0.0000],\n",
              "        [ 0.0000,  0.0000,  0.0000,  ...,  0.0000,  0.0000,  0.0000],\n",
              "        ...,\n",
              "        [ 0.8352, -0.6938,  0.0356,  ...,  0.5222, -0.5881,  0.2428],\n",
              "        [ 0.0000,  0.0000,  0.0000,  ...,  0.0000,  0.0000,  0.0000],\n",
              "        [ 0.0000,  0.0000,  0.0000,  ...,  0.0000,  0.0000,  0.0000]],\n",
              "       device='cuda:0')"
            ]
          },
          "metadata": {},
          "execution_count": 52
        }
      ]
    },
    {
      "cell_type": "markdown",
      "source": [
        "### Optimizer and Criterion\n",
        "In the following code cell we are going to define the `optimizer` and `criterion`. For the `optimizer` we are going to use the `Adam` optimizer with default parameters and for the criterion we are going to use the `CrossEntropyLoss()` function since this is a `multi-class` classification."
      ],
      "metadata": {
        "id": "uXE6LzvqJkNR"
      }
    },
    {
      "cell_type": "code",
      "source": [
        "optimizer = torch.optim.Adam(cbtsa_model.parameters())\n",
        "criterion = nn.CrossEntropyLoss().to(device)"
      ],
      "metadata": {
        "id": "nI1hQhg5L5de"
      },
      "execution_count": 53,
      "outputs": []
    },
    {
      "cell_type": "markdown",
      "source": [
        "In the following code cell we are going to create our `categorical_accuracy` function, which is a function that calulates the the `catecorical` accuracy between the `predicted` labels and real `labels`."
      ],
      "metadata": {
        "id": "1UgQFYpWlbpA"
      }
    },
    {
      "cell_type": "code",
      "source": [
        "def categorical_accuracy(preds, y):\n",
        "  top_pred = preds.argmax(1, keepdim = True)\n",
        "  correct = top_pred.eq(y.view_as(top_pred)).sum()\n",
        "  acc = correct.float() / y.shape[0]\n",
        "  return acc"
      ],
      "metadata": {
        "id": "lMoxXRgtlZIb"
      },
      "execution_count": 54,
      "outputs": []
    },
    {
      "cell_type": "markdown",
      "source": [
        "### Train and Evaluate functions\n",
        "In the following code cell we are going to create our `train` and `evalute` functions:"
      ],
      "metadata": {
        "id": "ZPSWt3k7l74O"
      }
    },
    {
      "cell_type": "code",
      "source": [
        "def train(model, iterator, optimizer, criterion):\n",
        "  epoch_loss,epoch_acc = 0, 0\n",
        "  model.train()\n",
        "  for batch in iterator:\n",
        "    y, X = batch\n",
        "    X = X.to(device)\n",
        "    y = y.to(device)\n",
        "    lengths = torch.tensor([len(i) for i in X])\n",
        "    optimizer.zero_grad()\n",
        "\n",
        "    predictions = model(X, lengths).squeeze(1)\n",
        "    loss = criterion(predictions, y)\n",
        "    acc = categorical_accuracy(predictions, y)\n",
        "    loss.backward()\n",
        "    optimizer.step()\n",
        "    epoch_loss += loss.item()\n",
        "    epoch_acc += acc.item()\n",
        "  return epoch_loss / len(iterator), epoch_acc / len(iterator)\n",
        "\n",
        "def evaluate(model, iterator, criterion):\n",
        "  epoch_loss,epoch_acc = 0, 0\n",
        "  model.eval()\n",
        "  with torch.no_grad():\n",
        "    for batch in iterator:\n",
        "      y, X = batch\n",
        "      X = X.to(device)\n",
        "      y = y.to(device)\n",
        "      lengths = torch.tensor([len(i) for i in X])\n",
        "      predictions = model(X, lengths).squeeze(1)\n",
        "      loss = criterion(predictions, y)\n",
        "      acc = categorical_accuracy(predictions, y)\n",
        "      epoch_loss += loss.item()\n",
        "      epoch_acc += acc.item()\n",
        "  return epoch_loss / len(iterator), epoch_acc / len(iterator)"
      ],
      "metadata": {
        "id": "PNgf2JKzl_9h"
      },
      "execution_count": 55,
      "outputs": []
    },
    {
      "cell_type": "markdown",
      "source": [
        "### Training Loop\n",
        "\n",
        "In the following code cell we are going to run the training loop. We are going to save the model when our loss decreased from the previous loss stored. And we are also going to keep in track of our training history so that we can visualize it later on."
      ],
      "metadata": {
        "id": "41YboV13Jpij"
      }
    },
    {
      "cell_type": "code",
      "source": [
        "N_EPOCHS = 20\n",
        "MODEL_NAME = 'cbtsa_model.pt'\n",
        "\n",
        "# we need a way of keeping tracking the matrics\n",
        "train_losses = []\n",
        "train_accuracies = []\n",
        "val_losses = []\n",
        "val_accuracies = []\n",
        "\n",
        "training_start = time.time()\n",
        "best_valid_loss = float('inf')\n",
        "last_saved_epoch = 0\n",
        "for epoch in range(N_EPOCHS):\n",
        "  start = time.time()\n",
        "  train_loss, train_acc = train(cbtsa_model, train_loader, optimizer, criterion)\n",
        "  val_loss, val_acc = evaluate(cbtsa_model, val_loader, criterion)\n",
        "  title = f\"EPOCH: {epoch+1:02}/{N_EPOCHS:02} {'saving best model...' if val_loss < best_valid_loss else 'not saving...'}\"\n",
        "  if val_loss < best_valid_loss:\n",
        "      best_valid_loss = val_loss\n",
        "      last_saved_epoch = epoch + 1\n",
        "      torch.save(cbtsa_model.state_dict(), MODEL_NAME)\n",
        "  end = time.time()\n",
        "\n",
        "  # keep in track of all the metrics during training\n",
        "  train_losses.append(train_loss)\n",
        "  train_accuracies.append(train_acc)\n",
        "  val_losses.append(val_loss)\n",
        "  val_accuracies.append(val_acc)\n",
        "\n",
        "  data = [\n",
        "       [\"Training\", f'{train_loss:.3f}', f'{train_acc * 100:.3f}%',  f\"{hms_string(end - start)}\" ],\n",
        "       [\"Validation\", f'{val_loss:.3f}', f'{val_acc * 100:.3f}%', \"\" ],       \n",
        "   ]\n",
        "  columns = [\"CATEGORY\", \"LOSS\", \"ACCURACY\",  \"ETA\"]\n",
        "  print(title)\n",
        "  tabulate_data(columns, data, title)\n",
        "\n",
        "training_end= time.time()"
      ],
      "metadata": {
        "id": "SHGUrd3xJtDk",
        "colab": {
          "base_uri": "https://localhost:8080/"
        },
        "outputId": "1506b03c-9b27-41fb-8146-43bf9779d625"
      },
      "execution_count": 56,
      "outputs": [
        {
          "output_type": "stream",
          "name": "stdout",
          "text": [
            "EPOCH: 01/20 saving best model...\n",
            "+------------+-------+----------+------------+\n",
            "| CATEGORY   |  LOSS | ACCURACY |        ETA |\n",
            "+------------+-------+----------+------------+\n",
            "| Training   | 0.737 |  64.845% | 0:01:46.03 |\n",
            "| Validation | 0.252 |  91.771% |            |\n",
            "+------------+-------+----------+------------+\n",
            "EPOCH: 02/20 saving best model...\n",
            "+------------+-------+----------+------------+\n",
            "| CATEGORY   |  LOSS | ACCURACY |        ETA |\n",
            "+------------+-------+----------+------------+\n",
            "| Training   | 0.465 |  76.728% | 0:01:44.35 |\n",
            "| Validation | 0.137 |  95.382% |            |\n",
            "+------------+-------+----------+------------+\n",
            "EPOCH: 03/20 saving best model...\n",
            "+------------+-------+----------+------------+\n",
            "| CATEGORY   |  LOSS | ACCURACY |        ETA |\n",
            "+------------+-------+----------+------------+\n",
            "| Training   | 0.395 |  79.096% | 0:01:44.46 |\n",
            "| Validation | 0.107 |  96.481% |            |\n",
            "+------------+-------+----------+------------+\n",
            "EPOCH: 04/20 saving best model...\n",
            "+------------+-------+----------+------------+\n",
            "| CATEGORY   |  LOSS | ACCURACY |        ETA |\n",
            "+------------+-------+----------+------------+\n",
            "| Training   | 0.366 |  79.808% | 0:01:44.09 |\n",
            "| Validation | 0.097 |  96.953% |            |\n",
            "+------------+-------+----------+------------+\n",
            "EPOCH: 05/20 saving best model...\n",
            "+------------+-------+----------+------------+\n",
            "| CATEGORY   |  LOSS | ACCURACY |        ETA |\n",
            "+------------+-------+----------+------------+\n",
            "| Training   | 0.348 |  80.116% | 0:01:42.85 |\n",
            "| Validation | 0.087 |  97.341% |            |\n",
            "+------------+-------+----------+------------+\n",
            "EPOCH: 06/20 saving best model...\n",
            "+------------+-------+----------+------------+\n",
            "| CATEGORY   |  LOSS | ACCURACY |        ETA |\n",
            "+------------+-------+----------+------------+\n",
            "| Training   | 0.335 |  80.700% | 0:01:43.52 |\n",
            "| Validation | 0.084 |  97.476% |            |\n",
            "+------------+-------+----------+------------+\n",
            "EPOCH: 07/20 saving best model...\n",
            "+------------+-------+----------+------------+\n",
            "| CATEGORY   |  LOSS | ACCURACY |        ETA |\n",
            "+------------+-------+----------+------------+\n",
            "| Training   | 0.328 |  80.696% | 0:01:43.64 |\n",
            "| Validation | 0.082 |  97.476% |            |\n",
            "+------------+-------+----------+------------+\n",
            "EPOCH: 08/20 saving best model...\n",
            "+------------+-------+----------+------------+\n",
            "| CATEGORY   |  LOSS | ACCURACY |        ETA |\n",
            "+------------+-------+----------+------------+\n",
            "| Training   | 0.318 |  81.205% | 0:01:43.63 |\n",
            "| Validation | 0.081 |  97.651% |            |\n",
            "+------------+-------+----------+------------+\n",
            "EPOCH: 09/20 saving best model...\n",
            "+------------+-------+----------+------------+\n",
            "| CATEGORY   |  LOSS | ACCURACY |        ETA |\n",
            "+------------+-------+----------+------------+\n",
            "| Training   | 0.312 |  81.321% | 0:01:42.81 |\n",
            "| Validation | 0.079 |  97.623% |            |\n",
            "+------------+-------+----------+------------+\n",
            "EPOCH: 10/20 not saving...\n",
            "+------------+-------+----------+------------+\n",
            "| CATEGORY   |  LOSS | ACCURACY |        ETA |\n",
            "+------------+-------+----------+------------+\n",
            "| Training   | 0.307 |  81.272% | 0:01:42.93 |\n",
            "| Validation | 0.083 |  97.551% |            |\n",
            "+------------+-------+----------+------------+\n",
            "EPOCH: 11/20 not saving...\n",
            "+------------+-------+----------+------------+\n",
            "| CATEGORY   |  LOSS | ACCURACY |        ETA |\n",
            "+------------+-------+----------+------------+\n",
            "| Training   | 0.302 |  81.513% | 0:01:42.74 |\n",
            "| Validation | 0.079 |  97.683% |            |\n",
            "+------------+-------+----------+------------+\n",
            "EPOCH: 12/20 not saving...\n",
            "+------------+-------+----------+------------+\n",
            "| CATEGORY   |  LOSS | ACCURACY |        ETA |\n",
            "+------------+-------+----------+------------+\n",
            "| Training   | 0.297 |  81.614% | 0:01:41.78 |\n",
            "| Validation | 0.087 |  97.619% |            |\n",
            "+------------+-------+----------+------------+\n",
            "EPOCH: 13/20 not saving...\n",
            "+------------+-------+----------+------------+\n",
            "| CATEGORY   |  LOSS | ACCURACY |        ETA |\n",
            "+------------+-------+----------+------------+\n",
            "| Training   | 0.295 |  81.723% | 0:01:42.34 |\n",
            "| Validation | 0.084 |  97.650% |            |\n",
            "+------------+-------+----------+------------+\n",
            "EPOCH: 14/20 not saving...\n",
            "+------------+-------+----------+------------+\n",
            "| CATEGORY   |  LOSS | ACCURACY |        ETA |\n",
            "+------------+-------+----------+------------+\n",
            "| Training   | 0.291 |  81.774% | 0:01:42.25 |\n",
            "| Validation | 0.085 |  97.689% |            |\n",
            "+------------+-------+----------+------------+\n",
            "EPOCH: 15/20 not saving...\n",
            "+------------+-------+----------+------------+\n",
            "| CATEGORY   |  LOSS | ACCURACY |        ETA |\n",
            "+------------+-------+----------+------------+\n",
            "| Training   | 0.289 |  81.839% | 0:01:42.34 |\n",
            "| Validation | 0.083 |  97.640% |            |\n",
            "+------------+-------+----------+------------+\n",
            "EPOCH: 16/20 not saving...\n",
            "+------------+-------+----------+------------+\n",
            "| CATEGORY   |  LOSS | ACCURACY |        ETA |\n",
            "+------------+-------+----------+------------+\n",
            "| Training   | 0.284 |  82.042% | 0:01:42.38 |\n",
            "| Validation | 0.105 |  97.465% |            |\n",
            "+------------+-------+----------+------------+\n",
            "EPOCH: 17/20 not saving...\n",
            "+------------+-------+----------+------------+\n",
            "| CATEGORY   |  LOSS | ACCURACY |        ETA |\n",
            "+------------+-------+----------+------------+\n",
            "| Training   | 0.284 |  81.993% | 0:01:42.56 |\n",
            "| Validation | 0.108 |  97.390% |            |\n",
            "+------------+-------+----------+------------+\n",
            "EPOCH: 18/20 not saving...\n",
            "+------------+-------+----------+------------+\n",
            "| CATEGORY   |  LOSS | ACCURACY |        ETA |\n",
            "+------------+-------+----------+------------+\n",
            "| Training   | 0.284 |  82.055% | 0:01:41.83 |\n",
            "| Validation | 0.092 |  97.570% |            |\n",
            "+------------+-------+----------+------------+\n",
            "EPOCH: 19/20 not saving...\n",
            "+------------+-------+----------+------------+\n",
            "| CATEGORY   |  LOSS | ACCURACY |        ETA |\n",
            "+------------+-------+----------+------------+\n",
            "| Training   | 0.280 |  82.142% | 0:01:42.68 |\n",
            "| Validation | 0.105 |  97.565% |            |\n",
            "+------------+-------+----------+------------+\n",
            "EPOCH: 20/20 not saving...\n",
            "+------------+-------+----------+------------+\n",
            "| CATEGORY   |  LOSS | ACCURACY |        ETA |\n",
            "+------------+-------+----------+------------+\n",
            "| Training   | 0.278 |  82.168% | 0:01:42.28 |\n",
            "| Validation | 0.112 |  97.667% |            |\n",
            "+------------+-------+----------+------------+\n"
          ]
        }
      ]
    },
    {
      "cell_type": "markdown",
      "source": [
        "Let's check the training history of the model."
      ],
      "metadata": {
        "id": "K9j97lJWnxOh"
      }
    },
    {
      "cell_type": "code",
      "source": [
        "print(\"----- TOTAL TRAINING TIME \")\n",
        "rows = [\n",
        "      [\"TOTAL EPOCHS\", f'{N_EPOCHS}'],\n",
        "      [\"LAST SAVED EPOCH\", f'{last_saved_epoch}'],\n",
        "      [\"TOTAL TRAINING TIME\", f'{hms_string(training_end-training_start)}']\n",
        "]\n",
        "tabulate_data(['', 'value'], rows, \"TOTAL TRAINING TIME\")"
      ],
      "metadata": {
        "id": "LQzIniOvnpWr",
        "colab": {
          "base_uri": "https://localhost:8080/"
        },
        "outputId": "7e94283b-3a83-417c-efcc-959663b8dd4e"
      },
      "execution_count": 57,
      "outputs": [
        {
          "output_type": "stream",
          "name": "stdout",
          "text": [
            "----- TOTAL TRAINING TIME \n",
            "+---------------------+------------+\n",
            "|                     |      value |\n",
            "+---------------------+------------+\n",
            "| TOTAL EPOCHS        |         20 |\n",
            "| LAST SAVED EPOCH    |          9 |\n",
            "| TOTAL TRAINING TIME | 0:34:21.51 |\n",
            "+---------------------+------------+\n"
          ]
        }
      ]
    },
    {
      "cell_type": "markdown",
      "source": [
        "### Evaluating the best model.\n",
        "In the following code cell we are going to evaluate the best model using on the `test` data.\n",
        "\n",
        "Remember that we saved the best model as `cbtsa_model.pt` so we can load it using the `load_state_dict` function on `cbtsa_model` model."
      ],
      "metadata": {
        "id": "zFJk8tL0n6bA"
      }
    },
    {
      "cell_type": "code",
      "source": [
        "columns = [\"CATEGORY\", \"LOSS\", \"ACCURACY\", \"ETA\"]\n",
        "cbtsa_model.load_state_dict(torch.load(MODEL_NAME))\n",
        "test_loss, test_acc = evaluate(cbtsa_model, test_loader, criterion)\n",
        "title = \"Model Evaluation Summary\"\n",
        "data_rows = [[\"Test\", f'{test_loss:.3f}', f'{test_acc * 100:.2f}%', \"\"]]\n",
        "print(title)\n",
        "tabulate_data(columns, data_rows, title)"
      ],
      "metadata": {
        "id": "yZI56SZhoPaw",
        "colab": {
          "base_uri": "https://localhost:8080/"
        },
        "outputId": "c631315c-8434-4e02-9ad5-99d13ca8f642"
      },
      "execution_count": 58,
      "outputs": [
        {
          "output_type": "stream",
          "name": "stdout",
          "text": [
            "Model Evaluation Summary\n",
            "+----------+-------+----------+-----+\n",
            "| CATEGORY |  LOSS | ACCURACY | ETA |\n",
            "+----------+-------+----------+-----+\n",
            "| Test     | 0.080 |   97.73% |     |\n",
            "+----------+-------+----------+-----+\n"
          ]
        }
      ]
    },
    {
      "cell_type": "markdown",
      "source": [
        "Let's visualize the training history of the model. In the following code cell we are going to plot line graphs of the losses and accuracy for all the labels."
      ],
      "metadata": {
        "id": "4jMZgRsLolax"
      }
    },
    {
      "cell_type": "code",
      "source": [
        "epochs = np.arange(1, N_EPOCHS + 1)\n",
        "plt.plot(epochs, train_losses, label=\"train_loss\")\n",
        "plt.plot(epochs, val_losses, label=\"val_loss\")\n",
        "\n",
        "plt.plot(epochs, train_accuracies, label=\"train_acc\")\n",
        "plt.plot(epochs, val_accuracies, label=\"val_acc\")\n",
        "\n",
        "plt.title(\"MODEL TRAINING HISTORY\", color=\"k\", fontsize=10)\n",
        "plt.legend()\n",
        "plt.xlabel(\"epochs\", fontsize=10)\n",
        "plt.show()"
      ],
      "metadata": {
        "id": "lZco6xphommY",
        "colab": {
          "base_uri": "https://localhost:8080/",
          "height": 469
        },
        "outputId": "2b85d0a7-9409-4f6b-fa6b-d712b3bf9520"
      },
      "execution_count": 59,
      "outputs": [
        {
          "output_type": "display_data",
          "data": {
            "text/plain": [
              "<Figure size 640x480 with 1 Axes>"
            ],
            "image/png": "[encoded data removed]"
          },
          "metadata": {}
        }
      ]
    },
    {
      "cell_type": "markdown",
      "source": [
        "### Model Inference\n",
        "\n",
        "In this section we are going to make predictions using our model. During model inference we are going to do the same feature processing as we did during model training. These feature processing will include something like:\n",
        "\n",
        "The following functions was used during text cleaning from the previous notebook, so we are redefining them in this notebook so that we can reuse them again.\n",
        "\n",
        "> We are assuming that the tweet that will be passed by the user during model inference will have `hashtags`, `numbers` and all that so that's why we need this `clean_sentence` function."
      ],
      "metadata": {
        "id": "AQcL7DwZJtsj"
      }
    },
    {
      "cell_type": "code",
      "source": [
        "def clean_sentence(sent:str)->str:\n",
        "    \"\"\"\n",
        "    Args:\n",
        "        sent (str): an uncleaned sentence with text, punctuations, numbers \n",
        "    \"\"\"\n",
        "    sent = sent.lower() # converting the text to lower case\n",
        "    sent = re.sub(r'(@|#)([A-Za-z0-9]+)', ' ', sent) # removing tags and mentions (there's no right way of doing it with regular expression but this will try)\n",
        "    sent = re.sub(r\"([A-Za-z0-9]+[.-_])*[A-Za-z0-9]+@[A-Za-z0-9-]+(\\.[A-Z|a-z]{2,})+\", \" \", sent) # removing emails\n",
        "    sent = re.sub(r'https?\\S+', ' ', sent, flags=re.MULTILINE) # removing url's\n",
        "    sent = re.sub(r'\\d', ' ', sent) # removing none word characters\n",
        "    sent = re.sub(r'[^\\w\\s\\']', ' ', sent) # removing punctuations except for \"'\" in words like I'm\n",
        "    sent = re.sub(r'\\s+', ' ', sent).strip() # remove more than one space\n",
        "    words = list()\n",
        "    for word in sent.split(' '):\n",
        "        if len(word) == 1 and word not in ['a',  'i']:\n",
        "          continue\n",
        "        else:\n",
        "          words.append(de_contract(word)) # replace word's like \"i'm -> i am\"\n",
        "    return \" \".join(words)"
      ],
      "metadata": {
        "id": "6no9n1VkP5zr"
      },
      "execution_count": 60,
      "outputs": []
    },
    {
      "cell_type": "markdown",
      "source": [
        "We will have the function called `inference_preprocess_text` which is a function that process the text for inference."
      ],
      "metadata": {
        "id": "BqwtZCawJs05"
      }
    },
    {
      "cell_type": "code",
      "source": [
        "def inference_preprocess_text(text, max_len=100, padding=\"pre\"):\n",
        "  text = clean_sentence(text)\n",
        "  assert padding==\"pre\" or padding==\"post\", \"the padding can be either pre or post\"\n",
        "  text_holder = torch.zeros(max_len, dtype=torch.int32) # fixed size tensor of max_len with  = 0\n",
        "  processed_text = torch.tensor(text_pipeline(text), dtype=torch.int32)\n",
        "  pos = min(max_len, len(processed_text))\n",
        "  if padding == \"pre\":\n",
        "    text_holder[:pos] = processed_text[:pos]\n",
        "  else:\n",
        "    text_holder[-pos:] = processed_text[-pos:]\n",
        "  text_list= text_holder.unsqueeze(dim=0)\n",
        "  return text_list"
      ],
      "metadata": {
        "id": "gS1_0Ci6qFWy"
      },
      "execution_count": 61,
      "outputs": []
    },
    {
      "cell_type": "markdown",
      "source": [
        "Let's create our types `Label` and `Prediction`"
      ],
      "metadata": {
        "id": "oLOHelXCq8su"
      }
    },
    {
      "cell_type": "code",
      "source": [
        "class Label:\n",
        "  def __init__(self, label: str, labelId: int, confidence: float):\n",
        "    self.label = label\n",
        "    self.labelId = labelId\n",
        "    self.confidence = confidence\n",
        "\n",
        "  def __repr__(self) -> str:\n",
        "    return f\"[CBTSA Prediction: {self.label}]\"\n",
        "\n",
        "  def __str__(self) -> str:\n",
        "    return f\"[CBTSA Prediction: {self.label}]\"\n",
        "\n",
        "  def to_json(self):\n",
        "    return {\n",
        "        'label':  self.label,\n",
        "        'labelId':  self.labelId,\n",
        "        'confidence':  self.confidence,\n",
        "    }\n",
        "\n",
        "class Prediction:\n",
        "  def __init__(self, text: str, label: Label):\n",
        "    self.text = text\n",
        "    self.label = label\n",
        "\n",
        "  def __repr__(self) -> str:\n",
        "    return f\"[CBTSA Preciction: {self.label.label}]\"\n",
        "\n",
        "  def __str__(self) -> str:\n",
        "    return f\"[CBTSA Preciction: {self.label.label}]\"\n",
        "\n",
        "  def to_json(self):\n",
        "    return {\n",
        "        'text':  self.text,\n",
        "        'label':  self.label.to_json(),\n",
        "    }"
      ],
      "metadata": {
        "id": "D5O8GQOeqh7V"
      },
      "execution_count": 62,
      "outputs": []
    },
    {
      "cell_type": "markdown",
      "source": [
        "Next we are going to create a `predict_sentiment` function which accepts the following:\n",
        "\n",
        "1. `model` - the model that we have trained\n",
        "2. `sentence` - which is a tweet text\n",
        "3. `device` - which is a device that we have defined ealier \n",
        "\n",
        "And this function will return a response of type `Prediction` that we have defined ealier in our types."
      ],
      "metadata": {
        "id": "M3tReu5yrSxA"
      }
    },
    {
      "cell_type": "code",
      "source": [
        "def predict_sentiment(model, sentence, device): \n",
        "  model.eval()\n",
        "  with torch.no_grad():\n",
        "    tensor = inference_preprocess_text(sentence.lower()).to(device)\n",
        "    length = torch.tensor([len(t) for t in tensor])\n",
        "    out = model(tensor, length)\n",
        "    out = torch.softmax(out.squeeze(0), dim=0)\n",
        "    prediction = torch.argmax(out)\n",
        "    prediction= prediction.detach().cpu().item()\n",
        "    labels_ = {v:k for k, v in labels_dict.items()}\n",
        "    label = labels_[prediction]\n",
        "    _label = Label(label, int(prediction), float(round(out[prediction].item(), 2)))\n",
        "    return Prediction(\n",
        "        sentence.lower(), _label\n",
        "    )"
      ],
      "metadata": {
        "id": "q5dNVxA0rUNl"
      },
      "execution_count": 63,
      "outputs": []
    },
    {
      "cell_type": "markdown",
      "source": [
        "### Nuetral Prediction"
      ],
      "metadata": {
        "id": "E-laerDKXVBP"
      }
    },
    {
      "cell_type": "code",
      "source": [
        "predict_sentiment(cbtsa_model, 'i want to place one order delivery courier shipment to me but status mark day please help me courier service no courier head is talking to me and no', device)"
      ],
      "metadata": {
        "colab": {
          "base_uri": "https://localhost:8080/"
        },
        "id": "T2sChaEkXMaw",
        "outputId": "9c0d1225-711b-4b95-aa7d-c2df763c5219"
      },
      "execution_count": 64,
      "outputs": [
        {
          "output_type": "execute_result",
          "data": {
            "text/plain": [
              "[CBTSA Preciction: neutral]"
            ]
          },
          "metadata": {},
          "execution_count": 64
        }
      ]
    },
    {
      "cell_type": "markdown",
      "source": [
        "### Negative Prediction"
      ],
      "metadata": {
        "id": "CZT05PvuXRmm"
      }
    },
    {
      "cell_type": "code",
      "source": [
        "predict_sentiment(cbtsa_model, 'your delivery service is ducking and unreliable rod the worst reputation', device)"
      ],
      "metadata": {
        "colab": {
          "base_uri": "https://localhost:8080/"
        },
        "id": "GbjfyaAUXMQ1",
        "outputId": "bb5934ab-4a86-4476-e2e7-48f18264d321"
      },
      "execution_count": 65,
      "outputs": [
        {
          "output_type": "execute_result",
          "data": {
            "text/plain": [
              "[CBTSA Preciction: negative]"
            ]
          },
          "metadata": {},
          "execution_count": 65
        }
      ]
    },
    {
      "cell_type": "markdown",
      "source": [
        "### Positive Prediction"
      ],
      "metadata": {
        "id": "GkWgNpbCXMxp"
      }
    },
    {
      "cell_type": "code",
      "source": [
        "predict_sentiment(cbtsa_model, 'exclusive gift pack make your one feel difference to order this high quality gift pack please visit the following link cash on delivery service is available all over the country', device)"
      ],
      "metadata": {
        "colab": {
          "base_uri": "https://localhost:8080/"
        },
        "id": "DfVYieXLXL_7",
        "outputId": "c3187142-98c1-479f-f807-0b3984b67b37"
      },
      "execution_count": 66,
      "outputs": [
        {
          "output_type": "execute_result",
          "data": {
            "text/plain": [
              "[CBTSA Preciction: positive]"
            ]
          },
          "metadata": {},
          "execution_count": 66
        }
      ]
    },
    {
      "cell_type": "markdown",
      "source": [
        "### User Input\n",
        "\n",
        "We can allow users to give us the text and then make predictions on their text. In the following code cell we are going to allow users to give us their input and make predictions based on their input text.\n"
      ],
      "metadata": {
        "id": "ANeVmyqjY82l"
      }
    },
    {
      "cell_type": "code",
      "source": [
        "while True:\n",
        "  text = input(\"Enter a tweet review (q) to quit:\\n\")\n",
        "  if text.lower() == \"q\":\n",
        "    break\n",
        "  prediction = predict_sentiment(cbtsa_model, text, device)\n",
        "\n",
        "  print()\n",
        "  print(\"text: \", prediction.text)\n",
        "  print(\"label: \", prediction.label.labelId)\n",
        "  print(\"class label: \", prediction.label.label)\n",
        "  print(\"probability: \", prediction.label.confidence)\n",
        "  print()\n",
        "  print(\"*\" * 90)\n",
        "  print()\n"
      ],
      "metadata": {
        "id": "8Ds1OCMVZPm6",
        "colab": {
          "base_uri": "https://localhost:8080/"
        },
        "outputId": "39928ce1-0ba4-4e5d-bc7a-49bea2c8f408"
      },
      "execution_count": 67,
      "outputs": [
        {
          "name": "stdout",
          "output_type": "stream",
          "text": [
            "Enter a tweet review (q) to quit:\n",
            "you are a bad boy i hate you\n",
            "\n",
            "text:  you are a bad boy i hate you\n",
            "label:  1\n",
            "class label:  negative\n",
            "probability:  1.0\n",
            "\n",
            "******************************************************************************************\n",
            "\n",
            "Enter a tweet review (q) to quit:\n",
            "q\n"
          ]
        }
      ]
    },
    {
      "cell_type": "markdown",
      "source": [
        "### Model Evaluation metrics\n",
        "In this section we are going to `evaluate` the best model and `visualize` the metrics. We are going to use the following evaluation methods on this classification task.\n",
        "\n",
        "1. confusion matrix\n",
        "2. classification report.\n",
        "\n",
        "First of all we need to get the actual labels/sentiments and predicted labels from the `test_iterator` so that we will be able to use all the examples in the test dataset to evaluate our model. We are going to define a function called `get_predictions` this function will take in the `model`, `iterator` and `device` as parameter and return the following lists of values:\n",
        "\n",
        "1. texts - the text or tweet text\n",
        "2. labels - the actual tweet sentiment label\n",
        "3. probs - the list of probabilities for the text to belong to a certain sentiment class."
      ],
      "metadata": {
        "id": "rw8XWRXz5yhA"
      }
    },
    {
      "cell_type": "code",
      "source": [
        "def get_predictions(model, iterator, device):\n",
        "  model.eval()\n",
        "  tweets = []\n",
        "  labels = []\n",
        "  probs = []\n",
        "  with torch.no_grad():\n",
        "    for (y, X) in iterator:\n",
        "      X = X.to(device)\n",
        "      length = torch.tensor([len(t) for t in X])\n",
        "      y_pred = torch.softmax(model(X, length).squeeze(1), dim=-1)\n",
        "      prediction = torch.argmax(y_pred)\n",
        "      # print(prediction)\n",
        "      top_pred = y_pred.argmax(1, keepdim = True)\n",
        "      # print(X)\n",
        "      Xs = [x for x in X]\n",
        "      texts = [tokens_to_sequence([j.item() for j in i]) for i in Xs]\n",
        "      tweets.extend([\" \".join(i).replace('-pad-', '') for i in texts])\n",
        "      labels.append(y.cpu())\n",
        "      probs.append(y_pred.cpu())\n",
        "\n",
        "  labels = torch.cat(labels, dim = 0)\n",
        "  probs = torch.cat(probs, dim = 0)\n",
        "  return tweets, labels, probs"
      ],
      "metadata": {
        "id": "GsCRz887Sbyk"
      },
      "execution_count": 68,
      "outputs": []
    },
    {
      "cell_type": "markdown",
      "source": [
        "Let's go ahead and get the `tweets`, `labels` and `probabilities` from the `test_iterator` using our `get_predictions` function"
      ],
      "metadata": {
        "id": "Yhe84Q76Uxne"
      }
    },
    {
      "cell_type": "code",
      "source": [
        "test_tweets, test_labels, probs = get_predictions(cbtsa_model, test_loader, device)\n",
        "\n",
        "assert len(test_tweets) == len(test_labels) == len(probs), f\"tweets, labels and probs  must have equal length.\""
      ],
      "metadata": {
        "id": "DAkM1VnkUtCq"
      },
      "execution_count": 69,
      "outputs": []
    },
    {
      "cell_type": "code",
      "source": [
        "probs[0]"
      ],
      "metadata": {
        "id": "y4DAxrdvxg96",
        "colab": {
          "base_uri": "https://localhost:8080/"
        },
        "outputId": "0b5cedeb-04db-47cf-99e9-1d28470ddca9"
      },
      "execution_count": 70,
      "outputs": [
        {
          "output_type": "execute_result",
          "data": {
            "text/plain": [
              "tensor([0.0726, 0.1232, 0.8041])"
            ]
          },
          "metadata": {},
          "execution_count": 70
        }
      ]
    },
    {
      "cell_type": "markdown",
      "source": [
        "The probs are not the `predicted` labels, it is a torch tensor of size `3` that looks as follow:\n",
        "\n",
        "````\n",
        "tensor([0.8013, 0.1063, 0.0924])`\n",
        "````\n",
        "So these are just probabilities that are telling us that, the predicted tweet has `~80%` chance of belonging to class `0`, `~11%` chance of belonging to class `1` and `9%` chance of belonging to class `2`. Basically the model is telling us that, I think the tweet you gave me belongs to sentiment of class `0`.\n",
        "\n",
        "To get the predicted values from the `tweets` in the `test_set` we need to use the `torch.argmax()` function which returns us the index with the highest number in a torch tensor. We are going to calculate the `argmax` of our probability in the first dimenion to get all the predicted values labels as follows:"
      ],
      "metadata": {
        "id": "ri3osKMrK8-j"
      }
    },
    {
      "cell_type": "code",
      "source": [
        "pred_labels = torch.argmax(probs, 1)\n",
        "pred_labels"
      ],
      "metadata": {
        "id": "sCHgK__y51Y1",
        "colab": {
          "base_uri": "https://localhost:8080/"
        },
        "outputId": "3bb41149-b5fa-4f35-cefb-18915cc937f1"
      },
      "execution_count": 71,
      "outputs": [
        {
          "output_type": "execute_result",
          "data": {
            "text/plain": [
              "tensor([2, 1, 0,  ..., 0, 1, 0])"
            ]
          },
          "metadata": {},
          "execution_count": 71
        }
      ]
    },
    {
      "cell_type": "markdown",
      "source": [
        "### The confusion matrix\n",
        "Let's create a confusion matrix as a way of visualizing how good our model is when it comes to predicting `tweets` in the test dataset. We are going to use a function called `plot_confusion_matrix` from `helperfns` in the following code cell, this function will take in the `real-labels`, predicted labels together with the classes (textual labels e.g, negative, positive or neutral)"
      ],
      "metadata": {
        "id": "CFlaMWB7WXIm"
      }
    },
    {
      "cell_type": "code",
      "source": [
        "plot_complicated_confusion_matrix(test_labels, pred_labels, sentiments, figsize=(10, 10), fontsize=10)"
      ],
      "metadata": {
        "id": "19FFqTyf6IWl",
        "colab": {
          "base_uri": "https://localhost:8080/",
          "height": 807
        },
        "outputId": "1b02f9fd-3d9e-4363-9f81-03cc1919641a"
      },
      "execution_count": 72,
      "outputs": [
        {
          "output_type": "display_data",
          "data": {
            "text/plain": [
              "<Figure size 1000x1000 with 2 Axes>"
            ],
            "image/png": "[encoded data removed]"
          },
          "metadata": {}
        }
      ]
    },
    {
      "cell_type": "markdown",
      "source": [
        "### Classification report\n",
        "In the following code cell we are going to print the classification report as a way of measuring how good our model was in predicting (positive, negative and neutral) sentiments from tweets."
      ],
      "metadata": {
        "id": "pzcPTQlQXTeV"
      }
    },
    {
      "cell_type": "code",
      "source": [
        "test_labels[:2]"
      ],
      "metadata": {
        "id": "DHozojCByXMi",
        "colab": {
          "base_uri": "https://localhost:8080/"
        },
        "outputId": "ec88b0aa-bf77-4159-d242-e9a0d5a77ca3"
      },
      "execution_count": 73,
      "outputs": [
        {
          "output_type": "execute_result",
          "data": {
            "text/plain": [
              "tensor([2, 1])"
            ]
          },
          "metadata": {},
          "execution_count": 73
        }
      ]
    },
    {
      "cell_type": "code",
      "source": [
        "cr = classification_report(test_labels, pred_labels, output_dict=False)\n",
        "print(cr)"
      ],
      "metadata": {
        "id": "1DXaTig4XcFc",
        "colab": {
          "base_uri": "https://localhost:8080/"
        },
        "outputId": "305c66a8-89ba-4f9e-cf75-d0841e5b8c7b"
      },
      "execution_count": 74,
      "outputs": [
        {
          "output_type": "stream",
          "name": "stdout",
          "text": [
            "              precision    recall  f1-score   support\n",
            "\n",
            "           0       0.99      0.98      0.99     15297\n",
            "           1       0.97      0.97      0.97     15557\n",
            "           2       0.97      0.98      0.97     15397\n",
            "\n",
            "    accuracy                           0.98     46251\n",
            "   macro avg       0.98      0.98      0.98     46251\n",
            "weighted avg       0.98      0.98      0.98     46251\n",
            "\n"
          ]
        }
      ]
    },
    {
      "cell_type": "markdown",
      "source": [
        "### Downloading the Model\n",
        "\n",
        "To download the model from google colab we do it as follows:\n"
      ],
      "metadata": {
        "id": "vAuCQfxW5BvI"
      }
    },
    {
      "cell_type": "code",
      "source": [
        "from google.colab import files\n",
        "files.download(MODEL_NAME)"
      ],
      "metadata": {
        "id": "wAynB0dA5JGW",
        "colab": {
          "base_uri": "https://localhost:8080/",
          "height": 34
        },
        "outputId": "11c4c03c-79e9-4912-d00a-c10edb916075"
      },
      "execution_count": 75,
      "outputs": [
        {
          "output_type": "display_data",
          "data": {
            "text/plain": [
              "<IPython.core.display.Javascript object>"
            ],
            "application/javascript": [
              "\n",
              "    async function download(id, filename, size) {\n",
              "      if (!google.colab.kernel.accessAllowed) {\n",
              "        return;\n",
              "      }\n",
              "      const div = document.createElement('div');\n",
              "      const label = document.createElement('label');\n",
              "      label.textContent = `Downloading \"${filename}\": `;\n",
              "      div.appendChild(label);\n",
              "      const progress = document.createElement('progress');\n",
              "      progress.max = size;\n",
              "      div.appendChild(progress);\n",
              "      document.body.appendChild(div);\n",
              "\n",
              "      const buffers = [];\n",
              "      let downloaded = 0;\n",
              "\n",
              "      const channel = await google.colab.kernel.comms.open(id);\n",
              "      // Send a message to notify the kernel that we're ready.\n",
              "      channel.send({})\n",
              "\n",
              "      for await (const message of channel.messages) {\n",
              "        // Send a message to notify the kernel that we're ready.\n",
              "        channel.send({})\n",
              "        if (message.buffers) {\n",
              "          for (const buffer of message.buffers) {\n",
              "            buffers.push(buffer);\n",
              "            downloaded += buffer.byteLength;\n",
              "            progress.value = downloaded;\n",
              "          }\n",
              "        }\n",
              "      }\n",
              "      const blob = new Blob(buffers, {type: 'application/binary'});\n",
              "      const a = document.createElement('a');\n",
              "      a.href = window.URL.createObjectURL(blob);\n",
              "      a.download = filename;\n",
              "      div.appendChild(a);\n",
              "      a.click();\n",
              "      div.remove();\n",
              "    }\n",
              "  "
            ]
          },
          "metadata": {}
        },
        {
          "output_type": "display_data",
          "data": {
            "text/plain": [
              "<IPython.core.display.Javascript object>"
            ],
            "application/javascript": [
              "download(\"download_8c341f93-c80f-44aa-9253-2c5975354580\", \"cbtsa_model.pt\", 25911287)"
            ]
          },
          "metadata": {}
        }
      ]
    },
    {
      "cell_type": "markdown",
      "source": [
        "### Additional Resources\n",
        "\n",
        "1. [paperswithcode.com](https://paperswithcode.com/task/sentiment-analysis)"
      ],
      "metadata": {
        "id": "49FvAsmwGwC1"
      }
    },
    {
      "cell_type": "code",
      "source": [],
      "metadata": {
        "id": "BRyZnPJcbida"
      },
      "execution_count": 75,
      "outputs": []
    }
  ]
}