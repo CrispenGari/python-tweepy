{
  "cells": [
    {
      "cell_type": "markdown",
      "metadata": {
        "id": "kM9Zc0gV0vKC"
      },
      "source": [
        "___\n",
        "\n",
        "Topic: `Sentiment Analysis for Cyberbullying Detection on Twitter Data Fetching `\n",
        "\n",
        "Date: `2023/05/03`\n",
        "\n",
        "Programming Language: `python`\n",
        "\n",
        "Main: `Natural Language Processing (NLP)`\n",
        "\n",
        "___\n",
        "\n",
        "\n",
        "\n",
        "### Cyber Bullying data Scrapping\n",
        "\n",
        "In this notebook we are going to use the `twitter` API to collect data for sentiment classification task. We are going to use python programming language to scrap the data from twitter. We are going to use `tweepy` together with api keys obtained from [twitter dev](https://developer.twitter.com/en). \n",
        "\n",
        "\n",
        "### Installation of `tweepy`\n",
        "\n",
        "In the following code cell we are going to install the latest version of `tweepy`. This package allows us to interact twitter using python programming language using.\n"
      ]
    },
    {
      "cell_type": "code",
      "execution_count": 1,
      "metadata": {
        "id": "UYS2rKL00vKM"
      },
      "outputs": [],
      "source": [
        "!pip install tweepy --upgrade -q"
      ]
    },
    {
      "cell_type": "markdown",
      "source": [
        "### Why tweepy?\n",
        "\n",
        "We can use libraries like `selenium` to scrape the data for our task but tweepy comes with the following advantages:\n",
        "\n",
        "* Provides many features about a given tweet (e.g. information about a tweet’s geographical location, etc.)\n",
        "* Easy to use.\n",
        "* This is an official way of getting tweets from tweeter especially for research purposes.\n",
        "* It has a well written docummentation.\n",
        "\n",
        "However, tweepy comes with some limitations such as:\n",
        "\n",
        "* Limiting API requests.\n"
      ],
      "metadata": {
        "id": "McNtBvBPjEXu"
      }
    },
    {
      "cell_type": "markdown",
      "metadata": {
        "id": "958xIfUY0vKU"
      },
      "source": [
        "### Installing TextBlob\n",
        "\n",
        "We are going to use textblob in this notebook to name tweets sentiments based on a condition. During data scrapping on tweeter our tweets will not be labeled `positive`, `negative` or `nuetral` we have to do this on our own by the help of the [TextBlob Library](https://textblob.readthedocs.io/en/dev/), which is a library for processing text in python. We are going to use this library to group our text based on `polarity` value either the text is `positive`, `negative` or `nuetral`.\n",
        "\n",
        "\n",
        "> TextBlob returns `polarity` and `subjectivity` of a sentence. Polarity lies between `[-1,1]`, `-1` defines a negative sentiment and `1` defines a positive sentiment. Negation words reverse the polarity. TextBlob has semantic labels that help with fine-grained analysis. For example — emoticons, exclamation mark, emojis, etc. Subjectivity lies between `[0,1]`. Subjectivity quantifies the amount of personal opinion and factual information contained in the text. The higher subjectivity means that the text contains personal opinion rather than factual information. TextBlob has one more parameter — intensity. TextBlob calculates subjectivity by looking at the ‘intensity’. Intensity determines if a word modifies the next word. For English, adverbs are used as modifiers (‘very good’).\n",
        "\n",
        "We are only going to make use of the text `polarity` and create labels for our dataset cyber_bullying dataset.\n"
      ]
    },
    {
      "cell_type": "code",
      "execution_count": 2,
      "metadata": {
        "id": "5rX9glV70vKV"
      },
      "outputs": [],
      "source": [
        "!pip install textblob -q"
      ]
    },
    {
      "cell_type": "markdown",
      "source": [
        "### Helper Functions\n",
        "Next let's install the `helperfns` packages, which is the package that i have created that helps us with some machine leaning helper functions."
      ],
      "metadata": {
        "id": "KVAI2t0cycmb"
      }
    },
    {
      "cell_type": "code",
      "source": [
        "!pip install helperfns -q"
      ],
      "metadata": {
        "id": "zRMnTxV5yrW3"
      },
      "execution_count": 3,
      "outputs": []
    },
    {
      "cell_type": "markdown",
      "metadata": {
        "id": "2BqgT6Yn0vKW"
      },
      "source": [
        "### Importing packages\n",
        "\n",
        "In the following code cell we are going to import packages that we are going to use in this notebook to do data collection, scrapping an data cleaning."
      ]
    },
    {
      "cell_type": "code",
      "execution_count": 4,
      "metadata": {
        "colab": {
          "base_uri": "https://localhost:8080/",
          "height": 35
        },
        "id": "4An5qFaM0vKX",
        "outputId": "7b2f2669-a513-48e9-b223-68af8d6fbbfb"
      },
      "outputs": [
        {
          "output_type": "execute_result",
          "data": {
            "text/plain": [
              "'4.14.0'"
            ],
            "application/vnd.google.colaboratory.intrinsic+json": {
              "type": "string"
            }
          },
          "metadata": {},
          "execution_count": 4
        }
      ],
      "source": [
        "import numpy as np\n",
        "import seaborn as sns\n",
        "import matplotlib.pyplot as plt\n",
        "import tweepy as tp\n",
        "import pandas as pd\n",
        "\n",
        "import os\n",
        "import json\n",
        "import uuid\n",
        "import textblob\n",
        "import re\n",
        "\n",
        "\n",
        "from textblob import TextBlob\n",
        "from helperfns.text import de_contract\n",
        "\n",
        "tp.__version__"
      ]
    },
    {
      "cell_type": "markdown",
      "metadata": {
        "id": "Nycjxl6B0vKZ"
      },
      "source": [
        "### File System\n",
        "\n",
        "We are going to store and load data from google drive so, we need to mount the goggle drive. In the following code cell we are mounting the google drive.\n",
        "\n",
        "> Note that we are importing `files` and `drive` from `google` colab. Files allows us to interact with files in google colab and `drive` allows us to connect our `google-drive` to the `google-colab` instance.\n"
      ]
    },
    {
      "cell_type": "code",
      "source": [
        "from google.colab import drive, files\n",
        "\n",
        "drive.mount('/content/drive')"
      ],
      "metadata": {
        "colab": {
          "base_uri": "https://localhost:8080/"
        },
        "id": "dKkslu7e2G0w",
        "outputId": "404fb38a-49d9-41df-ec2f-7bcee0e87104"
      },
      "execution_count": 5,
      "outputs": [
        {
          "output_type": "stream",
          "name": "stdout",
          "text": [
            "Drive already mounted at /content/drive; to attempt to forcibly remount, call drive.mount(\"/content/drive\", force_remount=True).\n"
          ]
        }
      ]
    },
    {
      "cell_type": "markdown",
      "source": [
        "### Paths\n",
        "\n",
        "In the following code cell we are going to define the paths where all our files will be stored in the google drive. The main folder is called `Cyber Bullying on Twitter` this is where all the files and everything that we are going to work with in this project going to be stored."
      ],
      "metadata": {
        "id": "iQ0S_C2b2W5g"
      }
    },
    {
      "cell_type": "code",
      "source": [
        "base_dir = '/content/drive/My Drive/Cyber Bullying on Twitter'\n",
        "\n",
        "assert os.path.exists(base_dir), f\"The path '{base_dir}' does not exists, check if you have mounted the google drive.\""
      ],
      "metadata": {
        "id": "2AbwEHzX2ghH"
      },
      "execution_count": 6,
      "outputs": []
    },
    {
      "cell_type": "markdown",
      "metadata": {
        "id": "67Pc_BnD0vKb"
      },
      "source": [
        "### Getting Keys\n",
        "\n",
        "Inorder to scrap data from twitter using `tweepy` we need to have a [twitter-developer-account](https://developer.twitter.com/en) which can be created [here](https://developer.twitter.com/en). Inoder to get these keys you need to:\n",
        "\n",
        "1. login/register to your twitter developer account\n",
        "2. create an application\n",
        "3. get the following keys from your app\n",
        "    * `API_KEY`\n",
        "    * `API_SECRET`\n",
        "    * `ACCESS_TOKEN`\n",
        "    * `ACCESS_TOKEN_SECRET`\n",
        "    * `BEARER_TOKEN`\n",
        "        \n",
        "After getting these keys we are gong to create a file called `keys.json` which we are going to store in the `Cyber Bullying on Twitter`  folder that is in our `google-drive`. In this files we are going to put our API keys instead of displaying them here in this notebook. The reason is because we don't want to make these keys public as they can be used by others on our behalf. The `keys.json` file will look as follows:\n",
        "\n",
        "```json\n",
        "{\n",
        " \"API_KEY\" : \"<YOUR_API_KEY>\",\n",
        " \"API_SECRET\": \"<YOUR_API_SECRETE>\",\n",
        " \"ACCESS_TOKEN\": \"<YOUR_ACCESS_TOKEN>\",\n",
        " \"ACCESS_TOKEN_SECRET\": \"<YOUR_ACCESS_TOKEN_SECRETE>\",\n",
        " \"BEARER_TOKEN\": \"<YOUR_BEARER_TOKEN>\"\n",
        "}\n",
        "```"
      ]
    },
    {
      "cell_type": "markdown",
      "metadata": {
        "id": "JKUn-5vx0vKc"
      },
      "source": [
        "### Loading `KEYS`.\n",
        "\n",
        "In the following code cell we are going to load `KEYS` from an external file `keys.json`. The reason I'm loading these keys from an external file it's because i dont want them to be visible in this notebook and I'm going to add the file name in the `.gitignore` file so that when this code is pushed to `github` the `keys.json` won't be uploaded and noone will have access to our `keys` to use them on our behalf."
      ]
    },
    {
      "cell_type": "code",
      "execution_count": 7,
      "metadata": {
        "id": "nByMldPQ0vKe"
      },
      "outputs": [],
      "source": [
        "with open(os.path.join(base_dir, 'keys.json'), 'r') as reader:\n",
        "    keys = json.loads(reader.read())"
      ]
    },
    {
      "cell_type": "markdown",
      "metadata": {
        "id": "-Gje0dHZ0vKf"
      },
      "source": [
        "### Keys Type\n",
        "In the following code cell we are going to create a data class type called `Keys`. This datatype class will store our keys as an object."
      ]
    },
    {
      "cell_type": "code",
      "execution_count": 8,
      "metadata": {
        "id": "1cHmOB9D0vKf"
      },
      "outputs": [],
      "source": [
        "class Keys:\n",
        "    API_KEY             = keys['API_KEY']\n",
        "    API_SECRET          = keys['API_SECRET']\n",
        "    ACCESS_TOKEN        = keys['ACCESS_TOKEN']\n",
        "    ACCESS_TOKEN_SECRET = keys['ACCESS_TOKEN_SECRET']\n",
        "    BEARER_TOKEN        = keys['BEARER_TOKEN']"
      ]
    },
    {
      "cell_type": "markdown",
      "metadata": {
        "id": "itMdntw10vKg"
      },
      "source": [
        "### Creating `client` object\n",
        "\n",
        "We are going to autheticate to create a `client` object and pass the following values to it\n",
        "\n",
        "* `BEARER_TOKEN`\n",
        "* `API_KEY`\n",
        "* `API_SECRET`\n",
        "* `ACCESS_TOKEN`\n",
        "* `ACCESS_TOKEN_SECRET`\n",
        "\n",
        "And we are also going to set the `wait_on_rate_limit` to true."
      ]
    },
    {
      "cell_type": "code",
      "execution_count": 9,
      "metadata": {
        "id": "Za99aMHa0vKg"
      },
      "outputs": [],
      "source": [
        "client = tp.Client(Keys.BEARER_TOKEN, Keys.API_KEY, Keys.API_SECRET, Keys.ACCESS_TOKEN, Keys.ACCESS_TOKEN_SECRET, wait_on_rate_limit=True)"
      ]
    },
    {
      "cell_type": "markdown",
      "metadata": {
        "id": "t4EiIM5A0vKh"
      },
      "source": [
        "### Querying data on Twitter\n",
        "\n",
        "We are going to scrap the data based on tweets which is related to the following tweets categories:\n",
        "\n",
        "1. politics\n",
        "2. sports\n",
        "3. education\n",
        "\n",
        "So our query(q) will be based on key word search that include one of those `categories`. \n",
        "\n",
        "\n",
        "### Why searching for those categories on twitter?\n",
        "\n",
        "We are using the mentioned categories because that's where cyber bulling occurs the most on twitter. We are using at least `2` categories because we want to get as much data as possible. \n",
        "\n",
        "So in our search using the `twitter` api we are going to search tweets that are:\n",
        "\n",
        "1. in english.\n",
        "2. world-wide.\n",
        "3. not retweets\n",
        "\n",
        "### Why Not Getting tweets based on Geographical location like in Zimbabwe only?\n",
        "\n",
        "The reason why we are not doing this is because we want to get a wide range of tweet text that will make our dataset as big as possible. Another reason is that we are focusing on cyber bullying and cyber bullying text is still the same everywhere, so this won't have much of a negative effect during our Natural Language Processing Task.\n",
        "\n",
        "We are going to mention the count and use the tweepy `Paginator` class to retrieve the `count` tweets."
      ]
    },
    {
      "cell_type": "code",
      "execution_count": 10,
      "metadata": {
        "id": "SxH8F4P70vKh"
      },
      "outputs": [],
      "source": [
        "COUNT = 500_000"
      ]
    },
    {
      "cell_type": "markdown",
      "source": [
        "Defining a list of categories that we will get data from."
      ],
      "metadata": {
        "id": "xCsLIaWwlrta"
      }
    },
    {
      "cell_type": "code",
      "source": [
        "# -is:retweet means I don't wantretweets and lang:en is asking for the tweets to be in english\n",
        "categories = ['politics -is:retweet lang:en', 'sports -is:retweet lang:en', 'education -is:retweet lang:en']"
      ],
      "metadata": {
        "id": "fTAnxPJ_lzpy"
      },
      "execution_count": 11,
      "outputs": []
    },
    {
      "cell_type": "markdown",
      "source": [
        "We will try to get the tweets for each category 1 by one and save them in respective `.csv` file that we will merge at the end of this notebook to create a `giant` `csv` file with cleaned text and labels."
      ],
      "metadata": {
        "id": "dfcjv_5OxKEy"
      }
    },
    {
      "cell_type": "code",
      "source": [
        "tweets = list()\n",
        "category = categories[2]\n",
        "print(f\"Geting tweets of: {category}\")\n",
        "_tweets  = tp.Paginator(client.search_recent_tweets, query=category, max_results=100).flatten(limit=COUNT)\n",
        "for tweet in _tweets:\n",
        "  tweets.append(tweet.text)"
      ],
      "metadata": {
        "colab": {
          "base_uri": "https://localhost:8080/",
          "height": 397
        },
        "id": "IUFkfGgPqBsN",
        "outputId": "85d0cde2-f4a5-4a10-f29c-b183290c0465"
      },
      "execution_count": 32,
      "outputs": [
        {
          "output_type": "stream",
          "name": "stdout",
          "text": [
            "Geting tweets of: education -is:retweet lang:en\n"
          ]
        },
        {
          "output_type": "error",
          "ename": "TwitterServerError",
          "evalue": "ignored",
          "traceback": [
            "\u001b[0;31m---------------------------------------------------------------------------\u001b[0m",
            "\u001b[0;31mTwitterServerError\u001b[0m                        Traceback (most recent call last)",
            "\u001b[0;32m<ipython-input-32-cf18bb2e0b1b>\u001b[0m in \u001b[0;36m<cell line: 5>\u001b[0;34m()\u001b[0m\n\u001b[1;32m      3\u001b[0m \u001b[0mprint\u001b[0m\u001b[0;34m(\u001b[0m\u001b[0;34mf\"Geting tweets of: {category}\"\u001b[0m\u001b[0;34m)\u001b[0m\u001b[0;34m\u001b[0m\u001b[0;34m\u001b[0m\u001b[0m\n\u001b[1;32m      4\u001b[0m \u001b[0m_tweets\u001b[0m  \u001b[0;34m=\u001b[0m \u001b[0mtp\u001b[0m\u001b[0;34m.\u001b[0m\u001b[0mPaginator\u001b[0m\u001b[0;34m(\u001b[0m\u001b[0mclient\u001b[0m\u001b[0;34m.\u001b[0m\u001b[0msearch_recent_tweets\u001b[0m\u001b[0;34m,\u001b[0m \u001b[0mquery\u001b[0m\u001b[0;34m=\u001b[0m\u001b[0mcategory\u001b[0m\u001b[0;34m,\u001b[0m \u001b[0mmax_results\u001b[0m\u001b[0;34m=\u001b[0m\u001b[0;36m100\u001b[0m\u001b[0;34m)\u001b[0m\u001b[0;34m.\u001b[0m\u001b[0mflatten\u001b[0m\u001b[0;34m(\u001b[0m\u001b[0mlimit\u001b[0m\u001b[0;34m=\u001b[0m\u001b[0mCOUNT\u001b[0m\u001b[0;34m)\u001b[0m\u001b[0;34m\u001b[0m\u001b[0;34m\u001b[0m\u001b[0m\n\u001b[0;32m----> 5\u001b[0;31m \u001b[0;32mfor\u001b[0m \u001b[0mtweet\u001b[0m \u001b[0;32min\u001b[0m \u001b[0m_tweets\u001b[0m\u001b[0;34m:\u001b[0m\u001b[0;34m\u001b[0m\u001b[0;34m\u001b[0m\u001b[0m\n\u001b[0m\u001b[1;32m      6\u001b[0m   \u001b[0mtweets\u001b[0m\u001b[0;34m.\u001b[0m\u001b[0mappend\u001b[0m\u001b[0;34m(\u001b[0m\u001b[0mtweet\u001b[0m\u001b[0;34m.\u001b[0m\u001b[0mtext\u001b[0m\u001b[0;34m)\u001b[0m\u001b[0;34m\u001b[0m\u001b[0;34m\u001b[0m\u001b[0m\n",
            "\u001b[0;32m/usr/local/lib/python3.10/dist-packages/tweepy/pagination.py\u001b[0m in \u001b[0;36mflatten\u001b[0;34m(self, limit)\u001b[0m\n\u001b[1;32m     65\u001b[0m \u001b[0;34m\u001b[0m\u001b[0m\n\u001b[1;32m     66\u001b[0m         \u001b[0mcount\u001b[0m \u001b[0;34m=\u001b[0m \u001b[0;36m0\u001b[0m\u001b[0;34m\u001b[0m\u001b[0;34m\u001b[0m\u001b[0m\n\u001b[0;32m---> 67\u001b[0;31m         for response in PaginationIterator(\n\u001b[0m\u001b[1;32m     68\u001b[0m             \u001b[0mself\u001b[0m\u001b[0;34m.\u001b[0m\u001b[0mmethod\u001b[0m\u001b[0;34m,\u001b[0m \u001b[0;34m*\u001b[0m\u001b[0mself\u001b[0m\u001b[0;34m.\u001b[0m\u001b[0margs\u001b[0m\u001b[0;34m,\u001b[0m \u001b[0;34m**\u001b[0m\u001b[0mself\u001b[0m\u001b[0;34m.\u001b[0m\u001b[0mkwargs\u001b[0m\u001b[0;34m\u001b[0m\u001b[0;34m\u001b[0m\u001b[0m\n\u001b[1;32m     69\u001b[0m         ):\n",
            "\u001b[0;32m/usr/local/lib/python3.10/dist-packages/tweepy/pagination.py\u001b[0m in \u001b[0;36m__next__\u001b[0;34m(self)\u001b[0m\n\u001b[1;32m    124\u001b[0m             \u001b[0mself\u001b[0m\u001b[0;34m.\u001b[0m\u001b[0mkwargs\u001b[0m\u001b[0;34m[\u001b[0m\u001b[0;34m\"pagination_token\"\u001b[0m\u001b[0;34m]\u001b[0m \u001b[0;34m=\u001b[0m \u001b[0mpagination_token\u001b[0m\u001b[0;34m\u001b[0m\u001b[0;34m\u001b[0m\u001b[0m\n\u001b[1;32m    125\u001b[0m \u001b[0;34m\u001b[0m\u001b[0m\n\u001b[0;32m--> 126\u001b[0;31m         \u001b[0mresponse\u001b[0m \u001b[0;34m=\u001b[0m \u001b[0mself\u001b[0m\u001b[0;34m.\u001b[0m\u001b[0mmethod\u001b[0m\u001b[0;34m(\u001b[0m\u001b[0;34m*\u001b[0m\u001b[0mself\u001b[0m\u001b[0;34m.\u001b[0m\u001b[0margs\u001b[0m\u001b[0;34m,\u001b[0m \u001b[0;34m**\u001b[0m\u001b[0mself\u001b[0m\u001b[0;34m.\u001b[0m\u001b[0mkwargs\u001b[0m\u001b[0;34m)\u001b[0m\u001b[0;34m\u001b[0m\u001b[0;34m\u001b[0m\u001b[0m\n\u001b[0m\u001b[1;32m    127\u001b[0m \u001b[0;34m\u001b[0m\u001b[0m\n\u001b[1;32m    128\u001b[0m         \u001b[0;32mif\u001b[0m \u001b[0misinstance\u001b[0m\u001b[0;34m(\u001b[0m\u001b[0mresponse\u001b[0m\u001b[0;34m,\u001b[0m \u001b[0mResponse\u001b[0m\u001b[0;34m)\u001b[0m\u001b[0;34m:\u001b[0m\u001b[0;34m\u001b[0m\u001b[0;34m\u001b[0m\u001b[0m\n",
            "\u001b[0;32m/usr/local/lib/python3.10/dist-packages/tweepy/client.py\u001b[0m in \u001b[0;36msearch_recent_tweets\u001b[0;34m(self, query, user_auth, **params)\u001b[0m\n\u001b[1;32m   1264\u001b[0m         \"\"\"\n\u001b[1;32m   1265\u001b[0m         \u001b[0mparams\u001b[0m\u001b[0;34m[\u001b[0m\u001b[0;34m\"query\"\u001b[0m\u001b[0;34m]\u001b[0m \u001b[0;34m=\u001b[0m \u001b[0mquery\u001b[0m\u001b[0;34m\u001b[0m\u001b[0;34m\u001b[0m\u001b[0m\n\u001b[0;32m-> 1266\u001b[0;31m         return self._make_request(\n\u001b[0m\u001b[1;32m   1267\u001b[0m             \u001b[0;34m\"GET\"\u001b[0m\u001b[0;34m,\u001b[0m \u001b[0;34m\"/2/tweets/search/recent\"\u001b[0m\u001b[0;34m,\u001b[0m \u001b[0mparams\u001b[0m\u001b[0;34m=\u001b[0m\u001b[0mparams\u001b[0m\u001b[0;34m,\u001b[0m\u001b[0;34m\u001b[0m\u001b[0;34m\u001b[0m\u001b[0m\n\u001b[1;32m   1268\u001b[0m             endpoint_parameters=(\n",
            "\u001b[0;32m/usr/local/lib/python3.10/dist-packages/tweepy/client.py\u001b[0m in \u001b[0;36m_make_request\u001b[0;34m(self, method, route, params, endpoint_parameters, json, data_type, user_auth)\u001b[0m\n\u001b[1;32m    127\u001b[0m         \u001b[0mrequest_params\u001b[0m \u001b[0;34m=\u001b[0m \u001b[0mself\u001b[0m\u001b[0;34m.\u001b[0m\u001b[0m_process_params\u001b[0m\u001b[0;34m(\u001b[0m\u001b[0mparams\u001b[0m\u001b[0;34m,\u001b[0m \u001b[0mendpoint_parameters\u001b[0m\u001b[0;34m)\u001b[0m\u001b[0;34m\u001b[0m\u001b[0;34m\u001b[0m\u001b[0m\n\u001b[1;32m    128\u001b[0m \u001b[0;34m\u001b[0m\u001b[0m\n\u001b[0;32m--> 129\u001b[0;31m         response = self.request(method, route, params=request_params,\n\u001b[0m\u001b[1;32m    130\u001b[0m                                 json=json, user_auth=user_auth)\n\u001b[1;32m    131\u001b[0m \u001b[0;34m\u001b[0m\u001b[0m\n",
            "\u001b[0;32m/usr/local/lib/python3.10/dist-packages/tweepy/client.py\u001b[0m in \u001b[0;36mrequest\u001b[0;34m(self, method, route, params, json, user_auth)\u001b[0m\n\u001b[1;32m    115\u001b[0m                     \u001b[0;32mraise\u001b[0m \u001b[0mTooManyRequests\u001b[0m\u001b[0;34m(\u001b[0m\u001b[0mresponse\u001b[0m\u001b[0;34m)\u001b[0m\u001b[0;34m\u001b[0m\u001b[0;34m\u001b[0m\u001b[0m\n\u001b[1;32m    116\u001b[0m             \u001b[0;32mif\u001b[0m \u001b[0mresponse\u001b[0m\u001b[0;34m.\u001b[0m\u001b[0mstatus_code\u001b[0m \u001b[0;34m>=\u001b[0m \u001b[0;36m500\u001b[0m\u001b[0;34m:\u001b[0m\u001b[0;34m\u001b[0m\u001b[0;34m\u001b[0m\u001b[0m\n\u001b[0;32m--> 117\u001b[0;31m                 \u001b[0;32mraise\u001b[0m \u001b[0mTwitterServerError\u001b[0m\u001b[0;34m(\u001b[0m\u001b[0mresponse\u001b[0m\u001b[0;34m)\u001b[0m\u001b[0;34m\u001b[0m\u001b[0;34m\u001b[0m\u001b[0m\n\u001b[0m\u001b[1;32m    118\u001b[0m             \u001b[0;32mif\u001b[0m \u001b[0;32mnot\u001b[0m \u001b[0;36m200\u001b[0m \u001b[0;34m<=\u001b[0m \u001b[0mresponse\u001b[0m\u001b[0;34m.\u001b[0m\u001b[0mstatus_code\u001b[0m \u001b[0;34m<\u001b[0m \u001b[0;36m300\u001b[0m\u001b[0;34m:\u001b[0m\u001b[0;34m\u001b[0m\u001b[0;34m\u001b[0m\u001b[0m\n\u001b[1;32m    119\u001b[0m                 \u001b[0;32mraise\u001b[0m \u001b[0mHTTPException\u001b[0m\u001b[0;34m(\u001b[0m\u001b[0mresponse\u001b[0m\u001b[0;34m)\u001b[0m\u001b[0;34m\u001b[0m\u001b[0;34m\u001b[0m\u001b[0m\n",
            "\u001b[0;31mTwitterServerError\u001b[0m: 503 Service Unavailable\nService Unavailable"
          ]
        }
      ]
    },
    {
      "cell_type": "markdown",
      "metadata": {
        "id": "9sQ4N4fA0vKl"
      },
      "source": [
        "### Checking a single `tweet` example\n",
        "In the following code cell we are going to check a single tweet example."
      ]
    },
    {
      "cell_type": "code",
      "source": [
        "tweets[0]"
      ],
      "metadata": {
        "id": "bWw92CGIhYyQ",
        "colab": {
          "base_uri": "https://localhost:8080/",
          "height": 53
        },
        "outputId": "47e6f2d3-ed04-47cb-bddb-4c1b22c37835"
      },
      "execution_count": 33,
      "outputs": [
        {
          "output_type": "execute_result",
          "data": {
            "text/plain": [
              "\"investment in critical areas such as education, healthcare, and infrastructure, which can have long-term negative effects on a country's development.\\n\\nIn conclusion, electing a drug baron as a president is a dangerous proposition that can have severe consequences for a country's\""
            ],
            "application/vnd.google.colaboratory.intrinsic+json": {
              "type": "string"
            }
          },
          "metadata": {},
          "execution_count": 33
        }
      ]
    },
    {
      "cell_type": "markdown",
      "metadata": {
        "id": "UIQX0VJ20vKn"
      },
      "source": [
        "\n",
        "\n",
        "### Features (text) Cleaning\n",
        "\n",
        "Our tweets was obtained using `scrapping` if we look at our example texts we can see that we have hastags `#`, mentions `@user`, numbers `123`, url's `http://google.com/whatever` etc. These things does not add any meaning to our text. We are going to create a preprocessing function that will be able to remove all hashtags, mentions, urls, numbers as well as expanding the words like `I'm` to `I am` so that we make our text so clean. We are also going to remove single letter that means nothing and convert everything word to lowercase for example let's have a look at the following sentence :\n",
        "\n",
        "```\n",
        "I'm working with a model downloaded on http://google.com/whatever #100daysofcode created using AI by @username5 e h in 2015.\n",
        "```\n",
        "\n",
        "When we clean this text we want it to look as follows:\n",
        "\n",
        "```\n",
        "i am working with a model downloaded on created using ai by in.\n",
        "```\n",
        "\n",
        "The above sentence does not make any sense to human being to to deep learning model it does make sense. Because deep learning models learns the context in the sentence not the meaning of the sentence.\n",
        "\n",
        "\n",
        "### Is text cleaning going to improve model metrics?\n",
        "\n",
        "Cleaning features also known as a step to \"feature extration\" is a very important step in machine learning models. It helps us to reduce noise in our features so that our model instead of forcusing on learning numbers, hashtags and mentions it will just focus on the text which is what maters. This also reduces the size of the `vocabulary`. In NLP we have an important consept called `vocabulary` which i'm going to explain it more about it later in the model training notebook. But we must know that text cleaning reduces the size of the vocabulary and improve the model training speed."
      ]
    },
    {
      "cell_type": "code",
      "execution_count": 34,
      "metadata": {
        "id": "UkSohWIV0vKo",
        "colab": {
          "base_uri": "https://localhost:8080/",
          "height": 35
        },
        "outputId": "4401125b-2fd5-4517-8a04-761779952886"
      },
      "outputs": [
        {
          "output_type": "execute_result",
          "data": {
            "text/plain": [
              "'i am working with a model downloaded on created using ai by in'"
            ],
            "application/vnd.google.colaboratory.intrinsic+json": {
              "type": "string"
            }
          },
          "metadata": {},
          "execution_count": 34
        }
      ],
      "source": [
        "def clean_sentence(sent:str)->str:\n",
        "    \"\"\"\n",
        "    Args:\n",
        "        sent (str): an uncleaned sentence with text, punctuations, numbers \n",
        "    \"\"\"\n",
        "    sent = sent.lower() # converting the text to lower case\n",
        "    sent = re.sub(r'(@|#)([A-Za-z0-9]+)', ' ', sent) # removing tags and mentions (there's no right way of doing it with regular expression but this will try)\n",
        "    sent = re.sub(r\"([A-Za-z0-9]+[.-_])*[A-Za-z0-9]+@[A-Za-z0-9-]+(\\.[A-Z|a-z]{2,})+\", \" \", sent) # removing emails\n",
        "    sent = re.sub(r'https?\\S+', ' ', sent, flags=re.MULTILINE) # removing url's\n",
        "    sent = re.sub(r'\\d', ' ', sent) # removing none word characters\n",
        "    sent = re.sub(r'[^\\w\\s\\']', ' ', sent) # removing punctuations except for \"'\" in words like I'm\n",
        "    sent = re.sub(r'\\s+', ' ', sent).strip() # remove more than one space\n",
        "    words = list()\n",
        "    for word in sent.split(' '):\n",
        "        if len(word) == 1 and word not in ['a',  'i']:\n",
        "          continue\n",
        "        else:\n",
        "          words.append(de_contract(word)) # replace word's like \"i'm -> i am\"\n",
        "    return \" \".join(words)\n",
        "\n",
        "clean_sentence(\"I'm working with a model downloaded on http://google.com/whatever #100daysofcode created using AI by @username5 e h in 2015.\")"
      ]
    },
    {
      "cell_type": "markdown",
      "metadata": {
        "id": "r_RVllQf0vKo"
      },
      "source": [
        "> TextBlob’s output for a polarity task is a float within the range `[-1.0, 1.0]` where `-1.0` is a negative polarity and `1.0` is positive. This score can also be equal to `0`, which stands for a neutral evaluation of a statement as it doesn’t contain any words from the training set."
      ]
    },
    {
      "cell_type": "code",
      "execution_count": 35,
      "metadata": {
        "id": "wY76CLeg0vKp"
      },
      "outputs": [],
      "source": [
        "\"\"\"\n",
        "later on we will customize for neutral based on the absolute threshold to balance the data.\n",
        "\"\"\"\n",
        "def create_label(text:str)->str:\n",
        "    blob = TextBlob(text)\n",
        "    polarity =  blob.sentiment.polarity\n",
        "    if polarity == 0.0:\n",
        "        return \"neutral\"\n",
        "    elif polarity < 0.0:\n",
        "        return \"negative\"\n",
        "    else:\n",
        "        return \"positive\""
      ]
    },
    {
      "cell_type": "code",
      "execution_count": 36,
      "metadata": {
        "id": "Coe3PcLX0vKq",
        "outputId": "2a7c0201-d287-4849-c6c4-4c21050a0545",
        "colab": {
          "base_uri": "https://localhost:8080/"
        }
      },
      "outputs": [
        {
          "output_type": "execute_result",
          "data": {
            "text/plain": [
              "('positive', 'neutral', 'negative')"
            ]
          },
          "metadata": {},
          "execution_count": 36
        }
      ],
      "source": [
        "create_label(\"This is lovely\"), create_label(\"I'm not saying anything\"), create_label(\"this is boring\")"
      ]
    },
    {
      "cell_type": "markdown",
      "metadata": {
        "id": "2Iyl-MWi0vKt"
      },
      "source": [
        "### Clean Tweets\n",
        "\n",
        "We are then going to clean our tweets text, give them class labels then save the the data in a `csv` file. Our `csv` file will have the following columns.\n",
        "\n",
        "1. `text` - the tweet cleaned text\n",
        "\n",
        "2. `label` - the class label which can be `positive`, `negative` or `neutral`\n",
        "\n"
      ]
    },
    {
      "cell_type": "code",
      "execution_count": 37,
      "metadata": {
        "id": "FSPaT-a80vKt"
      },
      "outputs": [],
      "source": [
        "cleaned_tweets = list()\n",
        "for twt in tweets:\n",
        "  twt_txt = clean_sentence(twt)\n",
        "  twt_label = create_label(twt_txt)\n",
        "  cleaned_tweets.append(tuple([twt_txt, twt_label]))"
      ]
    },
    {
      "cell_type": "code",
      "source": [
        "len(cleaned_tweets)"
      ],
      "metadata": {
        "colab": {
          "base_uri": "https://localhost:8080/"
        },
        "id": "1nf5XyAmmXap",
        "outputId": "17218a94-c5e8-4127-dead-df51f9767a7e"
      },
      "execution_count": 38,
      "outputs": [
        {
          "output_type": "execute_result",
          "data": {
            "text/plain": [
              "28092"
            ]
          },
          "metadata": {},
          "execution_count": 38
        }
      ]
    },
    {
      "cell_type": "markdown",
      "metadata": {
        "id": "jm_6ecA60vKu"
      },
      "source": [
        "### Columns\n",
        "In the following code cell we are going to define the columns name that we are going to need in our `.csv` file as follows."
      ]
    },
    {
      "cell_type": "code",
      "execution_count": 39,
      "metadata": {
        "id": "-b9gDI2b0vKu"
      },
      "outputs": [],
      "source": [
        "columns = np.array([ 'text', 'label'])"
      ]
    },
    {
      "cell_type": "markdown",
      "metadata": {
        "id": "Epi4Aor00vKu"
      },
      "source": [
        "### Dataframe\n",
        "In the following column we are going to create a dataframe base on our `[category].csv` list and check the first `10` rows of our data as follows:\n",
        "    \n",
        "\n",
        "> Note that the `category` is dynamic its either `education`, `sports` or `politics`."
      ]
    },
    {
      "cell_type": "code",
      "execution_count": 40,
      "metadata": {
        "id": "oAKBG0D10vKu",
        "outputId": "3e703214-3ea5-4dfc-f10a-269d0a4261ac",
        "colab": {
          "base_uri": "https://localhost:8080/",
          "height": 363
        }
      },
      "outputs": [
        {
          "output_type": "execute_result",
          "data": {
            "text/plain": [
              "                                                text     label\n",
              "0  investment in critical areas such as education...  negative\n",
              "1  is there value in creating central teaching id...  positive\n",
              "2  chegg chgg after the education company says ch...   neutral\n",
              "3  the response to the phil beadle interview is e...  positive\n",
              "4  non childish elder public infrastructure is no...  negative\n",
              "5  the winners of the eighth arts for competition...  positive\n",
              "6  great collaboration between education govt and...  positive\n",
              "7  okay i am not happy about the issue i was one ...  positive\n",
              "8  and disadvantage called intelligence the aim o...  positive\n",
              "9  'putting kids first' legislation clears north ...  positive"
            ],
            "text/html": [
              "\n",
              "  <div id=\"df-400a8d16-923e-4fc3-8879-292f735f8fa2\">\n",
              "    <div class=\"colab-df-container\">\n",
              "      <div>\n",
              "<style scoped>\n",
              "    .dataframe tbody tr th:only-of-type {\n",
              "        vertical-align: middle;\n",
              "    }\n",
              "\n",
              "    .dataframe tbody tr th {\n",
              "        vertical-align: top;\n",
              "    }\n",
              "\n",
              "    .dataframe thead th {\n",
              "        text-align: right;\n",
              "    }\n",
              "</style>\n",
              "<table border=\"1\" class=\"dataframe\">\n",
              "  <thead>\n",
              "    <tr style=\"text-align: right;\">\n",
              "      <th></th>\n",
              "      <th>text</th>\n",
              "      <th>label</th>\n",
              "    </tr>\n",
              "  </thead>\n",
              "  <tbody>\n",
              "    <tr>\n",
              "      <th>0</th>\n",
              "      <td>investment in critical areas such as education...</td>\n",
              "      <td>negative</td>\n",
              "    </tr>\n",
              "    <tr>\n",
              "      <th>1</th>\n",
              "      <td>is there value in creating central teaching id...</td>\n",
              "      <td>positive</td>\n",
              "    </tr>\n",
              "    <tr>\n",
              "      <th>2</th>\n",
              "      <td>chegg chgg after the education company says ch...</td>\n",
              "      <td>neutral</td>\n",
              "    </tr>\n",
              "    <tr>\n",
              "      <th>3</th>\n",
              "      <td>the response to the phil beadle interview is e...</td>\n",
              "      <td>positive</td>\n",
              "    </tr>\n",
              "    <tr>\n",
              "      <th>4</th>\n",
              "      <td>non childish elder public infrastructure is no...</td>\n",
              "      <td>negative</td>\n",
              "    </tr>\n",
              "    <tr>\n",
              "      <th>5</th>\n",
              "      <td>the winners of the eighth arts for competition...</td>\n",
              "      <td>positive</td>\n",
              "    </tr>\n",
              "    <tr>\n",
              "      <th>6</th>\n",
              "      <td>great collaboration between education govt and...</td>\n",
              "      <td>positive</td>\n",
              "    </tr>\n",
              "    <tr>\n",
              "      <th>7</th>\n",
              "      <td>okay i am not happy about the issue i was one ...</td>\n",
              "      <td>positive</td>\n",
              "    </tr>\n",
              "    <tr>\n",
              "      <th>8</th>\n",
              "      <td>and disadvantage called intelligence the aim o...</td>\n",
              "      <td>positive</td>\n",
              "    </tr>\n",
              "    <tr>\n",
              "      <th>9</th>\n",
              "      <td>'putting kids first' legislation clears north ...</td>\n",
              "      <td>positive</td>\n",
              "    </tr>\n",
              "  </tbody>\n",
              "</table>\n",
              "</div>\n",
              "      <button class=\"colab-df-convert\" onclick=\"convertToInteractive('df-400a8d16-923e-4fc3-8879-292f735f8fa2')\"\n",
              "              title=\"Convert this dataframe to an interactive table.\"\n",
              "              style=\"display:none;\">\n",
              "        \n",
              "  <svg xmlns=\"http://www.w3.org/2000/svg\" height=\"24px\"viewBox=\"0 0 24 24\"\n",
              "       width=\"24px\">\n",
              "    <path d=\"M0 0h24v24H0V0z\" fill=\"none\"/>\n",
              "    <path d=\"M18.56 5.44l.94 2.06.94-2.06 2.06-.94-2.06-.94-.94-2.06-.94 2.06-2.06.94zm-11 1L8.5 8.5l.94-2.06 2.06-.94-2.06-.94L8.5 2.5l-.94 2.06-2.06.94zm10 10l.94 2.06.94-2.06 2.06-.94-2.06-.94-.94-2.06-.94 2.06-2.06.94z\"/><path d=\"M17.41 7.96l-1.37-1.37c-.4-.4-.92-.59-1.43-.59-.52 0-1.04.2-1.43.59L10.3 9.45l-7.72 7.72c-.78.78-.78 2.05 0 2.83L4 21.41c.39.39.9.59 1.41.59.51 0 1.02-.2 1.41-.59l7.78-7.78 2.81-2.81c.8-.78.8-2.07 0-2.86zM5.41 20L4 18.59l7.72-7.72 1.47 1.35L5.41 20z\"/>\n",
              "  </svg>\n",
              "      </button>\n",
              "      \n",
              "  <style>\n",
              "    .colab-df-container {\n",
              "      display:flex;\n",
              "      flex-wrap:wrap;\n",
              "      gap: 12px;\n",
              "    }\n",
              "\n",
              "    .colab-df-convert {\n",
              "      background-color: #E8F0FE;\n",
              "      border: none;\n",
              "      border-radius: 50%;\n",
              "      cursor: pointer;\n",
              "      display: none;\n",
              "      fill: #1967D2;\n",
              "      height: 32px;\n",
              "      padding: 0 0 0 0;\n",
              "      width: 32px;\n",
              "    }\n",
              "\n",
              "    .colab-df-convert:hover {\n",
              "      background-color: #E2EBFA;\n",
              "      box-shadow: 0px 1px 2px rgba(60, 64, 67, 0.3), 0px 1px 3px 1px rgba(60, 64, 67, 0.15);\n",
              "      fill: #174EA6;\n",
              "    }\n",
              "\n",
              "    [theme=dark] .colab-df-convert {\n",
              "      background-color: #3B4455;\n",
              "      fill: #D2E3FC;\n",
              "    }\n",
              "\n",
              "    [theme=dark] .colab-df-convert:hover {\n",
              "      background-color: #434B5C;\n",
              "      box-shadow: 0px 1px 3px 1px rgba(0, 0, 0, 0.15);\n",
              "      filter: drop-shadow(0px 1px 2px rgba(0, 0, 0, 0.3));\n",
              "      fill: #FFFFFF;\n",
              "    }\n",
              "  </style>\n",
              "\n",
              "      <script>\n",
              "        const buttonEl =\n",
              "          document.querySelector('#df-400a8d16-923e-4fc3-8879-292f735f8fa2 button.colab-df-convert');\n",
              "        buttonEl.style.display =\n",
              "          google.colab.kernel.accessAllowed ? 'block' : 'none';\n",
              "\n",
              "        async function convertToInteractive(key) {\n",
              "          const element = document.querySelector('#df-400a8d16-923e-4fc3-8879-292f735f8fa2');\n",
              "          const dataTable =\n",
              "            await google.colab.kernel.invokeFunction('convertToInteractive',\n",
              "                                                     [key], {});\n",
              "          if (!dataTable) return;\n",
              "\n",
              "          const docLinkHtml = 'Like what you see? Visit the ' +\n",
              "            '<a target=\"_blank\" href=https://colab.research.google.com/notebooks/data_table.ipynb>data table notebook</a>'\n",
              "            + ' to learn more about interactive tables.';\n",
              "          element.innerHTML = '';\n",
              "          dataTable['output_type'] = 'display_data';\n",
              "          await google.colab.output.renderOutput(dataTable, element);\n",
              "          const docLink = document.createElement('div');\n",
              "          docLink.innerHTML = docLinkHtml;\n",
              "          element.appendChild(docLink);\n",
              "        }\n",
              "      </script>\n",
              "    </div>\n",
              "  </div>\n",
              "  "
            ]
          },
          "metadata": {},
          "execution_count": 40
        }
      ],
      "source": [
        "dataframe = pd.DataFrame(cleaned_tweets, columns=columns, index=None)\n",
        "dataframe.head(10)"
      ]
    },
    {
      "cell_type": "code",
      "source": [
        "file_name = f\"{category.replace(' -is:retweet lang:en', '')}.csv\" # politics.csv, # education.csv and # sport.csv\n",
        "save_path = os.path.join(base_dir, file_name) \n",
        "dataframe.to_csv(save_path)\n",
        "print(f\"Done: {file_name}\")"
      ],
      "metadata": {
        "colab": {
          "base_uri": "https://localhost:8080/"
        },
        "id": "bhlQhlJkDHED",
        "outputId": "f8214776-57b1-40d8-968f-bd14e142dce6"
      },
      "execution_count": 41,
      "outputs": [
        {
          "output_type": "stream",
          "name": "stdout",
          "text": [
            "Done: education.csv\n"
          ]
        }
      ]
    },
    {
      "cell_type": "markdown",
      "source": [
        "> Note that we will need to repeate the process of getting all the data from the mentioned category before we proccede to the code cells that follows after.\n",
        "\n",
        "\n",
        "Now that we have the following files in our google drive:\n",
        "\n",
        "1. `sports.csv`\n",
        "2. `education.csv`\n",
        "3. `politics.csv`\n",
        "\n",
        "Now we can go ahead and merge these csv file to create a giant `csv` file that we will use to train the model."
      ],
      "metadata": {
        "id": "yFaLwVaODk-S"
      }
    },
    {
      "cell_type": "markdown",
      "metadata": {
        "id": "jpG2u_uQ0vKv"
      },
      "source": [
        "### Saving our data \n",
        "\n",
        "We are going to save our cleaned data in a `csv` file with the name `clean_tweets.csv` we are fong to use the pandas method on the dataframe called `to_csv` as follows:"
      ]
    },
    {
      "cell_type": "code",
      "source": [
        "df_sports = pd.read_csv(os.path.join(base_dir, 'sports.csv'))\n",
        "df_education = pd.read_csv(os.path.join(base_dir, 'education.csv'))\n",
        "df_politics = pd.read_csv(os.path.join(base_dir, 'politics.csv'))\n",
        "giant_df = pd.concat([df_sports, df_education, df_politics], ignore_index=True)\n",
        "giant_df.drop(['Unnamed: 0'], axis=1, inplace=True)\n",
        "# shuffle values\n",
        "giant_df = giant_df.sample(frac = 1)\n",
        "giant_df.head(10)"
      ],
      "metadata": {
        "colab": {
          "base_uri": "https://localhost:8080/",
          "height": 363
        },
        "id": "SFPvhrxZFzAJ",
        "outputId": "61d6fb78-c9d9-49ac-d43a-059743fbe213"
      },
      "execution_count": 51,
      "outputs": [
        {
          "output_type": "execute_result",
          "data": {
            "text/plain": [
              "                                                     text     label\n",
              "112052  time for a full criminal investigation into po...  negative\n",
              "38453                     ew your personality is politics   neutral\n",
              "176574  bjp is politics has now come down to foul crie...  negative\n",
              "113079  history low step individual politics life fast...  positive\n",
              "100130  in medieval times using god for dynastic polit...  positive\n",
              "85701   naive idealism and naive overreaction are the ...  negative\n",
              "38256   the defence ministry mapn is looking for over ...   neutral\n",
              "1871                       failed in men sports try women  negative\n",
              "76174                                 expect delays ahead   neutral\n",
              "197582        trumpism isn politics it extortion and also   neutral"
            ],
            "text/html": [
              "\n",
              "  <div id=\"df-2db766a9-e80d-4cf9-91db-36e247b67d22\">\n",
              "    <div class=\"colab-df-container\">\n",
              "      <div>\n",
              "<style scoped>\n",
              "    .dataframe tbody tr th:only-of-type {\n",
              "        vertical-align: middle;\n",
              "    }\n",
              "\n",
              "    .dataframe tbody tr th {\n",
              "        vertical-align: top;\n",
              "    }\n",
              "\n",
              "    .dataframe thead th {\n",
              "        text-align: right;\n",
              "    }\n",
              "</style>\n",
              "<table border=\"1\" class=\"dataframe\">\n",
              "  <thead>\n",
              "    <tr style=\"text-align: right;\">\n",
              "      <th></th>\n",
              "      <th>text</th>\n",
              "      <th>label</th>\n",
              "    </tr>\n",
              "  </thead>\n",
              "  <tbody>\n",
              "    <tr>\n",
              "      <th>112052</th>\n",
              "      <td>time for a full criminal investigation into po...</td>\n",
              "      <td>negative</td>\n",
              "    </tr>\n",
              "    <tr>\n",
              "      <th>38453</th>\n",
              "      <td>ew your personality is politics</td>\n",
              "      <td>neutral</td>\n",
              "    </tr>\n",
              "    <tr>\n",
              "      <th>176574</th>\n",
              "      <td>bjp is politics has now come down to foul crie...</td>\n",
              "      <td>negative</td>\n",
              "    </tr>\n",
              "    <tr>\n",
              "      <th>113079</th>\n",
              "      <td>history low step individual politics life fast...</td>\n",
              "      <td>positive</td>\n",
              "    </tr>\n",
              "    <tr>\n",
              "      <th>100130</th>\n",
              "      <td>in medieval times using god for dynastic polit...</td>\n",
              "      <td>positive</td>\n",
              "    </tr>\n",
              "    <tr>\n",
              "      <th>85701</th>\n",
              "      <td>naive idealism and naive overreaction are the ...</td>\n",
              "      <td>negative</td>\n",
              "    </tr>\n",
              "    <tr>\n",
              "      <th>38256</th>\n",
              "      <td>the defence ministry mapn is looking for over ...</td>\n",
              "      <td>neutral</td>\n",
              "    </tr>\n",
              "    <tr>\n",
              "      <th>1871</th>\n",
              "      <td>failed in men sports try women</td>\n",
              "      <td>negative</td>\n",
              "    </tr>\n",
              "    <tr>\n",
              "      <th>76174</th>\n",
              "      <td>expect delays ahead</td>\n",
              "      <td>neutral</td>\n",
              "    </tr>\n",
              "    <tr>\n",
              "      <th>197582</th>\n",
              "      <td>trumpism isn politics it extortion and also</td>\n",
              "      <td>neutral</td>\n",
              "    </tr>\n",
              "  </tbody>\n",
              "</table>\n",
              "</div>\n",
              "      <button class=\"colab-df-convert\" onclick=\"convertToInteractive('df-2db766a9-e80d-4cf9-91db-36e247b67d22')\"\n",
              "              title=\"Convert this dataframe to an interactive table.\"\n",
              "              style=\"display:none;\">\n",
              "        \n",
              "  <svg xmlns=\"http://www.w3.org/2000/svg\" height=\"24px\"viewBox=\"0 0 24 24\"\n",
              "       width=\"24px\">\n",
              "    <path d=\"M0 0h24v24H0V0z\" fill=\"none\"/>\n",
              "    <path d=\"M18.56 5.44l.94 2.06.94-2.06 2.06-.94-2.06-.94-.94-2.06-.94 2.06-2.06.94zm-11 1L8.5 8.5l.94-2.06 2.06-.94-2.06-.94L8.5 2.5l-.94 2.06-2.06.94zm10 10l.94 2.06.94-2.06 2.06-.94-2.06-.94-.94-2.06-.94 2.06-2.06.94z\"/><path d=\"M17.41 7.96l-1.37-1.37c-.4-.4-.92-.59-1.43-.59-.52 0-1.04.2-1.43.59L10.3 9.45l-7.72 7.72c-.78.78-.78 2.05 0 2.83L4 21.41c.39.39.9.59 1.41.59.51 0 1.02-.2 1.41-.59l7.78-7.78 2.81-2.81c.8-.78.8-2.07 0-2.86zM5.41 20L4 18.59l7.72-7.72 1.47 1.35L5.41 20z\"/>\n",
              "  </svg>\n",
              "      </button>\n",
              "      \n",
              "  <style>\n",
              "    .colab-df-container {\n",
              "      display:flex;\n",
              "      flex-wrap:wrap;\n",
              "      gap: 12px;\n",
              "    }\n",
              "\n",
              "    .colab-df-convert {\n",
              "      background-color: #E8F0FE;\n",
              "      border: none;\n",
              "      border-radius: 50%;\n",
              "      cursor: pointer;\n",
              "      display: none;\n",
              "      fill: #1967D2;\n",
              "      height: 32px;\n",
              "      padding: 0 0 0 0;\n",
              "      width: 32px;\n",
              "    }\n",
              "\n",
              "    .colab-df-convert:hover {\n",
              "      background-color: #E2EBFA;\n",
              "      box-shadow: 0px 1px 2px rgba(60, 64, 67, 0.3), 0px 1px 3px 1px rgba(60, 64, 67, 0.15);\n",
              "      fill: #174EA6;\n",
              "    }\n",
              "\n",
              "    [theme=dark] .colab-df-convert {\n",
              "      background-color: #3B4455;\n",
              "      fill: #D2E3FC;\n",
              "    }\n",
              "\n",
              "    [theme=dark] .colab-df-convert:hover {\n",
              "      background-color: #434B5C;\n",
              "      box-shadow: 0px 1px 3px 1px rgba(0, 0, 0, 0.15);\n",
              "      filter: drop-shadow(0px 1px 2px rgba(0, 0, 0, 0.3));\n",
              "      fill: #FFFFFF;\n",
              "    }\n",
              "  </style>\n",
              "\n",
              "      <script>\n",
              "        const buttonEl =\n",
              "          document.querySelector('#df-2db766a9-e80d-4cf9-91db-36e247b67d22 button.colab-df-convert');\n",
              "        buttonEl.style.display =\n",
              "          google.colab.kernel.accessAllowed ? 'block' : 'none';\n",
              "\n",
              "        async function convertToInteractive(key) {\n",
              "          const element = document.querySelector('#df-2db766a9-e80d-4cf9-91db-36e247b67d22');\n",
              "          const dataTable =\n",
              "            await google.colab.kernel.invokeFunction('convertToInteractive',\n",
              "                                                     [key], {});\n",
              "          if (!dataTable) return;\n",
              "\n",
              "          const docLinkHtml = 'Like what you see? Visit the ' +\n",
              "            '<a target=\"_blank\" href=https://colab.research.google.com/notebooks/data_table.ipynb>data table notebook</a>'\n",
              "            + ' to learn more about interactive tables.';\n",
              "          element.innerHTML = '';\n",
              "          dataTable['output_type'] = 'display_data';\n",
              "          await google.colab.output.renderOutput(dataTable, element);\n",
              "          const docLink = document.createElement('div');\n",
              "          docLink.innerHTML = docLinkHtml;\n",
              "          element.appendChild(docLink);\n",
              "        }\n",
              "      </script>\n",
              "    </div>\n",
              "  </div>\n",
              "  "
            ]
          },
          "metadata": {},
          "execution_count": 51
        }
      ]
    },
    {
      "cell_type": "code",
      "execution_count": 52,
      "metadata": {
        "id": "0u46901V0vKv",
        "outputId": "ef889d10-4c86-4a0f-b053-29641e7cdc8a",
        "colab": {
          "base_uri": "https://localhost:8080/"
        }
      },
      "outputs": [
        {
          "output_type": "stream",
          "name": "stdout",
          "text": [
            "Done\n"
          ]
        }
      ],
      "source": [
        "save_path = os.path.join(base_dir, 'clean_tweets.csv')\n",
        "giant_df.to_csv(save_path, index=False)\n",
        "print(\"Done\")"
      ]
    },
    {
      "cell_type": "markdown",
      "metadata": {
        "id": "qkyfQBHB0vKw"
      },
      "source": [
        "### Next\n",
        "\n",
        "In the next notebook we are going to create an `Artificial Neural Network (ANN)` model that will classifies our text into sentiment wether, positive, positive or nuetral. Given a text from the user our model will classify sentiments to positive, positive or nuetral."
      ]
    },
    {
      "cell_type": "markdown",
      "metadata": {
        "id": "JDHCOqss0vKw"
      },
      "source": [
        "### Credits\n",
        "\n",
        "1. [tweepy docs](https://docs.tweepy.org/en/stable/authentication.html)\n",
        "2. [textblob-docs](https://textblob.readthedocs.io/en/dev/)\n",
        "3. [towardsdatascience](https://towardsdatascience.com/how-to-access-data-from-the-twitter-api-using-tweepy-python-e2d9e4d54978)\n",
        "4. [dev.to](https://dev.to/twitterdev/a-comprehensive-guide-for-using-the-twitter-api-v2-using-tweepy-in-python-15d9)"
      ]
    }
  ],
  "metadata": {
    "kernelspec": {
      "display_name": "Python 3",
      "language": "python",
      "name": "python3"
    },
    "language_info": {
      "codemirror_mode": {
        "name": "ipython",
        "version": 3
      },
      "file_extension": ".py",
      "mimetype": "text/x-python",
      "name": "python",
      "nbconvert_exporter": "python",
      "pygments_lexer": "ipython3",
      "version": "3.8.5"
    },
    "colab": {
      "provenance": []
    },
    "accelerator": "GPU",
    "gpuClass": "standard"
  },
  "nbformat": 4,
  "nbformat_minor": 0
}