{
  "nbformat": 4,
  "nbformat_minor": 0,
  "metadata": {
    "colab": {
      "name": "01_Sentiment_Analyser_Model.ipynb",
      "provenance": [],
      "collapsed_sections": []
    },
    "kernelspec": {
      "name": "python3",
      "display_name": "Python 3"
    },
    "language_info": {
      "name": "python"
    },
    "accelerator": "GPU"
  },
  "cells": [
    {
      "cell_type": "markdown",
      "source": [
        "---\n",
        "Topic: `A Community-based Real-Time Service Delivery Sentiment Analyser.`\n",
        "\n",
        "Date: `2022/05/13`\n",
        "\n",
        "Programming Language: `python`\n",
        "\n",
        "Main: `Natural Language Processing (NLP)`\n",
        "\n",
        "---\n",
        "\n",
        "### Introduction\n",
        "Sentiment analyis (SA) is a supervised or unsupervised machine learning task for classifying the popularity of a given text. Given a text and labels a model can be trained to classify the category the text belongs to for example it can classify wether a given text fall under `positive`, `negative` or `neutral`. SA can be either a multi-class classification or a binary classification task.\n",
        "\n",
        "### Abstract\n",
        "Sentiment analyisis is a very useful study in modern technology. SA goal is to study human opinion over written text of natural languages. Natural languages are languages that are spoken by people, unlike programming language natural languages comes natural for example Xhosa, English, French etc. SA can analyise human emotions, attitude, opinion, sentiments over a written language. This study is very useful in systems like chatbots and virtual assistance in making decisions when interacting with human beings.\n",
        "\n",
        "\n",
        "_In this notebook I'm going to implement and train a model from scratch using modern python libraries such as `tensorflow` by `google` that does a general sentiment analyisis classification task based on `3` class labels (`positive`, `negative`, `neutral`). Each code cell that we are going to execute will be explained by the use of `Markdown` that's why I choose `.ipyb` or `IPython` notebook to write code for model training.The dataset that i will be using for this supervised matchine learning task is called [Twitter US Airline Sentiment](https://www.kaggle.com/datasets/crowdflower/twitter-airline-sentiment) and was downloaded from [kaggle](https://www.kaggle.com/datasets/crowdflower/twitter-airline-sentiment). The processing and loading of data will be done step by step in this notebook so that it can be easily understood and can be explained easily in simple terms._\n",
        "\n",
        "### Keywords\n",
        "Natural Language Processing (NLP), Embeddings, Loss, Accuracy, Sentiment Analysis, Long Short Term Memory (LSTM), Dropout, Gated Reccurent Unit (GRU), Bi-Directional, Dataset, Overfitting, Confusion Matrix, Inference.\n",
        "\n",
        "\n",
        "### Cloud File System\n",
        "This notebook is an instance of a cloud notebook (Google Colab) notbook where we can write code in the browser without installing any packages or any programming language. Alternatively one can use `Jupyter Notebooks` to perform this task but for speed we may consider using something like `Google Colab` because it offers free `Graphic Processing Units (GPU)` and `Tensor Processing Unit (TPU)`. These devices or runtime environments allows our code to execute fast because they are good when it comes to mathematical computations as compared to `Central Processing Units (CPU)`\n",
        "\n",
        "When you are using `Google Colab` you might as well think of accessing your file system. Fortunate enough google made it easy for developers because there's an `API` that allows us to directly link our `Google Drive` cloud storage with `Google Colab`. Also most of the datascientists use the API like `Kaggle` to access the dataset without bothering uploading the dataset in the google drive storage. The following shows how our file system looks like in the google drive.\n",
        "\n",
        "```\n",
        "📁 drive\n",
        "  📁 My Drive\n",
        "    📁 Service Delivery\n",
        "       - keys.json\n",
        "       - clean_tweets.csv\n",
        "      📁 glove.6B\n",
        "        - glove.6B.100d.txt\n",
        "    \n",
        "```\n",
        "> Note that the `clean_tweets.csv` contains our dataset with cleaned paired to their labels and was obtained in the prevoius notebook. \n",
        "\n",
        "We also have a file called `glove.6B.100d.txt` will look at it later on.\n",
        "\n",
        "### Where can i download `glove.6B.100d.txt`?\n",
        "You can download the pretrained word vectors at [](http://nlp.stanford.edu/data/glove.6B.zip) as a zip file. Alternatively you can run the following command:\n",
        "\n",
        "```shell\n",
        "!wget http://nlp.stanford.edu/data/glove.6B.zip\n",
        "\n",
        "# unzip the files\n",
        "!unzip glove*.zip\n",
        "```\n",
        "\n",
        "### Phyiscal Devices\n",
        "As i mentioned before that we are going to make use of free `GPU` we need to make sure that the change the runtime type by clicking on the `Runtime` menu > `Change Runtime Type` > `GPU`\n",
        "\n",
        "### Mounting the Drive\n",
        "In order to use the google drive in google colab we have to mount it and give google colab access to our google drive storage. We can mount the drive by running the following code cell.\n",
        "\n"
      ],
      "metadata": {
        "id": "i1vhg2fiDU1w"
      }
    },
    {
      "cell_type": "code",
      "source": [
        "from google.colab import drive\n",
        "drive.mount('/content/drive')"
      ],
      "metadata": {
        "colab": {
          "base_uri": "https://localhost:8080/"
        },
        "id": "B3xstK6HDUmE",
        "outputId": "e51d7293-6b0b-479c-de2d-082d5a75b175"
      },
      "execution_count": 1,
      "outputs": [
        {
          "output_type": "stream",
          "name": "stdout",
          "text": [
            "Mounted at /content/drive\n"
          ]
        }
      ]
    },
    {
      "cell_type": "markdown",
      "source": [
        "### Path to our files\n",
        "In the following code cell we are going to define the paths to our files. We are going to make use of the `os` built in python module to manage our paths."
      ],
      "metadata": {
        "id": "YUGw_BMZPo8c"
      }
    },
    {
      "cell_type": "code",
      "source": [
        "import os\n",
        "\n",
        "base_path = '/content/drive/My Drive/Service Delivery'\n",
        "\n",
        "assert os.path.exists(base_path), f\"Path '{base_path}' does not exists.\"\n",
        "\n",
        "# path to our csv file\n",
        "data_path = os.path.join(base_path, 'clean_tweets.csv')\n",
        "assert os.path.exists(data_path), f\"Path '{data_path}' does not exists.\"\n",
        "\n",
        "# path to word embedding vectors\n",
        "embedding_path = os.path.join(base_path, 'glove.6B', 'glove.6B.100d.txt')\n",
        "assert os.path.exists(embedding_path), f\"Path '{embedding_path}' does not exists.\"\n"
      ],
      "metadata": {
        "id": "1kMv6K-6DUjV"
      },
      "execution_count": 2,
      "outputs": []
    },
    {
      "cell_type": "markdown",
      "source": [
        "### Basic module imports\n",
        "\n",
        "Ofcause we are going to import and probably install other modules later on in this notebook but in the following notebook we are going to import the basic modules that we are going to use in this notebook. \n",
        "\n",
        "The major modules that we are going to use that are not built-ins in python are as follows.\n",
        "\n",
        "1. `tensorflow` - for working with `tensors`\n",
        "2. `keras` - embedded in tensorflow version `2.*.*` allows us to build deep leaning module, layers or models easily using the `Sequential`, `Functional` and or `Sub Classing` API\n",
        "3. `matplotlib.pyplot` - for visualizing interms of graphs\n",
        "4. `prettytable` - provide an api for nice visualization of tables\n",
        "5. `pandas` - for working with dataframes\n",
        "6. `sklearn` - offers some classes and functions that helps us to easily work with `2d` or `1d` data for example we can use the `tran_test_split` method from `sklearn` model selection to split examples into subsets.\n",
        "7. `nltk` - stands for `natural language tool kit` an nlp module that offers us with some functions such as `word_tokenize` for tokenizing a sentence into a list or array of words. \n",
        "8. `numpy` - numerical python, this package allows us to simply work with arrays very easily in python. Good news is that tensorflow keras can also work with these arrays directly instead of tensorflow tensors.\n",
        "9. `spacy` - spaCy is a free open-source library for Natural Language Processing in Python.\n",
        "10. `seaborn` - this package is used to do some colorful chats visualizations\n",
        "\n",
        "> Note that other packages that i did not mention here will be explained as we go, that's the reason i chose interactive notebook over writting this code in an code editor."
      ],
      "metadata": {
        "id": "aCaIZGl9RRtn"
      }
    },
    {
      "cell_type": "code",
      "source": [
        "import os\n",
        "import time\n",
        "import random\n",
        "import math\n",
        "import nltk\n",
        "import json\n",
        "import spacy\n",
        "import re\n",
        "\n",
        "import numpy as np\n",
        "import tensorflow as tf\n",
        "import pandas as pd\n",
        "import seaborn as sns\n",
        "import wordcloud as wc\n",
        "\n",
        "from prettytable import PrettyTable\n",
        "from matplotlib import pyplot as plt\n",
        "from prettytable import PrettyTable\n",
        "from collections import Counter\n",
        "from tensorflow import keras\n",
        "from nltk.tokenize import word_tokenize\n",
        "from sklearn.preprocessing import LabelEncoder\n",
        "from google.colab import files, drive\n",
        "from sklearn.model_selection import train_test_split\n",
        "from sklearn.preprocessing import MinMaxScaler\n",
        "\n",
        "nltk.download(\"punkt\")\n",
        "nltk.download(\"words\")\n",
        "spacy.cli.download('en_core_web_sm') # english language model read more: https://spacy.io/models\n",
        "\n",
        "tf.__version__, keras.__version__"
      ],
      "metadata": {
        "colab": {
          "base_uri": "https://localhost:8080/"
        },
        "id": "heNFjdlSDUgQ",
        "outputId": "e750cad5-ba78-4e98-dfe6-e272e07249c6"
      },
      "execution_count": 3,
      "outputs": [
        {
          "output_type": "stream",
          "name": "stderr",
          "text": [
            "[nltk_data] Downloading package punkt to /root/nltk_data...\n",
            "[nltk_data]   Unzipping tokenizers/punkt.zip.\n",
            "[nltk_data] Downloading package words to /root/nltk_data...\n",
            "[nltk_data]   Unzipping corpora/words.zip.\n"
          ]
        },
        {
          "output_type": "stream",
          "name": "stdout",
          "text": [
            "\u001b[38;5;2m✔ Download and installation successful\u001b[0m\n",
            "You can now load the package via spacy.load('en_core_web_sm')\n"
          ]
        },
        {
          "output_type": "execute_result",
          "data": {
            "text/plain": [
              "('2.8.2', '2.8.0')"
            ]
          },
          "metadata": {},
          "execution_count": 3
        }
      ]
    },
    {
      "cell_type": "markdown",
      "source": [
        "### Seed\n",
        "\n",
        "In the following code cell we are going to set a `seed` for random reproducivity. In datascience we share code, so inoder to get the same output when running the same code at different times we need to set the seed to all random actions that we are going to make. In the following code cell i will set the seed to `42` for random reproducivity. Note that this seed can be any integer number you want. Changing this seed may result in changing results at the end."
      ],
      "metadata": {
        "id": "Iw0DXbLbVjYA"
      }
    },
    {
      "cell_type": "code",
      "source": [
        "SEED = 42\n",
        "\n",
        "np.random.seed(SEED)\n",
        "random.seed(SEED)\n",
        "tf.random.set_seed(SEED)"
      ],
      "metadata": {
        "id": "nncYAwjBDUdH"
      },
      "execution_count": 4,
      "outputs": []
    },
    {
      "cell_type": "markdown",
      "source": [
        "### Physical Device \n",
        "\n",
        "As i stated earlier on that we need to have access to physical devices such as `GPU` or `TPU` so that executing mathematical computations becomes time efficient. We are going to make use of a `GPU` by setting memory growth in tensorflow.\n"
      ],
      "metadata": {
        "id": "BxeocPdoicWV"
      }
    },
    {
      "cell_type": "code",
      "source": [
        "gpus = tf.config.list_physical_devices('GPU')\n",
        "if gpus:\n",
        "  try:\n",
        "    for gpu in gpus:\n",
        "      tf.config.experimental.set_memory_growth(gpu, True)\n",
        "    logical_gpus = tf.config.list_logical_devices('GPU')\n",
        "    print(len(gpus), \"Physical GPUs,\", len(logical_gpus), \"Logical GPUs\")\n",
        "    print(\"✔ GPU set\")\n",
        "  except RuntimeError as e:\n",
        "    print(e)\n",
        "else:\n",
        "  print(\"No GPU's found\")"
      ],
      "metadata": {
        "colab": {
          "base_uri": "https://localhost:8080/"
        },
        "id": "ywyIuIiHDUZ2",
        "outputId": "5b119b43-6aaf-4fee-ef58-9f17cb6d14be"
      },
      "execution_count": 5,
      "outputs": [
        {
          "output_type": "stream",
          "name": "stdout",
          "text": [
            "1 Physical GPUs, 1 Logical GPUs\n",
            "✔ GPU set\n"
          ]
        }
      ]
    },
    {
      "cell_type": "markdown",
      "source": [
        "### Data\n",
        "Our `clean_tweets.csv` file contains rows of examples where we will find text paired to their sentiment labels. In this section i will expain line by line data processing pipeline starting from loading a `.csv` file using pandas and visualizing and checking examples. Note that our dataset contains three labels which will be programmatically shown in code cells that will come after we load our data in a datafram using `pandas`.\n",
        "\n",
        "\n",
        "### Creating a dataframe\n",
        "In the following code cell we are going to load the dataset using the `pandas` module which we have imported with alias `pd` in a dataframe. We are going to use the `read_csv` function from pandas to read the `coma-seperated-values` data from our file as follows:"
      ],
      "metadata": {
        "id": "ULkm-md4kFz6"
      }
    },
    {
      "cell_type": "code",
      "source": [
        "dataframe = pd.read_csv(data_path)"
      ],
      "metadata": {
        "id": "IOiZXDQvDUWK"
      },
      "execution_count": 6,
      "outputs": []
    },
    {
      "cell_type": "markdown",
      "source": [
        "### Checking the first `10` rows of the dataframe\n",
        "\n",
        "In pandas the method `head(n)` on a dataframe instance allows us to check the first `n` rows and the method `tail(n)` allows us to check the last `n` rows of the data in the dataframe. We want to check the first `10` rows so that we will be familiar with how our `data` looks like before doing any preprocessing on features and labels."
      ],
      "metadata": {
        "id": "XMLjI7FfmnZx"
      }
    },
    {
      "cell_type": "code",
      "source": [
        "dataframe.head(10)"
      ],
      "metadata": {
        "colab": {
          "base_uri": "https://localhost:8080/",
          "height": 363
        },
        "id": "UZN5KJLfmm23",
        "outputId": "e81f10e6-3aff-4074-b902-227e0fa39185"
      },
      "execution_count": 7,
      "outputs": [
        {
          "output_type": "execute_result",
          "data": {
            "text/plain": [
              "   Unnamed: 0                   id                      created_at  \\\n",
              "0           0  1547579068781998083  Thu Jul 14 13:49:37 +0000 2022   \n",
              "1           1  1547579038197108737  Thu Jul 14 13:49:29 +0000 2022   \n",
              "2           2  1547578977325158401  Thu Jul 14 13:49:15 +0000 2022   \n",
              "3           3  1547578768448884740  Thu Jul 14 13:48:25 +0000 2022   \n",
              "4           4  1547578665822593029  Thu Jul 14 13:48:01 +0000 2022   \n",
              "5           5  1547578506283913217  Thu Jul 14 13:47:23 +0000 2022   \n",
              "6           6  1547578433789915137  Thu Jul 14 13:47:05 +0000 2022   \n",
              "7           7  1547578268529729537  Thu Jul 14 13:46:26 +0000 2022   \n",
              "8           8  1547578177500852225  Thu Jul 14 13:46:04 +0000 2022   \n",
              "9           9  1547578161436577792  Thu Jul 14 13:46:00 +0000 2022   \n",
              "\n",
              "          username                                               text  \\\n",
              "0    vivek49276338  i want to place one order delivery courier shi...   \n",
              "1  henryki29684325  your delivery service is ducking and unreliabl...   \n",
              "2      earifin_com  exclusive gift pack make your one feel differe...   \n",
              "3       deAndrento  actually we should expect in the future alread...   \n",
              "4     MatthewJRoth  _z you only pay the at the delivery of your ca...   \n",
              "5       ERadiators  read our latest review great customer service ...   \n",
              "6  flipkartsupport  sorry about that we understand your concern ab...   \n",
              "7          col_fox  out visiting the rope access and wash reach wi...   \n",
              "8   SparrowCareers  are you looking for a career where you contrib...   \n",
              "9      RoadsAgency  to strengthen with role in the mining sector w...   \n",
              "\n",
              "      label  categorical_label  \n",
              "0   neutral                  0  \n",
              "1  negative                  1  \n",
              "2  positive                  2  \n",
              "3  positive                  2  \n",
              "4  positive                  2  \n",
              "5  positive                  2  \n",
              "6  negative                  1  \n",
              "7  positive                  2  \n",
              "8   neutral                  0  \n",
              "9   neutral                  0  "
            ],
            "text/html": [
              "\n",
              "  <div id=\"df-24ff3d43-ffcb-46cf-8e9f-c55e6cae90db\">\n",
              "    <div class=\"colab-df-container\">\n",
              "      <div>\n",
              "<style scoped>\n",
              "    .dataframe tbody tr th:only-of-type {\n",
              "        vertical-align: middle;\n",
              "    }\n",
              "\n",
              "    .dataframe tbody tr th {\n",
              "        vertical-align: top;\n",
              "    }\n",
              "\n",
              "    .dataframe thead th {\n",
              "        text-align: right;\n",
              "    }\n",
              "</style>\n",
              "<table border=\"1\" class=\"dataframe\">\n",
              "  <thead>\n",
              "    <tr style=\"text-align: right;\">\n",
              "      <th></th>\n",
              "      <th>Unnamed: 0</th>\n",
              "      <th>id</th>\n",
              "      <th>created_at</th>\n",
              "      <th>username</th>\n",
              "      <th>text</th>\n",
              "      <th>label</th>\n",
              "      <th>categorical_label</th>\n",
              "    </tr>\n",
              "  </thead>\n",
              "  <tbody>\n",
              "    <tr>\n",
              "      <th>0</th>\n",
              "      <td>0</td>\n",
              "      <td>1547579068781998083</td>\n",
              "      <td>Thu Jul 14 13:49:37 +0000 2022</td>\n",
              "      <td>vivek49276338</td>\n",
              "      <td>i want to place one order delivery courier shi...</td>\n",
              "      <td>neutral</td>\n",
              "      <td>0</td>\n",
              "    </tr>\n",
              "    <tr>\n",
              "      <th>1</th>\n",
              "      <td>1</td>\n",
              "      <td>1547579038197108737</td>\n",
              "      <td>Thu Jul 14 13:49:29 +0000 2022</td>\n",
              "      <td>henryki29684325</td>\n",
              "      <td>your delivery service is ducking and unreliabl...</td>\n",
              "      <td>negative</td>\n",
              "      <td>1</td>\n",
              "    </tr>\n",
              "    <tr>\n",
              "      <th>2</th>\n",
              "      <td>2</td>\n",
              "      <td>1547578977325158401</td>\n",
              "      <td>Thu Jul 14 13:49:15 +0000 2022</td>\n",
              "      <td>earifin_com</td>\n",
              "      <td>exclusive gift pack make your one feel differe...</td>\n",
              "      <td>positive</td>\n",
              "      <td>2</td>\n",
              "    </tr>\n",
              "    <tr>\n",
              "      <th>3</th>\n",
              "      <td>3</td>\n",
              "      <td>1547578768448884740</td>\n",
              "      <td>Thu Jul 14 13:48:25 +0000 2022</td>\n",
              "      <td>deAndrento</td>\n",
              "      <td>actually we should expect in the future alread...</td>\n",
              "      <td>positive</td>\n",
              "      <td>2</td>\n",
              "    </tr>\n",
              "    <tr>\n",
              "      <th>4</th>\n",
              "      <td>4</td>\n",
              "      <td>1547578665822593029</td>\n",
              "      <td>Thu Jul 14 13:48:01 +0000 2022</td>\n",
              "      <td>MatthewJRoth</td>\n",
              "      <td>_z you only pay the at the delivery of your ca...</td>\n",
              "      <td>positive</td>\n",
              "      <td>2</td>\n",
              "    </tr>\n",
              "    <tr>\n",
              "      <th>5</th>\n",
              "      <td>5</td>\n",
              "      <td>1547578506283913217</td>\n",
              "      <td>Thu Jul 14 13:47:23 +0000 2022</td>\n",
              "      <td>ERadiators</td>\n",
              "      <td>read our latest review great customer service ...</td>\n",
              "      <td>positive</td>\n",
              "      <td>2</td>\n",
              "    </tr>\n",
              "    <tr>\n",
              "      <th>6</th>\n",
              "      <td>6</td>\n",
              "      <td>1547578433789915137</td>\n",
              "      <td>Thu Jul 14 13:47:05 +0000 2022</td>\n",
              "      <td>flipkartsupport</td>\n",
              "      <td>sorry about that we understand your concern ab...</td>\n",
              "      <td>negative</td>\n",
              "      <td>1</td>\n",
              "    </tr>\n",
              "    <tr>\n",
              "      <th>7</th>\n",
              "      <td>7</td>\n",
              "      <td>1547578268529729537</td>\n",
              "      <td>Thu Jul 14 13:46:26 +0000 2022</td>\n",
              "      <td>col_fox</td>\n",
              "      <td>out visiting the rope access and wash reach wi...</td>\n",
              "      <td>positive</td>\n",
              "      <td>2</td>\n",
              "    </tr>\n",
              "    <tr>\n",
              "      <th>8</th>\n",
              "      <td>8</td>\n",
              "      <td>1547578177500852225</td>\n",
              "      <td>Thu Jul 14 13:46:04 +0000 2022</td>\n",
              "      <td>SparrowCareers</td>\n",
              "      <td>are you looking for a career where you contrib...</td>\n",
              "      <td>neutral</td>\n",
              "      <td>0</td>\n",
              "    </tr>\n",
              "    <tr>\n",
              "      <th>9</th>\n",
              "      <td>9</td>\n",
              "      <td>1547578161436577792</td>\n",
              "      <td>Thu Jul 14 13:46:00 +0000 2022</td>\n",
              "      <td>RoadsAgency</td>\n",
              "      <td>to strengthen with role in the mining sector w...</td>\n",
              "      <td>neutral</td>\n",
              "      <td>0</td>\n",
              "    </tr>\n",
              "  </tbody>\n",
              "</table>\n",
              "</div>\n",
              "      <button class=\"colab-df-convert\" onclick=\"convertToInteractive('df-24ff3d43-ffcb-46cf-8e9f-c55e6cae90db')\"\n",
              "              title=\"Convert this dataframe to an interactive table.\"\n",
              "              style=\"display:none;\">\n",
              "        \n",
              "  <svg xmlns=\"http://www.w3.org/2000/svg\" height=\"24px\"viewBox=\"0 0 24 24\"\n",
              "       width=\"24px\">\n",
              "    <path d=\"M0 0h24v24H0V0z\" fill=\"none\"/>\n",
              "    <path d=\"M18.56 5.44l.94 2.06.94-2.06 2.06-.94-2.06-.94-.94-2.06-.94 2.06-2.06.94zm-11 1L8.5 8.5l.94-2.06 2.06-.94-2.06-.94L8.5 2.5l-.94 2.06-2.06.94zm10 10l.94 2.06.94-2.06 2.06-.94-2.06-.94-.94-2.06-.94 2.06-2.06.94z\"/><path d=\"M17.41 7.96l-1.37-1.37c-.4-.4-.92-.59-1.43-.59-.52 0-1.04.2-1.43.59L10.3 9.45l-7.72 7.72c-.78.78-.78 2.05 0 2.83L4 21.41c.39.39.9.59 1.41.59.51 0 1.02-.2 1.41-.59l7.78-7.78 2.81-2.81c.8-.78.8-2.07 0-2.86zM5.41 20L4 18.59l7.72-7.72 1.47 1.35L5.41 20z\"/>\n",
              "  </svg>\n",
              "      </button>\n",
              "      \n",
              "  <style>\n",
              "    .colab-df-container {\n",
              "      display:flex;\n",
              "      flex-wrap:wrap;\n",
              "      gap: 12px;\n",
              "    }\n",
              "\n",
              "    .colab-df-convert {\n",
              "      background-color: #E8F0FE;\n",
              "      border: none;\n",
              "      border-radius: 50%;\n",
              "      cursor: pointer;\n",
              "      display: none;\n",
              "      fill: #1967D2;\n",
              "      height: 32px;\n",
              "      padding: 0 0 0 0;\n",
              "      width: 32px;\n",
              "    }\n",
              "\n",
              "    .colab-df-convert:hover {\n",
              "      background-color: #E2EBFA;\n",
              "      box-shadow: 0px 1px 2px rgba(60, 64, 67, 0.3), 0px 1px 3px 1px rgba(60, 64, 67, 0.15);\n",
              "      fill: #174EA6;\n",
              "    }\n",
              "\n",
              "    [theme=dark] .colab-df-convert {\n",
              "      background-color: #3B4455;\n",
              "      fill: #D2E3FC;\n",
              "    }\n",
              "\n",
              "    [theme=dark] .colab-df-convert:hover {\n",
              "      background-color: #434B5C;\n",
              "      box-shadow: 0px 1px 3px 1px rgba(0, 0, 0, 0.15);\n",
              "      filter: drop-shadow(0px 1px 2px rgba(0, 0, 0, 0.3));\n",
              "      fill: #FFFFFF;\n",
              "    }\n",
              "  </style>\n",
              "\n",
              "      <script>\n",
              "        const buttonEl =\n",
              "          document.querySelector('#df-24ff3d43-ffcb-46cf-8e9f-c55e6cae90db button.colab-df-convert');\n",
              "        buttonEl.style.display =\n",
              "          google.colab.kernel.accessAllowed ? 'block' : 'none';\n",
              "\n",
              "        async function convertToInteractive(key) {\n",
              "          const element = document.querySelector('#df-24ff3d43-ffcb-46cf-8e9f-c55e6cae90db');\n",
              "          const dataTable =\n",
              "            await google.colab.kernel.invokeFunction('convertToInteractive',\n",
              "                                                     [key], {});\n",
              "          if (!dataTable) return;\n",
              "\n",
              "          const docLinkHtml = 'Like what you see? Visit the ' +\n",
              "            '<a target=\"_blank\" href=https://colab.research.google.com/notebooks/data_table.ipynb>data table notebook</a>'\n",
              "            + ' to learn more about interactive tables.';\n",
              "          element.innerHTML = '';\n",
              "          dataTable['output_type'] = 'display_data';\n",
              "          await google.colab.output.renderOutput(dataTable, element);\n",
              "          const docLink = document.createElement('div');\n",
              "          docLink.innerHTML = docLinkHtml;\n",
              "          element.appendChild(docLink);\n",
              "        }\n",
              "      </script>\n",
              "    </div>\n",
              "  </div>\n",
              "  "
            ]
          },
          "metadata": {},
          "execution_count": 7
        }
      ]
    },
    {
      "cell_type": "markdown",
      "source": [
        "### Our dataframe\n",
        "\n",
        "Based on the dataframe that we have we are only intrested in two columns which are:\n",
        "\n",
        "1. `airline_sentiment` - values are `positive`, `negative` and `nuetral`\n",
        "2. `text` - this is the actual tweet text.\n"
      ],
      "metadata": {
        "id": "8bFBacABomtH"
      }
    },
    {
      "cell_type": "markdown",
      "source": [
        "### Counting examples\n",
        "\n",
        "In the following code cell we are going to visualize how many unique `airline_sentiment` (which is our target value ) values are there in our dataframe. We are going to use the `seaborn` module taht was imported earlier with an alias `sns`. In this module we will found a method called `countplot` which will plot all the total count aganist the `target` name as follows:"
      ],
      "metadata": {
        "id": "V03knpJ-xAHb"
      }
    },
    {
      "cell_type": "code",
      "source": [
        "sns.countplot(x=\"label\", data=dataframe)\n",
        "plt.show()"
      ],
      "metadata": {
        "colab": {
          "base_uri": "https://localhost:8080/",
          "height": 279
        },
        "id": "UkZRmIeWHhze",
        "outputId": "73c5b42d-cd35-482d-cb9e-33d8de7bf192"
      },
      "execution_count": 8,
      "outputs": [
        {
          "output_type": "display_data",
          "data": {
            "text/plain": [
              "<Figure size 432x288 with 1 Axes>"
            ],
            "image/png": "[encoded data removed]"
          },
          "metadata": {
            "needs_background": "light"
          }
        }
      ]
    },
    {
      "cell_type": "markdown",
      "source": [
        "### Observesion\n",
        "\n",
        "From the above we can be able to see that there are more positive sentiments in this dataset. This brings us to a conclusion that the dataset has unbalanced labels and there's a high posibility that our model will overfit for positive sentiments. But we are going to make use of Natural Language Processing (NLP) techniquies to avoid this rather than balancing the labels.\n"
      ],
      "metadata": {
        "id": "YdnelQyyyqaq"
      }
    },
    {
      "cell_type": "markdown",
      "source": [
        "### Null columns.\n",
        "\n",
        "Our dataset is a dataset that was created using scrapping with the twitter API. There's high posibility that we have `null` values or `na` values on other columns. The first rule that we should do when working with pandas dataframes to to drop `na` values. In the following code cell we are going to check if we have `na` valued in our dataframe."
      ],
      "metadata": {
        "id": "DRkko4PLrOtb"
      }
    },
    {
      "cell_type": "code",
      "source": [
        "## Checking if there are 'na' valued in the dataframe\n",
        "dataframe.isna().any()"
      ],
      "metadata": {
        "colab": {
          "base_uri": "https://localhost:8080/"
        },
        "id": "3a8137OlrzZI",
        "outputId": "3fc1b6ec-e2bb-4d81-cb51-ffae9c26729f"
      },
      "execution_count": 9,
      "outputs": [
        {
          "output_type": "execute_result",
          "data": {
            "text/plain": [
              "Unnamed: 0           False\n",
              "id                   False\n",
              "created_at           False\n",
              "username             False\n",
              "text                 False\n",
              "label                False\n",
              "categorical_label    False\n",
              "dtype: bool"
            ]
          },
          "metadata": {},
          "execution_count": 9
        }
      ]
    },
    {
      "cell_type": "markdown",
      "source": [
        "> We can see and conclude that there are no `na` values in our dataset.\n",
        "\n",
        "Next we are going to check if there are `null` values in our dataframe."
      ],
      "metadata": {
        "id": "3ruiuI0fsLFk"
      }
    },
    {
      "cell_type": "code",
      "source": [
        "dataframe.isnull().any()"
      ],
      "metadata": {
        "colab": {
          "base_uri": "https://localhost:8080/"
        },
        "id": "YLukz7xisf1E",
        "outputId": "1661b137-2715-4e5c-cff1-4cee1958ea71"
      },
      "execution_count": 10,
      "outputs": [
        {
          "output_type": "execute_result",
          "data": {
            "text/plain": [
              "Unnamed: 0           False\n",
              "id                   False\n",
              "created_at           False\n",
              "username             False\n",
              "text                 False\n",
              "label                False\n",
              "categorical_label    False\n",
              "dtype: bool"
            ]
          },
          "metadata": {},
          "execution_count": 10
        }
      ]
    },
    {
      "cell_type": "markdown",
      "source": [
        "> As we can see that we also don't have a column with null values in our dataset. If it happened that you have null values in your dataset especially on the collumns that you are working with you will need to drop them for example using the code that says:\n",
        "\n",
        "```py\n",
        "dataframe = dataframe.dropna()\n",
        "```\n",
        "> note that a pandas method on a datafram `dropna` does not perform action in place so that's why we are re-assigning the dataframe.\n",
        "\n",
        "But since we don't have `null` values and `na` values for the columns that we are intrested in we can skip this process because this process will trim our dataset.\n",
        "\n",
        "This is the first thing datascientist do before working with dataframes in pandas.\n"
      ],
      "metadata": {
        "id": "ea7xt8sVsmX-"
      }
    },
    {
      "cell_type": "markdown",
      "source": [
        "### Features and labels\n",
        "\n",
        "In this dataset we are interested in predicting the sentiment weather it's `positive` , `neutral` or `negative` based on the text. So based on the data that we have we are interested in two columns:\n",
        "\n",
        "1. categorical_label\n",
        "- Target values which is (`1`, `0`, `2`) as  (`negative`, `nuetral`, `positive`) respectively.\n",
        "\n",
        "2. text\n",
        "- This is the text that is matched to a certain target. (`positive`, `nuetral`, `negative`)\n",
        "\n",
        "We are going to extract features(text) and labels(targets) into numpy array and do some preprocessing on them. The preprocessing steps will be expained line by line.\n",
        "\n",
        "### Labels\n",
        "\n",
        "Our target values are already numeric so we don't need to do anything as we preprocess them in the previous notebook."
      ],
      "metadata": {
        "id": "lFMxv8_9plSD"
      }
    },
    {
      "cell_type": "code",
      "source": [
        "targets = dataframe.categorical_label.values"
      ],
      "metadata": {
        "id": "QvT3szi_DUN7"
      },
      "execution_count": 11,
      "outputs": []
    },
    {
      "cell_type": "markdown",
      "source": [
        "Checking the first and last `3` target values"
      ],
      "metadata": {
        "id": "5Co25VcPt1QC"
      }
    },
    {
      "cell_type": "code",
      "source": [
        "targets[:3], targets[-3:]"
      ],
      "metadata": {
        "colab": {
          "base_uri": "https://localhost:8080/"
        },
        "id": "p9uG6yMHDUK0",
        "outputId": "d884d52f-9c50-4b6e-dc23-59066ac059da"
      },
      "execution_count": 12,
      "outputs": [
        {
          "output_type": "execute_result",
          "data": {
            "text/plain": [
              "(array([0, 1, 2]), array([0, 1, 0]))"
            ]
          },
          "metadata": {},
          "execution_count": 12
        }
      ]
    },
    {
      "cell_type": "markdown",
      "source": [
        "### Features (text)\n",
        "\n",
        "In the previous notebook we cleaned our text, so theres nothing that we are going for text cleaning on our features.\n"
      ],
      "metadata": {
        "id": "z9gSak0RxNq7"
      }
    },
    {
      "cell_type": "code",
      "source": [
        "texts = dataframe.text.values"
      ],
      "metadata": {
        "id": "tR2fBOY-DT4N"
      },
      "execution_count": 13,
      "outputs": []
    },
    {
      "cell_type": "code",
      "source": [
        "texts[:3]"
      ],
      "metadata": {
        "colab": {
          "base_uri": "https://localhost:8080/"
        },
        "id": "J9fWaRuItjse",
        "outputId": "3c5cbd10-03e3-4e2e-a93e-a17f0602a809"
      },
      "execution_count": 14,
      "outputs": [
        {
          "output_type": "execute_result",
          "data": {
            "text/plain": [
              "array(['i want to place one order delivery courier shipment to me but status mark day please help me courier service no courier head is talking to me and no',\n",
              "       'your delivery service is ducking and unreliable rod the worst reputation',\n",
              "       'exclusive gift pack make your one feel difference to order this high quality gift pack please visit the following link cash on delivery service is available all over the country'],\n",
              "      dtype=object)"
            ]
          },
          "metadata": {},
          "execution_count": 14
        }
      ]
    },
    {
      "cell_type": "markdown",
      "source": [
        "### Balancing Dataset\n",
        "\n",
        "In the following code cell we are going to try to balance our class labels, as we saw in the visualization that our `positive` sentiments are more than others we are going to try to balance them with at least the `negative` sentiments. The reason i didn't want to balance all the `3` target values is that, i'm afraid we will trim more examples and the dataset will be very small.\n",
        "\n",
        "\n",
        "We will start by counting how may negative labels do we have in the following code cell."
      ],
      "metadata": {
        "id": "M8omPs6sIe5Y"
      }
    },
    {
      "cell_type": "code",
      "source": [
        "negative_label = 1\n",
        "negative_count = list(targets).count(negative_label)\n",
        "negative_count"
      ],
      "metadata": {
        "colab": {
          "base_uri": "https://localhost:8080/"
        },
        "id": "Cl9lRuqiJMoU",
        "outputId": "ba19a169-77dc-4283-a29f-e529b4de70c3"
      },
      "execution_count": 15,
      "outputs": [
        {
          "output_type": "execute_result",
          "data": {
            "text/plain": [
              "1884"
            ]
          },
          "metadata": {},
          "execution_count": 15
        }
      ]
    },
    {
      "cell_type": "markdown",
      "source": [
        "Based on this negative count value we are going to create a new variable called dataset that will store a newly created dataset with positive and negative labels balanced."
      ],
      "metadata": {
        "id": "_D2TpFbRJRFA"
      }
    },
    {
      "cell_type": "code",
      "source": [
        "dataset = list()\n",
        "positive_count = 0\n",
        "for feature, label in zip(texts, targets):\n",
        "  if label == 0 or label == 1:\n",
        "    # neutral and negative add\n",
        "    dataset.append([feature, label])\n",
        "  else:\n",
        "    # balance the positive and negative labels (positive)\n",
        "    if negative_count == positive_count:\n",
        "      continue\n",
        "    else:\n",
        "      positive_count += 1\n",
        "      dataset.append([feature, label])"
      ],
      "metadata": {
        "id": "5iZzhwXQFF5Q"
      },
      "execution_count": 16,
      "outputs": []
    },
    {
      "cell_type": "markdown",
      "source": [
        "### Extracting balanced Features and labels.\n",
        "\n",
        "Balanced features and labels will be extracted in the following code cell. But before we do that we can shuffle them, just to make sure that labels shuffled and nice."
      ],
      "metadata": {
        "id": "uSOyBBd2GKra"
      }
    },
    {
      "cell_type": "code",
      "source": [
        "random.shuffle(dataset)"
      ],
      "metadata": {
        "id": "tLY8JnJ2GYD4"
      },
      "execution_count": 17,
      "outputs": []
    },
    {
      "cell_type": "code",
      "source": [
        "features = list()\n",
        "labels = list()\n",
        "\n",
        "for (feature, label) in dataset:\n",
        "  features.append(feature)\n",
        "  labels.append(label)\n",
        "\n",
        "\n",
        "# check just to make sure features and labels has the same length\n",
        "\n",
        "assert len(features) == len(labels), f\"Features and labels must have the same length recieved {len(features)} and {len(labels)}.\""
      ],
      "metadata": {
        "id": "Ye8FTnFxGp6t"
      },
      "execution_count": 18,
      "outputs": []
    },
    {
      "cell_type": "markdown",
      "source": [
        "### Checking the most common words\n",
        "\n",
        "In the following code cell we are going to use `wordcloud` package that we have imported with an alias `wc` and check the most appearing word in our dataset."
      ],
      "metadata": {
        "id": "dUVPtrmvt490"
      }
    },
    {
      "cell_type": "code",
      "source": [
        "full_text = \" \".join(features)"
      ],
      "metadata": {
        "id": "3VytUkG2uMn-"
      },
      "execution_count": 19,
      "outputs": []
    },
    {
      "cell_type": "code",
      "source": [
        "wordcloud = wc.WordCloud().generate(full_text)\n",
        "plt.imshow(wordcloud)\n",
        "plt.axis(\"off\")\n",
        "plt.show()"
      ],
      "metadata": {
        "colab": {
          "base_uri": "https://localhost:8080/",
          "height": 198
        },
        "id": "cCAoQ3d7uMiY",
        "outputId": "c84b14bd-96f8-4918-d121-30a78e3ea46a"
      },
      "execution_count": 20,
      "outputs": [
        {
          "output_type": "display_data",
          "data": {
            "text/plain": [
              "<Figure size 432x288 with 1 Axes>"
            ],
            "image/png": "[encoded data removed]"
          },
          "metadata": {
            "needs_background": "light"
          }
        }
      ]
    },
    {
      "cell_type": "markdown",
      "source": [
        "As we can see that the most appearing word in our corpus is `\"service delivery\"` which is the parameter of interest of our study."
      ],
      "metadata": {
        "id": "RYZQ8cEGun6H"
      }
    },
    {
      "cell_type": "markdown",
      "source": [
        "### Generating sets.\n",
        "In machine learning (supervised machine learning) when creating models we need to have three sets of data which are:\n",
        "\n",
        "1. training\n",
        "2. validation\n",
        "3. testing\n",
        "\n",
        "The train set is used to train the model so that it will learn the mathematical mapping or relationship between features and labels. These features and labels must be at some point be converted to numerical values.\n",
        "\n",
        "The validation set is the same as the test set but it's just that the validation set is used during model training and it is used to measure how accurate our model is becoming interms of metrics such as loss, accuracy, etc. Theoretically the validation set must come from a fraction of the train dataset but with test set transformation. The reason is being that the validation set must represent the test dataset as much as posible.\n",
        "\n",
        "The testing set is the one that will completely measure how our model has learn the mappings between labels and features. In this set we wouldn't want our model to know about it inorder for us to have unbiased metric representation. I will explain later on more about this during model evaluation and model inference.\n",
        "\n",
        "> Note that in this notebook our validation data will come from the `train` examples.\n",
        "\n",
        "We are going to use the `train_test_split` method from `sklearn.model_selection` to split our dataset into different subsets. Note that we are going to set the `random_state` to our `SEED` for reproducivity and this also allows us to shuffle examples in our dataset. We don't want a case where we will have about `~10` negative reviews that follows each other they should be mixed so that our model won't overfit. We will explain more about the overfit part later on."
      ],
      "metadata": {
        "id": "ZL_rbfqRMq6Q"
      }
    },
    {
      "cell_type": "code",
      "source": [
        "train_text, test_text, train_labels, test_labels = train_test_split(\n",
        "    features, labels, random_state=SEED, test_size= .1\n",
        ")\n",
        "\n",
        "#  the validation set should come from the train examples\n",
        "train_text, val_text, train_labels, val_labels  = train_test_split(\n",
        "    train_text, train_labels, random_state=SEED, test_size= .01\n",
        ")"
      ],
      "metadata": {
        "id": "t4cRF5O6YoXS"
      },
      "execution_count": 21,
      "outputs": []
    },
    {
      "cell_type": "markdown",
      "source": [
        "### Counting and visualizing examples\n",
        "\n",
        "In this section we are going to do data visualisation in terms of plots and tables. We are going to count examples for each subset and then we will the visualize by the use of a table. Another thing that we can do is to count and visualize how the `labels` are distributed in terms of number in each set. So we will count how many examples are in each set and visualize them using a bar graph.\n",
        "\n",
        "\n",
        "The following helper function `tabulate` use `PrettyTable` class to tabulate examples in each set."
      ],
      "metadata": {
        "id": "WlXHwgOtZnT7"
      }
    },
    {
      "cell_type": "code",
      "source": [
        "def tabulate(column_names, data, title):\n",
        "  table = PrettyTable(column_names)\n",
        "  table.title= title\n",
        "  table.align[column_names[0]] = 'l'\n",
        "  table.align[column_names[1]] = 'r'\n",
        "  table.align[column_names[2]] = 'r'\n",
        "  table.align[column_names[3]] = 'r'\n",
        "  table.align[column_names[3]] = 'r'\n",
        "  for row in data:\n",
        "    table.add_row(row)\n",
        "  print(table)"
      ],
      "metadata": {
        "id": "7GIOUrPOYrxK"
      },
      "execution_count": 22,
      "outputs": []
    },
    {
      "cell_type": "code",
      "source": [
        "tabulate([\n",
        "    \"Set\", \"Total\", \"Neutral(0)\", \"Negative(1)\", \"Positive(2)\"\n",
        "],[\n",
        "   (\"training\", len(train_labels), list(train_labels).count(0), list(train_labels).count(1), list(train_labels).count(2)),\n",
        "    (\"testing\", len(test_labels), list(test_labels).count(0), list(test_labels).count(1), list(test_labels).count(2)),\n",
        "    (\"validation\", len(val_labels), list(val_labels).count(0), list(val_labels).count(1), list(val_labels).count(2)),\n",
        "   (\"total\", len(labels), list(labels).count(0), list(labels).count(1), list(labels).count(2)),\n",
        "], \"Counting examples in the subset(s).\")"
      ],
      "metadata": {
        "id": "TqHucxR5YrkI",
        "colab": {
          "base_uri": "https://localhost:8080/"
        },
        "outputId": "eec3f380-c04c-4af1-9645-1c49fbd5d45c"
      },
      "execution_count": 23,
      "outputs": [
        {
          "output_type": "stream",
          "name": "stdout",
          "text": [
            "+-------------------------------------------------------------+\n",
            "|             Counting examples in the subset(s).             |\n",
            "+------------+-------+------------+-------------+-------------+\n",
            "| Set        | Total | Neutral(0) | Negative(1) | Positive(2) |\n",
            "+------------+-------+------------+-------------+-------------+\n",
            "| training   |  4642 |       1285 |        1675 |     1682    |\n",
            "| testing    |   521 |        142 |         193 |     186     |\n",
            "| validation |    47 |         15 |          16 |      16     |\n",
            "| total      |  5210 |       1442 |        1884 |     1884    |\n",
            "+------------+-------+------------+-------------+-------------+\n"
          ]
        }
      ]
    },
    {
      "cell_type": "markdown",
      "source": [
        "### Preparing Features(texts) and Labels(labels) for model training.\n",
        "\n",
        "In deep learning/machine learning model does not take in raw data such as text. We need to convert text to a sequence of integer representation and have a word to index lookup for a word to an integer also known as a `vocabulary`. Our labels will be processed based on the loss function that we are going to use.\n",
        "\n",
        "> _Note that this is a simple multi-class label clasification because we have 3 target labels (positive, negative, neutral). The best loss function to use for this supervised machine leaning task is `CategoricalCrossEntropy`. `CategoricalCrossEntropy` is flexible to use and it can work for both 2 class labels or multiclass labels (`dense`) since our labels are not `sparse`._\n",
        "\n",
        "In tensorflow/keras there are a lot of loss function that you can read more about them [here.](https://www.tensorflow.org/api_docs/python/tf/keras/losses). The most common loss functions for classification tasks are:\n",
        "\n",
        "1. [`BinaryCrossentropy`](https://www.tensorflow.org/api_docs/python/tf/keras/losses/BinaryCrossentropy)\n",
        "\n",
        "* This loss function compute the cross-entropy loss between true labels and predicted values. Note that the labels must be integer numbers. These loss only works when we have binary labels `0` or `1` meaning the label must be that label or the other one (True or False). For example `positive` or `negative`. This is not a good loss function for our task because we have only `3` labels, positive, nuetral and nagative.\n",
        "\n",
        "\n",
        "2. [`CategoricalCrossentropy`](https://www.tensorflow.org/api_docs/python/tf/keras/losses/BinaryFocalCrossentropy)\n",
        "\n",
        "* I call this loss function flexible. This can either work on sparse labels or binary labels irespective of efficiency. This is a good fit to our task.  Categorical Cross entropy Loss function compute the entropy loss between real labels and predicted labels. This loss function as the name suggest it is used on categorical labels. A good use case is  when you have more that two class labels or when your class labels are `dense`.  In our case we are predicting 3 sentiments weather the text is `positive` , `neutral`or `negative` so we can use this loss function. The rules are very simple when working with this loss function in `tensorflow.keras`. It expects the labels to be `one_hot` encoded.\n",
        "\n",
        "* One hot encoding can be defined as the essential process of converting the categorical data variables to be provided to machine and deep learning algorithms which in turn improve predictions as well as classification accuracy of a model. It is called `one_hot` because on a processed label, there will be a vector of `0's` where only the true label index will have a value of `1`. Not clear ok?? Let's have a look at our case where we have 2 classes (negative=1, neutral=1, positive=2) our class label will look as follows for:\n",
        "\n",
        "* neutral\n",
        "```py\n",
        "[1. 0. 0.]  # only index 0 is hot which is our neutral label\n",
        "```\n",
        "\n",
        "* negative\n",
        "```py\n",
        "[0. 1. 0.]  # only index 1 is hot which is our -ve label\n",
        "```\n",
        "* positive\n",
        "```py\n",
        "[0. 0. 1.]  # only index 2 is hot which is our +ve label\n",
        "```\n",
        "\n",
        "> _During processing of our labels we will want to `one_hot` encode them as shown above_. \n",
        "\n",
        "We can use different method to do this task for example using the `sklearn` libary or using the `tf.one_hot()` function from tensorflow. But the one i like the most is to do it manualy using the `np.eye()` function which looks more proffesional to me.\n",
        "\n",
        "3. [`SparseCategoricalCrossentropy`](https://www.tensorflow.org/api_docs/python/tf/keras/losses/SparseCategoricalCrossentropy)\n",
        "\n",
        "* This loss function is normally used on sparse data and it computes the crossentropy loss between true labels and predictions. Let's say we have `100` labels that we need to classify. In this case we can not use the `BinaryCrossentropy` loss function because this only works if we have two label outcome for example `True` or `False`, `Positive` or `Nagative`. Alternatively we can use the `CategoricalCrossentropy` loss but this loss function is not a good fit for the task because it expect the labels to be `one_hot` encoded vectors. So having a `100` dimension sparse vector will be a huge computation and it's not memory and time efficient for model training."
      ],
      "metadata": {
        "id": "GSb1CWD5QCQ8"
      }
    },
    {
      "cell_type": "markdown",
      "source": [
        "### Labels preprocessing\n",
        "\n",
        "As we mentioned before our labels will be `one_hot` encoded. We are going to create a preprocessing function called `one_hot_encode`. This preprocessing function will be a lambda python function that takes in the label as an integer and returns a `one_hot_encoded` vector of that label. I'm going to make use of the `numpy.eye()` function to do this. \n",
        "\n",
        "In this `eye(n)` function we are going to pass the depth `n` which is the total number of labels that we have (0, 1)."
      ],
      "metadata": {
        "id": "-OFSMsherRa1"
      }
    },
    {
      "cell_type": "code",
      "source": [
        "depth = 3\n",
        "one_hot_encode = lambda x: np.eye(depth)[x]"
      ],
      "metadata": {
        "id": "X3K2mxqtgqkB"
      },
      "execution_count": 24,
      "outputs": []
    },
    {
      "cell_type": "markdown",
      "source": [
        "In the following code cell we are going to show the `one_hot_encoded` vector for a `neutral` review which has a label of `0` using our `one_hot_encode` preprocessing function"
      ],
      "metadata": {
        "id": "pna39DDzyStJ"
      }
    },
    {
      "cell_type": "code",
      "source": [
        "one_hot_encode(0)"
      ],
      "metadata": {
        "id": "55Aq8DnpySEA",
        "colab": {
          "base_uri": "https://localhost:8080/"
        },
        "outputId": "2fb49247-7040-45f8-9a21-ca3795998ea2"
      },
      "execution_count": 25,
      "outputs": [
        {
          "output_type": "execute_result",
          "data": {
            "text/plain": [
              "array([1., 0., 0.])"
            ]
          },
          "metadata": {},
          "execution_count": 25
        }
      ]
    },
    {
      "cell_type": "markdown",
      "source": [
        "In the following code cell we are going to show the `one_hot_encoded` vector for a `negative` review which has a label of `1` using our `one_hot_encode` preprocessing function"
      ],
      "metadata": {
        "id": "SwTDkRi5xi2I"
      }
    },
    {
      "cell_type": "code",
      "source": [
        "one_hot_encode(1)"
      ],
      "metadata": {
        "colab": {
          "base_uri": "https://localhost:8080/"
        },
        "id": "HMjPP3lwxgAA",
        "outputId": "0f032385-bef7-491b-869f-659a43d05d83"
      },
      "execution_count": 26,
      "outputs": [
        {
          "output_type": "execute_result",
          "data": {
            "text/plain": [
              "array([0., 1., 0.])"
            ]
          },
          "metadata": {},
          "execution_count": 26
        }
      ]
    },
    {
      "cell_type": "markdown",
      "source": [
        "In the following code cell we are going to show the `one_hot_encoded` vector for a `positive` review which has a label of `2` using our `one_hot_encode` preprocessing function"
      ],
      "metadata": {
        "id": "d9g4kyoMypW3"
      }
    },
    {
      "cell_type": "code",
      "source": [
        "one_hot_encode(2)"
      ],
      "metadata": {
        "id": "Vqc5o9yhe_MM",
        "colab": {
          "base_uri": "https://localhost:8080/"
        },
        "outputId": "fded17f1-a696-4902-8ee2-00cade4c833f"
      },
      "execution_count": 27,
      "outputs": [
        {
          "output_type": "execute_result",
          "data": {
            "text/plain": [
              "array([0., 0., 1.])"
            ]
          },
          "metadata": {},
          "execution_count": 27
        }
      ]
    },
    {
      "cell_type": "markdown",
      "source": [
        "Our training, validation and testing labels will then be transformed or preprocessed using the `one_hot_encode` function in the following code cell. Note that these are the labels that we will feed to our model during training, validation and testing. For transformation of these labels I'm going to make use of the numpy function called `apply_along_axis` and we apply this function along the first axis to get our transformed labels."
      ],
      "metadata": {
        "id": "tKHBZVXPzEqv"
      }
    },
    {
      "cell_type": "code",
      "source": [
        "train_labels =  np.apply_along_axis(one_hot_encode, 0, train_labels)\n",
        "val_labels =  np.apply_along_axis(one_hot_encode, 0, val_labels)\n",
        "test_labels =  np.apply_along_axis(one_hot_encode, 0, test_labels)"
      ],
      "metadata": {
        "id": "0uSrRsQby7LG"
      },
      "execution_count": 28,
      "outputs": []
    },
    {
      "cell_type": "markdown",
      "source": [
        "### Feature Extraction\n",
        "\n",
        "In deep learning, feature extraction is the process of transforming raw data into numerical features that can be processed while preserving the information in the original data set. In this section we are going to preprocess our text(features) so that we will get the numerical representation of our text. \n",
        "\n",
        "There are a lot of ways we can do to convert these sentences in sequence of numbers one of the common way of doing which is older is using something called `\"The Bag Of Words\"` which has some limmitations. In this case we are not going to use it. We are going to take advantage of our `keras` API which is easy to work with.\n",
        "\n",
        "A sentence is just a sequence of words. So we need to break down these sequences of words or a sentence into a list of word with a process called tokenization. Tokenization is well known in NLP as nothing more than breaking down of a sentence or text into sequence/list/array of words. There are a lot of language models that can be used to tokenize the words, for example there are tokenizer model for english, germany, french, etc languages. Alternatively you can create your own tokenizer model by just using the `split(delimeter)` string function in python and pass the delimeter as a `space/(' ')`. In our case we are going to use the language model from spacy called `en_core_web_sm` we have already downloaded this language model at the top during importing modules. So our `tokenize` function will look as follows:"
      ],
      "metadata": {
        "id": "IlLCBy24z8xU"
      }
    },
    {
      "cell_type": "code",
      "source": [
        "nlp = spacy.load('en_core_web_sm')\n",
        "def tokenize(sent: str)->list:\n",
        "  return [tok.text for tok in nlp.tokenizer(sent)]"
      ],
      "metadata": {
        "id": "n8o4sqRgy7IJ"
      },
      "execution_count": 29,
      "outputs": []
    },
    {
      "cell_type": "markdown",
      "source": [
        "In the following code cell we are going to check if our `tokenize` function working. So if we pass the `text` to our function we should get the list of words."
      ],
      "metadata": {
        "id": "ExL7F_2O2UMF"
      }
    },
    {
      "cell_type": "code",
      "source": [
        "tokenize(\"This is service is not good.\")"
      ],
      "metadata": {
        "id": "uQcyO2hey7Fq",
        "colab": {
          "base_uri": "https://localhost:8080/"
        },
        "outputId": "adb9a976-fd3a-418b-d3eb-45be776ded51"
      },
      "execution_count": 30,
      "outputs": [
        {
          "output_type": "execute_result",
          "data": {
            "text/plain": [
              "['This', 'is', 'service', 'is', 'not', 'good', '.']"
            ]
          },
          "metadata": {},
          "execution_count": 30
        }
      ]
    },
    {
      "cell_type": "markdown",
      "source": [
        "### Creating a Vocabulary\n",
        "\n",
        "I call this one the brain or memory of the model in NLP. A vocabulary is an index to word lookup. It is nothing but a python ordered dictionary with words as `keys` and `indices` as values. A vocabulary can look as follows:\n",
        "\n",
        "```json\n",
        "{\"<pad>\": 0, \"<unk>\": 1, \"the\": 2, \"is\": 3, .....}\n",
        "```\n",
        "\n",
        "Keras offers a `Tokenizer` class that is able to construct this `vocabulary` from fly using from `preprocessing.text`. But first we need to know the vocabulary size. The vocabulary size is nothing but the total number of unique words. The vocabulary size must always come from the train features in our case from `train_texts`.\n",
        "\n",
        "\n",
        "In the following code cell with the help of `Counter` class from built in `collections` model we want to be able to count the number of unique words in the `train_texts` array. This total number of `unique` words will be our `vocab_size`."
      ],
      "metadata": {
        "id": "pgUstf5m3I3B"
      }
    },
    {
      "cell_type": "code",
      "source": [
        "counter = Counter()\n",
        "\n",
        "for sent in train_text:\n",
        "  counter.update(tokenize(str(sent)))"
      ],
      "metadata": {
        "id": "3y1xuxKny62G"
      },
      "execution_count": 31,
      "outputs": []
    },
    {
      "cell_type": "markdown",
      "source": [
        "Our `counter` object is nothing than an `ordered python dictionary` that maps in keys as `unique` words and values as the `count` or the total occarance of that word in the `train_text`. So we can check the first common `10` words from this object by using the method called `most_common` as follows:"
      ],
      "metadata": {
        "id": "NzVzSgc86RkJ"
      }
    },
    {
      "cell_type": "code",
      "source": [
        "counter.most_common(10)"
      ],
      "metadata": {
        "id": "iXD5VK4X6RHX",
        "colab": {
          "base_uri": "https://localhost:8080/"
        },
        "outputId": "b78051ae-0eb2-46e8-ecd3-d04f9a00481a"
      },
      "execution_count": 32,
      "outputs": [
        {
          "output_type": "execute_result",
          "data": {
            "text/plain": [
              "[('delivery', 5070),\n",
              " ('service', 4896),\n",
              " ('the', 4860),\n",
              " ('to', 3912),\n",
              " ('and', 3201),\n",
              " ('is', 2707),\n",
              " ('a', 2262),\n",
              " ('of', 2151),\n",
              " ('i', 2130),\n",
              " ('for', 1957)]"
            ]
          },
          "metadata": {},
          "execution_count": 32
        }
      ]
    },
    {
      "cell_type": "markdown",
      "source": [
        "The `vocab_size` is the length of this counter object."
      ],
      "metadata": {
        "id": "MI2Gi9X_64wi"
      }
    },
    {
      "cell_type": "code",
      "source": [
        "vocab_size = len(counter)\n",
        "vocab_size"
      ],
      "metadata": {
        "id": "TckT4lRby6zY",
        "colab": {
          "base_uri": "https://localhost:8080/"
        },
        "outputId": "95acb7dd-007f-4bee-c6c0-850d9208ff0f"
      },
      "execution_count": 33,
      "outputs": [
        {
          "output_type": "execute_result",
          "data": {
            "text/plain": [
              "6275"
            ]
          },
          "metadata": {},
          "execution_count": 33
        }
      ]
    },
    {
      "cell_type": "markdown",
      "source": [
        "Which means we have `~5k` unique words in our vocabulary. The idea behind text cleaning and converting text to common case is to reduce the size of this `vocabulary` so that our model will be able to train so fast.\n",
        "\n",
        "\n",
        "### Tokenizer\n",
        "As i mentioned before we need to create a `tokenizer` object that will learn the mappings between our words in the train features using the `Tokenizer` class from `keras.preprocessing.text`. In this `Tokenizer` we are going to pass the `num_words` keyword argument which is the `vocab_size` the total number of unique words in our `train_text`. Our `tokenizer` will learn these mappings using the method called `fit_on_texts` which accepts a list of `sentences` in our case `train_text`"
      ],
      "metadata": {
        "id": "FRT8QbBM7EkM"
      }
    },
    {
      "cell_type": "code",
      "source": [
        "tokenizer = keras.preprocessing.text.Tokenizer(\n",
        "    num_words = vocab_size\n",
        ")\n",
        "tokenizer.fit_on_texts(train_text)"
      ],
      "metadata": {
        "id": "H4arOjvGy6wc"
      },
      "execution_count": 34,
      "outputs": []
    },
    {
      "cell_type": "markdown",
      "source": [
        "Our dictionary will be called `word_indices` which looks as follows:\n",
        "\n",
        "```json\n",
        "{\"<pad>\": 0, \"<unk>\": 1, \"the\": 2, \"is\": 3, .....}\n",
        "```\n",
        "Then we are also going to create a `word_indices_reversed` which is nothing but the reversed key and values vocabulary version.\n",
        "\n",
        "```json\n",
        "{ 0: \"<pad>\", 1: \"<unk>\", 2: \"the\", 3: \"is\", .....}\n",
        "```"
      ],
      "metadata": {
        "id": "RkjvB6J69Pxp"
      }
    },
    {
      "cell_type": "code",
      "source": [
        "word_indices = tokenizer.word_index\n",
        "word_indices_reversed = dict([(v, k) for (k, v) in word_indices.items()])"
      ],
      "metadata": {
        "id": "6oi2uhbfy6rN"
      },
      "execution_count": 35,
      "outputs": []
    },
    {
      "cell_type": "markdown",
      "source": [
        "### Helper functions\n",
        "\n",
        "We are going to create 2 helper functions that will be able to convert sequences of words to sequence of integers and sequence of integers to sequence of word. These helper functions are as follows:\n",
        "\n",
        "1. `sequence_to_text`\n",
        "\n",
        "This helper function will convert a sequence of integers to a sequence of text.\n",
        "\n",
        "2. `text_to_sequence`\n",
        "\n",
        "This helper function will convert the sequence of text to sequence of integers."
      ],
      "metadata": {
        "id": "VcUB19xE-aNU"
      }
    },
    {
      "cell_type": "code",
      "source": [
        "def sequence_to_text(sequences):\n",
        "    return \" \".join(word_indices_reversed[i] for i in sequences)\n",
        "    \n",
        "def text_to_sequence(sent):\n",
        "  words = tokenize(sent.lower())\n",
        "  sequences = list()\n",
        "  for word in words:\n",
        "    try:\n",
        "      sequences.append(word_indices[word])\n",
        "    except KeyError:\n",
        "      sequences.append(0) # if the word is not in our dictionary we add a 0 to it\n",
        "  return sequences"
      ],
      "metadata": {
        "id": "wGxWthAhy6lx"
      },
      "execution_count": 36,
      "outputs": []
    },
    {
      "cell_type": "markdown",
      "source": [
        "### Creating sequences\n",
        "\n",
        "In the following code cell we are now going to create sequences for all or sets. We are going to use the `tokenizer` object specifically a method called `text_to_sequences()` which converts the list of sentences into sequences of integers. So we are going to do this for all our `3` sets."
      ],
      "metadata": {
        "id": "2MZ5vVdo_Ytl"
      }
    },
    {
      "cell_type": "code",
      "source": [
        "train_sequence_tokens = tokenizer.texts_to_sequences(train_text)\n",
        "test_sequence_tokens = tokenizer.texts_to_sequences(test_text)\n",
        "val_sequence_tokens = tokenizer.texts_to_sequences(val_text)"
      ],
      "metadata": {
        "id": "WzQJGkxGy6Ts"
      },
      "execution_count": 37,
      "outputs": []
    },
    {
      "cell_type": "markdown",
      "source": [
        "Checking the `sequence_to_text` on a single train example"
      ],
      "metadata": {
        "id": "EVNIqaNrAVU5"
      }
    },
    {
      "cell_type": "code",
      "source": [
        "sequence_to_text(train_sequence_tokens[1])"
      ],
      "metadata": {
        "id": "KVJjvkYDe-9s",
        "colab": {
          "base_uri": "https://localhost:8080/",
          "height": 35
        },
        "outputId": "f53c8954-ca53-4009-97da-31ad57b8cf77"
      },
      "execution_count": 38,
      "outputs": [
        {
          "output_type": "execute_result",
          "data": {
            "text/plain": [
              "'if your product is good it will eventually speak for itself your focus should be quality delivery and great after service'"
            ],
            "application/vnd.google.colaboratory.intrinsic+json": {
              "type": "string"
            }
          },
          "metadata": {},
          "execution_count": 38
        }
      ]
    },
    {
      "cell_type": "markdown",
      "source": [
        "Checking the `sequence_to_text` on a single test example"
      ],
      "metadata": {
        "id": "JWFQ93s-Alt2"
      }
    },
    {
      "cell_type": "code",
      "source": [
        "sequence_to_text(test_sequence_tokens[1])"
      ],
      "metadata": {
        "id": "vf8oJ_6Se-Yz",
        "colab": {
          "base_uri": "https://localhost:8080/",
          "height": 35
        },
        "outputId": "a4342f3b-2a77-49ec-f428-86858f515c09"
      },
      "execution_count": 39,
      "outputs": [
        {
          "output_type": "execute_result",
          "data": {
            "text/plain": [
              "'be like convenience fee service fee delivery fee fee tip fee peak hour your jack in the box meal will be in for'"
            ],
            "application/vnd.google.colaboratory.intrinsic+json": {
              "type": "string"
            }
          },
          "metadata": {},
          "execution_count": 39
        }
      ]
    },
    {
      "cell_type": "markdown",
      "source": [
        "Checking the `sequence_to_text` on a single validation example"
      ],
      "metadata": {
        "id": "-paFR2hXAo4V"
      }
    },
    {
      "cell_type": "code",
      "source": [
        "sequence_to_text(val_sequence_tokens[1])"
      ],
      "metadata": {
        "id": "z2e9x1qOYp0n",
        "colab": {
          "base_uri": "https://localhost:8080/",
          "height": 35
        },
        "outputId": "04ecdace-cd9a-425d-b739-6de7ddfbd528"
      },
      "execution_count": 40,
      "outputs": [
        {
          "output_type": "execute_result",
          "data": {
            "text/plain": [
              "'integration bulk use our bulk integration service and send more from any application with unmatched delivery visit here'"
            ],
            "application/vnd.google.colaboratory.intrinsic+json": {
              "type": "string"
            }
          },
          "metadata": {},
          "execution_count": 40
        }
      ]
    },
    {
      "cell_type": "markdown",
      "source": [
        "### Padding sequences\n",
        "\n",
        "These sequences contains different lengths. In theory and practically these sequence must be of the same `size` or `length`. The reason why these sequences are of different lengths it's because the sentences are of different lengths to begin with. So to make thes sentences or text have the same lengths, all the longer sentences must be `truncated` and all the shorter sentences must be `padded` with a value of `0`. So we need to define the `max_length` of our sentence so that the padding and truncating takes place to this common `length`. Fortunately we have a method called `pad_sequences` from `keras.preprocessing.sequence` that does that for us out of a fly. All we have to do is to pass the `maxlen` in our case will be the `max_length` value of `100` which means all the sequences must be of length `100`.\n",
        "\n",
        "In the following code cell we are going to apply `padding` and `truncating` to our sequences. Padding or Truncating of these sequences can be either `post` or `pre`. If it is `post` padding then the zero's will be appended to the `right` of the sequence list and to the `left` otherwise. If it is `post` truncating then sequences are then going to be trimmed to the `right` and `left` otherwise.\n",
        "\n"
      ],
      "metadata": {
        "id": "LHimm4CSAxQf"
      }
    },
    {
      "cell_type": "code",
      "source": [
        "max_words = 100\n",
        "train_tokens_sequence_padded = keras.preprocessing.sequence.pad_sequences(\n",
        "                                       train_sequence_tokens,\n",
        "                                       maxlen=max_words,\n",
        "                                       padding=\"post\", \n",
        "                                       truncating=\"post\"\n",
        "                                       )\n",
        "test_tokens_sequence_padded = keras.preprocessing.sequence.pad_sequences(\n",
        "                                       test_sequence_tokens,\n",
        "                                       maxlen=max_words,\n",
        "                                       padding=\"post\", \n",
        "                                       truncating=\"post\"\n",
        "                                       )\n",
        "val_tokens_sequence_padded = keras.preprocessing.sequence.pad_sequences(\n",
        "                                       val_sequence_tokens,\n",
        "                                       maxlen=max_words,\n",
        "                                       padding=\"post\", \n",
        "                                       truncating=\"post\"\n",
        "                                       )"
      ],
      "metadata": {
        "id": "vUxgXVU7L5sX"
      },
      "execution_count": 41,
      "outputs": []
    },
    {
      "cell_type": "markdown",
      "source": [
        "Now our features and labels are ready for model training we are now introducing a new important asspect in natural langauage processing which is nothing but.\n",
        "\n",
        "### Word Embeddings\n",
        "Embeddings transform a `one-hot` encoded vector (a vector that is 0 in elements except one, which is 1) into a much smaller dimension vector of real numbers. The `one-hot` encoded vector is also known as a `sparse vector`, whilst the real valued vector is known as a `dense vector`.\n",
        "\n",
        "The key concept in these word embeddings is that words that appear in similar contexts appear nearby in the vector space, i.e. the **Euclidean distance** between these two word vectors is small. By context here, we mean the surrounding words. For example in the sentences `\"I purchased some items at the shop\"` and `\"I purchased some items at the store\"` the words `'shop'` and `'store'` appear in the same context and thus should be close together in vector space, this means that the **Euclidean distance** between the word `shop` and `store` is very small.\n",
        "\n",
        "> If you want to read more about word embeddings you can visit this notebook [CrispenGari/pytorch-python](https://github.com/CrispenGari/pytorch-python/blob/main/09_NLP/02_Sentiment_Analyisis_Series/10_A_closer_look_on_Word_Embeddings.ipynb) for better understanding in theory.\n",
        "\n",
        "If you are an expert in NLP you may have heard that `'woman'` added to the vector of `'king'` minus the vector of `'man'` give us `'queen'`. \n",
        "\n",
        "### Why does this work?\n",
        "\n",
        "If we think about it, the vector calculated from `'king'` minus `'man'` gives us a `\"royalty vector\"`. This is the vector associated with traveling from a man to his royal counterpart, a king. If we add this `\"royality vector\"` to `'woman'`, this should travel to her royal equivalent, which is a `queen`! \n",
        "\n",
        "For better understanding of this consept visit the notebook that I've referenced.\n",
        "\n",
        "### Glove Word Vectors\n",
        "\n",
        "We are going to load the `Glove.6B.100d.txt` file as our pretrained word vectors. As the name suggested these vectors was trained with `~6B` words and has `100` dimension vectors. `GloVe` vectors are available in `50`, `100`, `200` and `300` dimensions. There is also a `42B` and `840B` glove vectors, however they are only available at `300` dimensions.\n",
        "\n",
        "### Why are we even loading Word vectors in our model?\n",
        "\n",
        "We want to create a general purpose sentment analyizer model that will be able to classify sentiments accurately. These pretrained word embeddings gives us a super power so that our model can easily learn the mappings between labels and features within a short period of time with only few epochs.\n",
        "\n",
        "\n",
        "In the following code cell we are going to load the `embedding` vectors from a txt file into an embedding dictionary."
      ],
      "metadata": {
        "id": "U8xPvKskEhlC"
      }
    },
    {
      "cell_type": "code",
      "source": [
        "embeddings_dictionary = dict()\n",
        "with open(embedding_path, encoding='utf8') as glove_file:\n",
        "  for line in glove_file:\n",
        "    records = line.split()\n",
        "    word  = records[0]\n",
        "    vectors = np.asarray(records[1:], dtype='float32')\n",
        "    embeddings_dictionary[word] = vectors"
      ],
      "metadata": {
        "id": "5PjjFlpKL5n0"
      },
      "execution_count": 42,
      "outputs": []
    },
    {
      "cell_type": "markdown",
      "source": [
        "Next we are going to create the embedding matrix that suits our data."
      ],
      "metadata": {
        "id": "csluydruJO8M"
      }
    },
    {
      "cell_type": "code",
      "source": [
        "embedding_matrix = np.zeros((vocab_size, 100))\n",
        "for word, index in tokenizer.word_index.items():\n",
        "  vector = embeddings_dictionary.get(word)\n",
        "  if vector is not None:\n",
        "    try:\n",
        "      embedding_matrix[index] = vector\n",
        "    except:\n",
        "      pass"
      ],
      "metadata": {
        "id": "ha-gyROIL5lg"
      },
      "execution_count": 43,
      "outputs": []
    },
    {
      "cell_type": "markdown",
      "source": [
        "Now that we have our data ready for model creation and that we have our embedding weights ready to be used next we are going to build a classification model using `tensorflow.keras`\n",
        "\n",
        "### Model\n",
        "\n",
        "Our model will be a very simple classification model. There are three ways of building a model in tensorflow keras. These ways are:\n",
        "\n",
        "1. Sequential API\n",
        "2. Functional API\n",
        "3. Sub Class API\n",
        "\n",
        "In this Notebook we are going to use the `SubClass` API the reason i choose this method over other methods it's because of it's flexibility when building deep learning models in `tesnorflow`.\n",
        "\n",
        "In this notebook we are going to create a `Bi-Directional RNN` model for text classification. I'm not going to explain the mathematical theory that much in this presentation but you can read more about what the input shape does `RNN` (Recurrent Nueral Networks) accepts [CrispenGari/pytorch-python](https://github.com/CrispenGari/pytorch-python/blob/main/09_NLP/02_Sentiment_Analyisis_Series/01_Simple_Sentiment_Analysis.ipynb).\n",
        "\n",
        "### Why Recurrent Nueral Networks (RNN)\n",
        "These are nothing but layers that comes from the `keras.Layers` which are commonly used and seems to be good in processing `sequential` data. These layers are used mostly in `audio` processing, `time-series` or `text-sequences`. These layers are a good fit to our case because we are working with sequential data.\n",
        "\n",
        "We are going to make use of an `RNN` achitecture called `Long Short Term Memory (LSTM)`\n",
        "\n",
        "\n",
        "### Why is an LSTM better than a standard RNN? \n",
        "\n",
        "Standard `RNNs` suffer from the vanishing gradient problem. `LSTMs` overcome this by having an extra recurrent state called a `cell`, which can be thought of as the \"memory\" of the LSTM and the use use multiple gates which control the flow of information into and out of the memory. If you want to know the mathematics or clear explanation about these layers you can read them here [CrispenGari/pytorch-python](https://github.com/CrispenGari/pytorch-python/blob/main/09_NLP/02_Sentiment_Analyisis_Series/02_Updated_Sentiment_Analysis.ipynb).\n",
        "\n",
        "### Bidirectional `LSTM`.\n",
        "\n",
        "The concept behind a bidirectional RNN is simple. As well as having an RNN processing the words in the sentence from the first to the last (a forward RNN), we have a second RNN processing the words in the sentence from the last to the first (a backward RNN). In our model we are going to have a  Gated Reccurrent Unit (GRU) as our backward RNN and an LSTM as our forward RNN.\n",
        "\n",
        "\n",
        "### Regularization\n",
        "Without going into overfitting into too much detail, the more parameters you have in in your model, the higher the probability that your model will overfit (memorize the training data, causing a low training error but high validation/testing error, i.e. poor generalization to new, unseen examples). To combat this, we use regularization. More specifically, we use a method of regularization called dropout. \n",
        "\n",
        "`Dropout` works by randomly dropping out (setting to 0) neurons in a layer during a forward pass. The probability that each neuron is dropped out is set by a hyperparameter and each neuron with dropout applied is considered indepenently. One theory about why dropout works is that a model with parameters dropped out can be seen as a \"weaker\" (less parameters) model. The predictions from all these \"weaker\" models (one for each forward pass) get averaged together withinin the parameters of the model. Thus, your one model can be thought of as an ensemble of weaker models, none of which are over-parameterized and thus should not overfit.\n",
        "\n",
        "\n",
        "Our model clas will be called `SentimentClassifier` and it is implemented in the following code cell.\n",
        "\n"
      ],
      "metadata": {
        "id": "jmifRdstJb4s"
      }
    },
    {
      "cell_type": "code",
      "source": [
        "class SentimentClassifier(keras.Model):\n",
        "  def __init__(self, n_output, dropout=.5):\n",
        "    super(SentimentClassifier, self).__init__()\n",
        "\n",
        "    # layers for bidirectional\n",
        "    forward_layer = keras.layers.GRU(\n",
        "      128, return_sequences=True, dropout=dropout,\n",
        "      name=\"gru_forward_layer\"\n",
        "    )\n",
        "    backward_layer = keras.layers.LSTM(\n",
        "      128, return_sequences=True, dropout=dropout,\n",
        "      go_backwards=True, name=\"lstm_backward_layer\"\n",
        "    )\n",
        "    self.embedding = keras.layers.Embedding(\n",
        "          vocab_size, 100, \n",
        "          input_length=max_words,\n",
        "          weights=[embedding_matrix], \n",
        "          trainable=True,\n",
        "          name = \"embedding_layer\"\n",
        "    )\n",
        "    self.bidirectional = keras.layers.Bidirectional(\n",
        "        forward_layer,\n",
        "        backward_layer = backward_layer,\n",
        "        name= \"bidirectional_layer\"\n",
        "    )\n",
        "    self.dropout = keras.layers.Dropout(dropout)\n",
        "    self.flatten = keras.layers.Flatten(\n",
        "          name=\"flatten\"\n",
        "    )\n",
        "    self.fc_1 = keras.layers.Dense(n_output, activation='softmax', name=\"output_layer\")\n",
        "\n",
        "  def call(self, tensor):\n",
        "    x = self.embedding(tensor)\n",
        "    x = self.bidirectional(self.dropout(x))\n",
        "    x = self.flatten(self.dropout(x))\n",
        "    out = self.fc_1(self.dropout(x))\n",
        "    return out"
      ],
      "metadata": {
        "id": "OIbGQpm-L5jI"
      },
      "execution_count": 44,
      "outputs": []
    },
    {
      "cell_type": "code",
      "source": [
        "sentiment_classifier = SentimentClassifier(n_output=3)\n",
        "sentiment_classifier.build((None, 100))\n",
        "sentiment_classifier.summary()"
      ],
      "metadata": {
        "colab": {
          "base_uri": "https://localhost:8080/"
        },
        "id": "xdfmWV5iFnzI",
        "outputId": "6b00d4c8-2ea5-4d80-c16d-bcd68f54866e"
      },
      "execution_count": 45,
      "outputs": [
        {
          "output_type": "stream",
          "name": "stdout",
          "text": [
            "Model: \"sentiment_classifier\"\n",
            "_________________________________________________________________\n",
            " Layer (type)                Output Shape              Param #   \n",
            "=================================================================\n",
            " embedding_layer (Embedding)  multiple                 627500    \n",
            "                                                                 \n",
            " bidirectional_layer (Bidire  multiple                 205568    \n",
            " ctional)                                                        \n",
            "                                                                 \n",
            " dropout (Dropout)           multiple                  0         \n",
            "                                                                 \n",
            " flatten (Flatten)           multiple                  0         \n",
            "                                                                 \n",
            " output_layer (Dense)        multiple                  76803     \n",
            "                                                                 \n",
            "=================================================================\n",
            "Total params: 909,871\n",
            "Trainable params: 909,871\n",
            "Non-trainable params: 0\n",
            "_________________________________________________________________\n"
          ]
        }
      ]
    },
    {
      "cell_type": "markdown",
      "source": [
        "### Callbacks\n",
        "In the following code cell we are going to define our callbacks. Callbacks helps ua to control or monitor our model during training. You can read more about them in the [Keras Docummentation on Callbacks](https://keras.io/api/callbacks/).\n",
        "\n",
        "\n",
        "We are also going to compile our model. We are using the `CategoricalCrossentropy` as our loss function, as mentioned before. The reason why we are passing `from_logits=False` it's because in the output layer of the model we are using `softmax` activation function. For the training metrics we are going to visualize the `accuracy` and for the optimizer we are going to use the `Adam` with the default parameters. You can try different optimizer for your back propagation algorithm but adams seems to produce better results in most cases."
      ],
      "metadata": {
        "id": "D8vQTaUrzFAI"
      }
    },
    {
      "cell_type": "code",
      "source": [
        "early_stoping = keras.callbacks.EarlyStopping(\n",
        "    monitor='val_loss',\n",
        "    min_delta=0,\n",
        "    patience=5,\n",
        "    verbose=1,\n",
        "    mode='auto',\n",
        "    baseline=None,\n",
        "    restore_best_weights=False,\n",
        ")\n",
        "\n",
        "sentiment_classifier.compile(\n",
        "    loss =  keras.losses.CategoricalCrossentropy(from_logits=False),\n",
        "    metrics = ['accuracy'],\n",
        "    optimizer = keras.optimizers.Adam()\n",
        ")"
      ],
      "metadata": {
        "id": "5JJJUw2eH04J"
      },
      "execution_count": 46,
      "outputs": []
    },
    {
      "cell_type": "markdown",
      "source": [
        "### Training Loop\n",
        "\n",
        "In the following code cell we are going to train our model. We are going to call the `fit` method on our model. For the training data we are going to use the batch_size of `128` and for the validation set we are going to half the batch_size."
      ],
      "metadata": {
        "id": "WlxSK9dD0Peu"
      }
    },
    {
      "cell_type": "code",
      "source": [
        "BATCH_SIZE = 128\n",
        "EPOCHS = 20\n",
        "\n",
        "history = sentiment_classifier.fit(\n",
        "    x = train_tokens_sequence_padded,\n",
        "    y = train_labels,\n",
        "    epochs = EPOCHS,\n",
        "    verbose = 1,\n",
        "    shuffle=True,\n",
        "    batch_size= BATCH_SIZE,\n",
        "    validation_data=(val_tokens_sequence_padded, val_labels),\n",
        "    validation_batch_size = BATCH_SIZE//2,\n",
        "    callbacks =[early_stoping]\n",
        ")"
      ],
      "metadata": {
        "colab": {
          "base_uri": "https://localhost:8080/"
        },
        "id": "tnDTpi8ZIKv5",
        "outputId": "db1b7375-5dd5-4b2c-d97f-14247d5eb9dc"
      },
      "execution_count": 47,
      "outputs": [
        {
          "output_type": "stream",
          "name": "stdout",
          "text": [
            "Epoch 1/20\n",
            "37/37 [==============================] - 18s 94ms/step - loss: 1.0621 - accuracy: 0.4657 - val_loss: 1.0584 - val_accuracy: 0.5106\n",
            "Epoch 2/20\n",
            "37/37 [==============================] - 1s 33ms/step - loss: 0.9973 - accuracy: 0.5259 - val_loss: 0.9095 - val_accuracy: 0.5957\n",
            "Epoch 3/20\n",
            "37/37 [==============================] - 1s 37ms/step - loss: 0.9595 - accuracy: 0.5493 - val_loss: 0.8820 - val_accuracy: 0.6383\n",
            "Epoch 4/20\n",
            "37/37 [==============================] - 1s 28ms/step - loss: 0.9313 - accuracy: 0.5748 - val_loss: 0.8252 - val_accuracy: 0.6596\n",
            "Epoch 5/20\n",
            "37/37 [==============================] - 1s 20ms/step - loss: 0.8766 - accuracy: 0.6060 - val_loss: 0.8143 - val_accuracy: 0.7021\n",
            "Epoch 6/20\n",
            "37/37 [==============================] - 1s 20ms/step - loss: 0.8532 - accuracy: 0.6258 - val_loss: 0.8976 - val_accuracy: 0.6170\n",
            "Epoch 7/20\n",
            "37/37 [==============================] - 1s 20ms/step - loss: 0.7898 - accuracy: 0.6564 - val_loss: 0.7618 - val_accuracy: 0.7021\n",
            "Epoch 8/20\n",
            "37/37 [==============================] - 1s 20ms/step - loss: 0.7953 - accuracy: 0.6536 - val_loss: 0.7339 - val_accuracy: 0.7021\n",
            "Epoch 9/20\n",
            "37/37 [==============================] - 1s 20ms/step - loss: 0.7129 - accuracy: 0.7001 - val_loss: 0.7973 - val_accuracy: 0.7447\n",
            "Epoch 10/20\n",
            "37/37 [==============================] - 1s 20ms/step - loss: 0.6839 - accuracy: 0.7159 - val_loss: 0.7825 - val_accuracy: 0.7234\n",
            "Epoch 11/20\n",
            "37/37 [==============================] - 1s 20ms/step - loss: 0.6492 - accuracy: 0.7337 - val_loss: 0.7053 - val_accuracy: 0.7447\n",
            "Epoch 12/20\n",
            "37/37 [==============================] - 1s 20ms/step - loss: 0.6003 - accuracy: 0.7551 - val_loss: 0.7498 - val_accuracy: 0.7447\n",
            "Epoch 13/20\n",
            "37/37 [==============================] - 1s 20ms/step - loss: 0.5637 - accuracy: 0.7710 - val_loss: 0.7395 - val_accuracy: 0.7234\n",
            "Epoch 14/20\n",
            "37/37 [==============================] - 1s 20ms/step - loss: 0.5620 - accuracy: 0.7742 - val_loss: 0.6998 - val_accuracy: 0.7872\n",
            "Epoch 15/20\n",
            "37/37 [==============================] - 1s 21ms/step - loss: 0.5364 - accuracy: 0.7848 - val_loss: 0.7832 - val_accuracy: 0.7447\n",
            "Epoch 16/20\n",
            "37/37 [==============================] - 1s 20ms/step - loss: 0.5143 - accuracy: 0.7992 - val_loss: 0.6987 - val_accuracy: 0.7872\n",
            "Epoch 17/20\n",
            "37/37 [==============================] - 1s 20ms/step - loss: 0.4785 - accuracy: 0.8076 - val_loss: 0.7748 - val_accuracy: 0.8085\n",
            "Epoch 18/20\n",
            "37/37 [==============================] - 1s 20ms/step - loss: 0.4341 - accuracy: 0.8374 - val_loss: 0.7444 - val_accuracy: 0.7660\n",
            "Epoch 19/20\n",
            "37/37 [==============================] - 1s 20ms/step - loss: 0.4187 - accuracy: 0.8369 - val_loss: 0.8166 - val_accuracy: 0.7447\n",
            "Epoch 20/20\n",
            "37/37 [==============================] - 1s 20ms/step - loss: 0.3962 - accuracy: 0.8522 - val_loss: 0.7518 - val_accuracy: 0.8085\n"
          ]
        }
      ]
    },
    {
      "cell_type": "markdown",
      "source": [
        "### Visualizing training metrics"
      ],
      "metadata": {
        "id": "uXE6LzvqJkNR"
      }
    },
    {
      "cell_type": "code",
      "source": [
        "pd.DataFrame(history.history).plot(figsize=(8,5))\n",
        "plt.title(\"Training history\")\n",
        "plt.xlabel = \"Epoch(s)\"\n",
        "plt.ylabel = \"loss/accuracy\"\n",
        "plt.show()"
      ],
      "metadata": {
        "id": "nI1hQhg5L5de",
        "colab": {
          "base_uri": "https://localhost:8080/",
          "height": 336
        },
        "outputId": "0a2f59df-0edd-43b8-c68c-01cf7425f167"
      },
      "execution_count": 48,
      "outputs": [
        {
          "output_type": "display_data",
          "data": {
            "text/plain": [
              "<Figure size 576x360 with 1 Axes>"
            ],
            "image/png": "[encoded data removed]"
          },
          "metadata": {
            "needs_background": "light"
          }
        }
      ]
    },
    {
      "cell_type": "markdown",
      "source": [
        "### Model evaluation\n",
        "\n",
        "In the following code cell we are going to evaluate our model. Note that the model evaluation in machine learning is done on the test dataset. The test dataset is the dataset that the model has never seen during training. The reason for us doing this it's because we don't want false metrics to fool us while the model will not perform well during inference.\n",
        "\n",
        "\n",
        "So we are going to use our `test_tokens_padded` and our `test_labels` to do model evaluation."
      ],
      "metadata": {
        "id": "41YboV13Jpij"
      }
    },
    {
      "cell_type": "code",
      "source": [
        "sentiment_classifier.evaluate(\n",
        "    x = test_tokens_sequence_padded,\n",
        "    y = test_labels,\n",
        "    verbose=1, batch_size=BATCH_SIZE//2\n",
        ")"
      ],
      "metadata": {
        "id": "SHGUrd3xJtDk",
        "colab": {
          "base_uri": "https://localhost:8080/"
        },
        "outputId": "c0f3615c-b206-4e99-d69a-c53e63db5719"
      },
      "execution_count": 49,
      "outputs": [
        {
          "output_type": "stream",
          "name": "stdout",
          "text": [
            "9/9 [==============================] - 0s 8ms/step - loss: 0.5241 - accuracy: 0.8119\n"
          ]
        },
        {
          "output_type": "execute_result",
          "data": {
            "text/plain": [
              "[0.5240583419799805, 0.8119001984596252]"
            ]
          },
          "metadata": {},
          "execution_count": 49
        }
      ]
    },
    {
      "cell_type": "markdown",
      "source": [
        "### Model Inference\n",
        "\n",
        "In this section we are going to make predictions using our model. During model inference we are going to do the same feature processing as we did during model training. These feature processing will include something like:\n",
        "\n",
        "1. converting our text to lower case (and maybe do text cleaning)\n",
        "2. tokenize our text into list of words (note that we need to use the same tokenization function that we used before)\n",
        "3. we going to convert our text to sequence of intergers\n",
        "4. we will then pad these sequence to the size that we used during training.\n",
        "5. then finally we will call the `predict` function on our model.\n",
        "\n",
        "\n",
        "The following functions was used during text cleaning from the previous notebook, so we are redefining them in this notebook so that we can reuse them again.\n"
      ],
      "metadata": {
        "id": "AQcL7DwZJtsj"
      }
    },
    {
      "cell_type": "code",
      "source": [
        "def decontracted(phrase:str)->str:\n",
        "    \"\"\"\n",
        "    Args:\n",
        "        phrase (str): takes in a word like I'm\n",
        "\n",
        "    Returns:\n",
        "        string: a decontracted word like I am\n",
        "    \"\"\"\n",
        "    # specific\n",
        "    phrase = re.sub(r\"won\\'t\", \"will not\", phrase)\n",
        "    phrase = re.sub(r\"can\\'t\", \"can not\", phrase)\n",
        "\n",
        "    # general\n",
        "    phrase = re.sub(r\"n\\'t\", \" not\", phrase)\n",
        "    phrase = re.sub(r\"\\'re\", \" are\", phrase)\n",
        "    phrase = re.sub(r\"\\'s\", \" is\", phrase)\n",
        "    phrase = re.sub(r\"\\'d\", \" would\", phrase)\n",
        "    phrase = re.sub(r\"\\'ll\", \" will\", phrase)\n",
        "    phrase = re.sub(r\"\\'t\", \" not\", phrase)\n",
        "    phrase = re.sub(r\"\\'ve\", \" have\", phrase)\n",
        "    phrase = re.sub(r\"\\'m\", \" am\", phrase)\n",
        "    return phrase"
      ],
      "metadata": {
        "id": "6no9n1VkP5zr"
      },
      "execution_count": 50,
      "outputs": []
    },
    {
      "cell_type": "code",
      "source": [
        "def clean_sentence(sent:str)->str:\n",
        "\n",
        "    \"\"\"\n",
        "    Args:\n",
        "        sent (str): an uncleaned sentence with text, punctuations, numbers and non-english words\n",
        "    Returns:\n",
        "        str: returns a cleaned sentence with only english words in it.\n",
        "    \"\"\"\n",
        "    sent = sent.lower() # converting the text to lower case\n",
        "    sent = re.sub(r'(@|#)([A-Za-z0-9]+)', ' ', sent) # removing tags and mentions (there's no right way of doing it with regular expression but this will try)\n",
        "    sent = re.sub(r\"([A-Za-z0-9]+[.-_])*[A-Za-z0-9]+@[A-Za-z0-9-]+(\\.[A-Z|a-z]{2,})+\", \" \", sent) # removing emails\n",
        "    sent = re.sub(r'https?\\S+', ' ', sent, flags=re.MULTILINE) # removing url's\n",
        "    sent = re.sub(r'\\d', ' ', sent) # removing none word characters\n",
        "    sent = re.sub(r'[^\\w\\s\\']', ' ', sent) # removing punctuations except for \"'\" in words like I'm\n",
        "    sent = re.sub(r'\\s+', ' ', sent).strip() # remove more than one space\n",
        "    words = list()\n",
        "    eng = set(nltk.corpus.words.words())\n",
        "    for word in sent.split(' '):\n",
        "        words.append(decontracted(word)) # replace word's like \"i'm -> i am\"\n",
        "    return \" \".join(w for w in words if w.lower() in eng or not w.isalpha()) # removing non-english words\n",
        "    "
      ],
      "metadata": {
        "id": "BqwtZCawJs05"
      },
      "execution_count": 51,
      "outputs": []
    },
    {
      "cell_type": "markdown",
      "source": [
        "### The predict function.\n",
        "In the predict function we are going to make predictions on a given text sentence and return the following response.\n",
        "\n",
        "```json\n",
        "{\n",
        "  \"class_label\": \"neutral\",\n",
        "  \"label\": 0,\n",
        "  \"predictions\": [\n",
        "    {\"class_label\": \"neutral\", \"label\": 0, \"probability\": 0.86},\n",
        "    {\"class_label\": \"negative\", \"label\": 1, \"probability\": 0.04},\n",
        "    {\"class_label\": \"positive\", \"label\": 2, \"probability\": 0.1}\n",
        "   ],\n",
        "  \"probability\": 0.86,\n",
        "  \"sentence\": \"this is a sentiment\"\n",
        "}\n",
        "```\n",
        "\n",
        "In the following code cell we are going to define our classes or class name."
      ],
      "metadata": {
        "id": "dRt-2FzzQSqO"
      }
    },
    {
      "cell_type": "code",
      "source": [
        "classes = np.array([\"neutral\", 'negative', \"positive\"])"
      ],
      "metadata": {
        "id": "b2k3239XS6Dp"
      },
      "execution_count": 52,
      "outputs": []
    },
    {
      "cell_type": "markdown",
      "source": [
        "### Data Types\n",
        "\n",
        "This is not necessary but it is a good practice when coding. We want to create a datatye that matches our prediction response."
      ],
      "metadata": {
        "id": "e6jfACZ5T5Lt"
      }
    },
    {
      "cell_type": "code",
      "source": [
        "class Prediction:\n",
        "  def __init__(self, class_label: str, label: int, probability: float):\n",
        "    self.class_label = class_label\n",
        "    self.label = label\n",
        "    self.probability = probability\n",
        "  \n",
        "  def __str__(self) -> str:\n",
        "      return f\"Prediction <{self.class_label}>\"\n",
        "\n",
        "  def __repr__(self) -> str:\n",
        "      return f\"Prediction <{self.class_label}>\"\n",
        "\n",
        "class PredictionResponse:\n",
        "  def __init__(self, class_label: str, label: int, predictions: list, probability:float, sentence: str):\n",
        "    self.class_label = class_label\n",
        "    self.label = label\n",
        "    self.predictions = predictions\n",
        "    self.probability = probability\n",
        "    self.sentence = sentence\n",
        "\n",
        "  def __str__(self) -> str:\n",
        "    return f\"Prediction Response <{self.class_label}>\"\n",
        "\n",
        "  def __repr__(self) -> str:\n",
        "    return f\"Prediction Response <{self.class_label}>\""
      ],
      "metadata": {
        "id": "CKBraitfUHr6"
      },
      "execution_count": 53,
      "outputs": []
    },
    {
      "cell_type": "markdown",
      "source": [
        "In the following code cell we are going to create a `make_prediction` function, this function takes in the `model` and the `text` sentence."
      ],
      "metadata": {
        "id": "c5L4nAtfV6PX"
      }
    },
    {
      "cell_type": "code",
      "source": [
        "def make_prediction(model, text: str):\n",
        "  text = clean_sentence(text)\n",
        "  tokens = tokenize(text)\n",
        "  tokens = tokenizer.texts_to_sequences([text])\n",
        "  tokens = keras.preprocessing.sequence.pad_sequences(\n",
        "                                       tokens,\n",
        "                                       maxlen=max_words,\n",
        "                                       padding=\"post\", \n",
        "                                       truncating=\"post\"\n",
        "                                       )\n",
        "  \n",
        "  probabilities = np.squeeze(model.predict(tokens))\n",
        "  top_pred = np.argmax(probabilities, axis=0)\n",
        "\n",
        "  all_preds = [\n",
        "      Prediction(classes[i], i, float(np.round(probabilities[i], 2))) for i, _ in enumerate(probabilities)\n",
        "  ]\n",
        "\n",
        "  return PredictionResponse(classes[top_pred],top_pred, all_preds, float(np.round(probabilities[top_pred], 2)), text)"
      ],
      "metadata": {
        "id": "cbDhNpeVQSVE"
      },
      "execution_count": 54,
      "outputs": []
    },
    {
      "cell_type": "markdown",
      "source": [
        "### Nuetral Prediction"
      ],
      "metadata": {
        "id": "E-laerDKXVBP"
      }
    },
    {
      "cell_type": "code",
      "source": [
        "make_prediction(sentiment_classifier, 'i want to place one order delivery courier shipment to me but status mark day please help me courier service no courier head is talking to me and no')"
      ],
      "metadata": {
        "colab": {
          "base_uri": "https://localhost:8080/"
        },
        "id": "T2sChaEkXMaw",
        "outputId": "81720357-755e-4d05-b9a4-7c945ae8fd91"
      },
      "execution_count": 55,
      "outputs": [
        {
          "output_type": "execute_result",
          "data": {
            "text/plain": [
              "Prediction Response <neutral>"
            ]
          },
          "metadata": {},
          "execution_count": 55
        }
      ]
    },
    {
      "cell_type": "markdown",
      "source": [
        "### Negative Prediction"
      ],
      "metadata": {
        "id": "CZT05PvuXRmm"
      }
    },
    {
      "cell_type": "code",
      "source": [
        "make_prediction(sentiment_classifier, 'your delivery service is ducking and unreliable rod the worst reputation')"
      ],
      "metadata": {
        "colab": {
          "base_uri": "https://localhost:8080/"
        },
        "id": "GbjfyaAUXMQ1",
        "outputId": "893aef83-90f9-4822-d176-918ed5d4b8f0"
      },
      "execution_count": 56,
      "outputs": [
        {
          "output_type": "execute_result",
          "data": {
            "text/plain": [
              "Prediction Response <negative>"
            ]
          },
          "metadata": {},
          "execution_count": 56
        }
      ]
    },
    {
      "cell_type": "markdown",
      "source": [
        "### Positive Prediction"
      ],
      "metadata": {
        "id": "GkWgNpbCXMxp"
      }
    },
    {
      "cell_type": "code",
      "source": [
        "make_prediction(sentiment_classifier, 'exclusive gift pack make your one feel difference to order this high quality gift pack please visit the following link cash on delivery service is available all over the country')"
      ],
      "metadata": {
        "colab": {
          "base_uri": "https://localhost:8080/"
        },
        "id": "DfVYieXLXL_7",
        "outputId": "1fb4b3ac-f2c6-4c07-a835-644bc476f176"
      },
      "execution_count": 57,
      "outputs": [
        {
          "output_type": "execute_result",
          "data": {
            "text/plain": [
              "Prediction Response <positive>"
            ]
          },
          "metadata": {},
          "execution_count": 57
        }
      ]
    },
    {
      "cell_type": "markdown",
      "source": [
        "### User Input\n",
        "\n",
        "We can allow users to give us the text and then make predictions on their text. In the following code cell we are going to allow users to give us their input and make predictions based on their input text.\n"
      ],
      "metadata": {
        "id": "ANeVmyqjY82l"
      }
    },
    {
      "cell_type": "code",
      "source": [
        "while True:\n",
        "  text = input(\"Enter a tweet review (q) to quit:\\n\")\n",
        "  if text.lower() == \"q\":\n",
        "    break\n",
        "  prediction = make_prediction(sentiment_classifier, text)\n",
        "\n",
        "  print()\n",
        "  print(\"text: \", prediction.sentence)\n",
        "  print(\"label: \", prediction.label)\n",
        "  print(\"class label: \", prediction.class_label)\n",
        "  print(\"probability: \", prediction.probability)\n",
        "  print()\n",
        "  print(\"*\" * 90)\n",
        "  print()\n"
      ],
      "metadata": {
        "colab": {
          "base_uri": "https://localhost:8080/"
        },
        "id": "8Ds1OCMVZPm6",
        "outputId": "f195c6a0-daea-49ab-cc18-197488a7fcba"
      },
      "execution_count": 58,
      "outputs": [
        {
          "name": "stdout",
          "output_type": "stream",
          "text": [
            "Enter a tweet review (q) to quit:\n",
            "your delivery service is ducking and unreliable rod the worst reputation\n",
            "\n",
            "text:  your delivery service is ducking and unreliable rod the worst reputation\n",
            "label:  1\n",
            "class label:  negative\n",
            "probability:  1.0\n",
            "\n",
            "******************************************************************************************\n",
            "\n",
            "Enter a tweet review (q) to quit:\n",
            "q\n"
          ]
        }
      ]
    },
    {
      "cell_type": "markdown",
      "source": [
        "### Saving and Loading\n",
        "\n",
        "There a a lot of ways of saving keras models, we are going to use the one called Model Serelization, which involves the saving of the whole model with `model.save(path)` file."
      ],
      "metadata": {
        "id": "9mmNTWXoJxaf"
      }
    },
    {
      "cell_type": "code",
      "source": [
        "model_path = 'sentiment_classifier'\n",
        "\n",
        "sentiment_classifier.save(model_path, save_format='tf')\n",
        "print(\"Model Saved.\")"
      ],
      "metadata": {
        "id": "PolyIuh4Jzpe",
        "colab": {
          "base_uri": "https://localhost:8080/"
        },
        "outputId": "32818123-74f9-4ab9-c2dd-51f4b71abef1"
      },
      "execution_count": 59,
      "outputs": [
        {
          "output_type": "stream",
          "name": "stderr",
          "text": [
            "WARNING:absl:Found untraced functions such as gru_cell_1_layer_call_fn, gru_cell_1_layer_call_and_return_conditional_losses, lstm_cell_layer_call_fn, lstm_cell_layer_call_and_return_conditional_losses while saving (showing 4 of 4). These functions will not be directly callable after loading.\n"
          ]
        },
        {
          "output_type": "stream",
          "name": "stdout",
          "text": [
            "INFO:tensorflow:Assets written to: sentiment_classifier/assets\n"
          ]
        },
        {
          "output_type": "stream",
          "name": "stderr",
          "text": [
            "INFO:tensorflow:Assets written to: sentiment_classifier/assets\n",
            "WARNING:absl:<keras.layers.recurrent.GRUCell object at 0x7eff101220d0> has the same name 'GRUCell' as a built-in Keras object. Consider renaming <class 'keras.layers.recurrent.GRUCell'> to avoid naming conflicts when loading with `tf.keras.models.load_model`. If renaming is not possible, pass the object in the `custom_objects` parameter of the load function.\n",
            "WARNING:absl:<keras.layers.recurrent.LSTMCell object at 0x7eff0a490d50> has the same name 'LSTMCell' as a built-in Keras object. Consider renaming <class 'keras.layers.recurrent.LSTMCell'> to avoid naming conflicts when loading with `tf.keras.models.load_model`. If renaming is not possible, pass the object in the `custom_objects` parameter of the load function.\n"
          ]
        },
        {
          "output_type": "stream",
          "name": "stdout",
          "text": [
            "Model Saved.\n"
          ]
        }
      ]
    },
    {
      "cell_type": "markdown",
      "source": [
        "Now to load the model we use the `keras.models.load_model(path)` function."
      ],
      "metadata": {
        "id": "4rul4rBG4Gzw"
      }
    },
    {
      "cell_type": "code",
      "source": [
        "loaded_model = keras.models.load_model(model_path)\n",
        "\n",
        "loaded_model.evaluate(\n",
        "    x = test_tokens_sequence_padded,\n",
        "    y = test_labels,\n",
        "    verbose=1, batch_size=BATCH_SIZE//2\n",
        ")"
      ],
      "metadata": {
        "id": "Y0FdS-nd4Stb",
        "colab": {
          "base_uri": "https://localhost:8080/"
        },
        "outputId": "5b14d871-b4da-42f5-c876-3a5940c5d198"
      },
      "execution_count": 60,
      "outputs": [
        {
          "output_type": "stream",
          "name": "stdout",
          "text": [
            "9/9 [==============================] - 1s 10ms/step - loss: 0.5241 - accuracy: 0.8119\n"
          ]
        },
        {
          "output_type": "execute_result",
          "data": {
            "text/plain": [
              "[0.5240583419799805, 0.8119001984596252]"
            ]
          },
          "metadata": {},
          "execution_count": 60
        }
      ]
    },
    {
      "cell_type": "markdown",
      "source": [
        "### Model Metrics Evaluations\n",
        "\n",
        "In this section we are going to evaluate our model metrics based our test dataset. Classification models can be evaluated using:\n",
        "\n",
        "1. classification reports\n",
        "2. confusion matrix\n",
        "3. accuracy\n",
        "4. loss\n",
        "\n",
        "We have already saw the accuracy of our model, next we are gong to show the classification report of our model. We will need real labels and predicted labels, in the following code cell we are going to get the predicted labels in from the test examples."
      ],
      "metadata": {
        "id": "rw8XWRXz5yhA"
      }
    },
    {
      "cell_type": "code",
      "source": [
        "from sklearn.metrics import classification_report\n",
        "from sklearn.metrics import confusion_matrix\n",
        "from sklearn.metrics import ConfusionMatrixDisplay\n",
        "import itertools"
      ],
      "metadata": {
        "id": "oiq88xojdOFS"
      },
      "execution_count": 61,
      "outputs": []
    },
    {
      "cell_type": "code",
      "source": [
        "y_preds = np.argmax(np.squeeze(sentiment_classifier.predict(test_tokens_sequence_padded)), 1)\n",
        "y = np.argmax(test_labels, axis=1)\n",
        "\n",
        "# checking if predictions length are the same as real_labels length\n",
        "\n",
        "assert len(y_preds) == len(y), f\"The predicted labels and real labels must have the same length, but got {len(y_preds)} and {len(y)}.\""
      ],
      "metadata": {
        "id": "5FjZuvmRcIzC"
      },
      "execution_count": 62,
      "outputs": []
    },
    {
      "cell_type": "markdown",
      "source": [
        "In the following code cell we are going to display a classification report for our test dataset."
      ],
      "metadata": {
        "id": "ri3osKMrK8-j"
      }
    },
    {
      "cell_type": "code",
      "source": [
        "cr = classification_report(y, y_preds, output_dict=False, labels=y, target_names =[classes[i] for i in y])\n",
        "print(cr)"
      ],
      "metadata": {
        "id": "sCHgK__y51Y1",
        "colab": {
          "base_uri": "https://localhost:8080/"
        },
        "outputId": "9fe29971-e5e8-4876-b9b8-78f96f8b4cfb"
      },
      "execution_count": 63,
      "outputs": [
        {
          "output_type": "stream",
          "name": "stdout",
          "text": [
            "              precision    recall  f1-score   support\n",
            "\n",
            "    positive       0.86      0.76      0.81       186\n",
            "     neutral       0.68      0.93      0.79       142\n",
            "    negative       0.92      0.77      0.84       193\n",
            "    negative       0.92      0.77      0.84       193\n",
            "    positive       0.86      0.76      0.81       186\n",
            "    negative       0.92      0.77      0.84       193\n",
            "    positive       0.86      0.76      0.81       186\n",
            "     neutral       0.68      0.93      0.79       142\n",
            "    negative       0.92      0.77      0.84       193\n",
            "    positive       0.86      0.76      0.81       186\n",
            "    positive       0.86      0.76      0.81       186\n",
            "    positive       0.86      0.76      0.81       186\n",
            "     neutral       0.68      0.93      0.79       142\n",
            "    positive       0.86      0.76      0.81       186\n",
            "    positive       0.86      0.76      0.81       186\n",
            "    negative       0.92      0.77      0.84       193\n",
            "    negative       0.92      0.77      0.84       193\n",
            "    positive       0.86      0.76      0.81       186\n",
            "    negative       0.92      0.77      0.84       193\n",
            "    negative       0.92      0.77      0.84       193\n",
            "    negative       0.92      0.77      0.84       193\n",
            "     neutral       0.68      0.93      0.79       142\n",
            "     neutral       0.68      0.93      0.79       142\n",
            "    positive       0.86      0.76      0.81       186\n",
            "    positive       0.86      0.76      0.81       186\n",
            "     neutral       0.68      0.93      0.79       142\n",
            "    negative       0.92      0.77      0.84       193\n",
            "     neutral       0.68      0.93      0.79       142\n",
            "    positive       0.86      0.76      0.81       186\n",
            "    positive       0.86      0.76      0.81       186\n",
            "     neutral       0.68      0.93      0.79       142\n",
            "    positive       0.86      0.76      0.81       186\n",
            "    negative       0.92      0.77      0.84       193\n",
            "    negative       0.92      0.77      0.84       193\n",
            "    positive       0.86      0.76      0.81       186\n",
            "    negative       0.92      0.77      0.84       193\n",
            "     neutral       0.68      0.93      0.79       142\n",
            "     neutral       0.68      0.93      0.79       142\n",
            "    negative       0.92      0.77      0.84       193\n",
            "    negative       0.92      0.77      0.84       193\n",
            "    negative       0.92      0.77      0.84       193\n",
            "    negative       0.92      0.77      0.84       193\n",
            "     neutral       0.68      0.93      0.79       142\n",
            "    negative       0.92      0.77      0.84       193\n",
            "    positive       0.86      0.76      0.81       186\n",
            "    negative       0.92      0.77      0.84       193\n",
            "     neutral       0.68      0.93      0.79       142\n",
            "    positive       0.86      0.76      0.81       186\n",
            "    positive       0.86      0.76      0.81       186\n",
            "    negative       0.92      0.77      0.84       193\n",
            "    negative       0.92      0.77      0.84       193\n",
            "     neutral       0.68      0.93      0.79       142\n",
            "    positive       0.86      0.76      0.81       186\n",
            "    positive       0.86      0.76      0.81       186\n",
            "    negative       0.92      0.77      0.84       193\n",
            "    negative       0.92      0.77      0.84       193\n",
            "     neutral       0.68      0.93      0.79       142\n",
            "    positive       0.86      0.76      0.81       186\n",
            "    negative       0.92      0.77      0.84       193\n",
            "    negative       0.92      0.77      0.84       193\n",
            "    positive       0.86      0.76      0.81       186\n",
            "     neutral       0.68      0.93      0.79       142\n",
            "    negative       0.92      0.77      0.84       193\n",
            "    positive       0.86      0.76      0.81       186\n",
            "     neutral       0.68      0.93      0.79       142\n",
            "     neutral       0.68      0.93      0.79       142\n",
            "    negative       0.92      0.77      0.84       193\n",
            "     neutral       0.68      0.93      0.79       142\n",
            "    negative       0.92      0.77      0.84       193\n",
            "    positive       0.86      0.76      0.81       186\n",
            "    negative       0.92      0.77      0.84       193\n",
            "     neutral       0.68      0.93      0.79       142\n",
            "    positive       0.86      0.76      0.81       186\n",
            "    positive       0.86      0.76      0.81       186\n",
            "    positive       0.86      0.76      0.81       186\n",
            "     neutral       0.68      0.93      0.79       142\n",
            "    positive       0.86      0.76      0.81       186\n",
            "     neutral       0.68      0.93      0.79       142\n",
            "    negative       0.92      0.77      0.84       193\n",
            "    positive       0.86      0.76      0.81       186\n",
            "    negative       0.92      0.77      0.84       193\n",
            "    negative       0.92      0.77      0.84       193\n",
            "    positive       0.86      0.76      0.81       186\n",
            "     neutral       0.68      0.93      0.79       142\n",
            "    negative       0.92      0.77      0.84       193\n",
            "    negative       0.92      0.77      0.84       193\n",
            "    negative       0.92      0.77      0.84       193\n",
            "    negative       0.92      0.77      0.84       193\n",
            "    positive       0.86      0.76      0.81       186\n",
            "    negative       0.92      0.77      0.84       193\n",
            "    negative       0.92      0.77      0.84       193\n",
            "     neutral       0.68      0.93      0.79       142\n",
            "    negative       0.92      0.77      0.84       193\n",
            "    negative       0.92      0.77      0.84       193\n",
            "    negative       0.92      0.77      0.84       193\n",
            "     neutral       0.68      0.93      0.79       142\n",
            "     neutral       0.68      0.93      0.79       142\n",
            "    negative       0.92      0.77      0.84       193\n",
            "    negative       0.92      0.77      0.84       193\n",
            "    negative       0.92      0.77      0.84       193\n",
            "    negative       0.92      0.77      0.84       193\n",
            "    negative       0.92      0.77      0.84       193\n",
            "     neutral       0.68      0.93      0.79       142\n",
            "    positive       0.86      0.76      0.81       186\n",
            "    positive       0.86      0.76      0.81       186\n",
            "    negative       0.92      0.77      0.84       193\n",
            "    positive       0.86      0.76      0.81       186\n",
            "     neutral       0.68      0.93      0.79       142\n",
            "     neutral       0.68      0.93      0.79       142\n",
            "     neutral       0.68      0.93      0.79       142\n",
            "    positive       0.86      0.76      0.81       186\n",
            "    negative       0.92      0.77      0.84       193\n",
            "     neutral       0.68      0.93      0.79       142\n",
            "    positive       0.86      0.76      0.81       186\n",
            "    negative       0.92      0.77      0.84       193\n",
            "    negative       0.92      0.77      0.84       193\n",
            "    negative       0.92      0.77      0.84       193\n",
            "    negative       0.92      0.77      0.84       193\n",
            "    positive       0.86      0.76      0.81       186\n",
            "    positive       0.86      0.76      0.81       186\n",
            "    negative       0.92      0.77      0.84       193\n",
            "     neutral       0.68      0.93      0.79       142\n",
            "    positive       0.86      0.76      0.81       186\n",
            "    positive       0.86      0.76      0.81       186\n",
            "    positive       0.86      0.76      0.81       186\n",
            "    negative       0.92      0.77      0.84       193\n",
            "    negative       0.92      0.77      0.84       193\n",
            "     neutral       0.68      0.93      0.79       142\n",
            "    negative       0.92      0.77      0.84       193\n",
            "    positive       0.86      0.76      0.81       186\n",
            "    negative       0.92      0.77      0.84       193\n",
            "     neutral       0.68      0.93      0.79       142\n",
            "    negative       0.92      0.77      0.84       193\n",
            "     neutral       0.68      0.93      0.79       142\n",
            "     neutral       0.68      0.93      0.79       142\n",
            "    negative       0.92      0.77      0.84       193\n",
            "    positive       0.86      0.76      0.81       186\n",
            "     neutral       0.68      0.93      0.79       142\n",
            "    negative       0.92      0.77      0.84       193\n",
            "     neutral       0.68      0.93      0.79       142\n",
            "    positive       0.86      0.76      0.81       186\n",
            "    positive       0.86      0.76      0.81       186\n",
            "    negative       0.92      0.77      0.84       193\n",
            "    positive       0.86      0.76      0.81       186\n",
            "    negative       0.92      0.77      0.84       193\n",
            "    negative       0.92      0.77      0.84       193\n",
            "     neutral       0.68      0.93      0.79       142\n",
            "    positive       0.86      0.76      0.81       186\n",
            "     neutral       0.68      0.93      0.79       142\n",
            "     neutral       0.68      0.93      0.79       142\n",
            "    negative       0.92      0.77      0.84       193\n",
            "    positive       0.86      0.76      0.81       186\n",
            "    positive       0.86      0.76      0.81       186\n",
            "     neutral       0.68      0.93      0.79       142\n",
            "     neutral       0.68      0.93      0.79       142\n",
            "     neutral       0.68      0.93      0.79       142\n",
            "    positive       0.86      0.76      0.81       186\n",
            "     neutral       0.68      0.93      0.79       142\n",
            "    negative       0.92      0.77      0.84       193\n",
            "    negative       0.92      0.77      0.84       193\n",
            "    positive       0.86      0.76      0.81       186\n",
            "    positive       0.86      0.76      0.81       186\n",
            "     neutral       0.68      0.93      0.79       142\n",
            "     neutral       0.68      0.93      0.79       142\n",
            "    negative       0.92      0.77      0.84       193\n",
            "    negative       0.92      0.77      0.84       193\n",
            "     neutral       0.68      0.93      0.79       142\n",
            "     neutral       0.68      0.93      0.79       142\n",
            "    positive       0.86      0.76      0.81       186\n",
            "    positive       0.86      0.76      0.81       186\n",
            "    positive       0.86      0.76      0.81       186\n",
            "     neutral       0.68      0.93      0.79       142\n",
            "    negative       0.92      0.77      0.84       193\n",
            "    positive       0.86      0.76      0.81       186\n",
            "    negative       0.92      0.77      0.84       193\n",
            "    positive       0.86      0.76      0.81       186\n",
            "    negative       0.92      0.77      0.84       193\n",
            "     neutral       0.68      0.93      0.79       142\n",
            "    negative       0.92      0.77      0.84       193\n",
            "    negative       0.92      0.77      0.84       193\n",
            "    negative       0.92      0.77      0.84       193\n",
            "     neutral       0.68      0.93      0.79       142\n",
            "     neutral       0.68      0.93      0.79       142\n",
            "    positive       0.86      0.76      0.81       186\n",
            "     neutral       0.68      0.93      0.79       142\n",
            "    positive       0.86      0.76      0.81       186\n",
            "    positive       0.86      0.76      0.81       186\n",
            "    positive       0.86      0.76      0.81       186\n",
            "    negative       0.92      0.77      0.84       193\n",
            "    negative       0.92      0.77      0.84       193\n",
            "    negative       0.92      0.77      0.84       193\n",
            "    positive       0.86      0.76      0.81       186\n",
            "    positive       0.86      0.76      0.81       186\n",
            "    positive       0.86      0.76      0.81       186\n",
            "    positive       0.86      0.76      0.81       186\n",
            "    negative       0.92      0.77      0.84       193\n",
            "     neutral       0.68      0.93      0.79       142\n",
            "     neutral       0.68      0.93      0.79       142\n",
            "    positive       0.86      0.76      0.81       186\n",
            "    negative       0.92      0.77      0.84       193\n",
            "    negative       0.92      0.77      0.84       193\n",
            "    positive       0.86      0.76      0.81       186\n",
            "    positive       0.86      0.76      0.81       186\n",
            "     neutral       0.68      0.93      0.79       142\n",
            "    positive       0.86      0.76      0.81       186\n",
            "    negative       0.92      0.77      0.84       193\n",
            "     neutral       0.68      0.93      0.79       142\n",
            "    negative       0.92      0.77      0.84       193\n",
            "    positive       0.86      0.76      0.81       186\n",
            "     neutral       0.68      0.93      0.79       142\n",
            "    negative       0.92      0.77      0.84       193\n",
            "     neutral       0.68      0.93      0.79       142\n",
            "    negative       0.92      0.77      0.84       193\n",
            "    negative       0.92      0.77      0.84       193\n",
            "     neutral       0.68      0.93      0.79       142\n",
            "    negative       0.92      0.77      0.84       193\n",
            "    negative       0.92      0.77      0.84       193\n",
            "    positive       0.86      0.76      0.81       186\n",
            "    negative       0.92      0.77      0.84       193\n",
            "    positive       0.86      0.76      0.81       186\n",
            "    negative       0.92      0.77      0.84       193\n",
            "    negative       0.92      0.77      0.84       193\n",
            "    negative       0.92      0.77      0.84       193\n",
            "     neutral       0.68      0.93      0.79       142\n",
            "    negative       0.92      0.77      0.84       193\n",
            "    positive       0.86      0.76      0.81       186\n",
            "    negative       0.92      0.77      0.84       193\n",
            "    positive       0.86      0.76      0.81       186\n",
            "     neutral       0.68      0.93      0.79       142\n",
            "    positive       0.86      0.76      0.81       186\n",
            "    negative       0.92      0.77      0.84       193\n",
            "    positive       0.86      0.76      0.81       186\n",
            "    positive       0.86      0.76      0.81       186\n",
            "    negative       0.92      0.77      0.84       193\n",
            "    negative       0.92      0.77      0.84       193\n",
            "     neutral       0.68      0.93      0.79       142\n",
            "    positive       0.86      0.76      0.81       186\n",
            "    negative       0.92      0.77      0.84       193\n",
            "     neutral       0.68      0.93      0.79       142\n",
            "    positive       0.86      0.76      0.81       186\n",
            "     neutral       0.68      0.93      0.79       142\n",
            "     neutral       0.68      0.93      0.79       142\n",
            "    positive       0.86      0.76      0.81       186\n",
            "    positive       0.86      0.76      0.81       186\n",
            "    negative       0.92      0.77      0.84       193\n",
            "    negative       0.92      0.77      0.84       193\n",
            "    positive       0.86      0.76      0.81       186\n",
            "    positive       0.86      0.76      0.81       186\n",
            "    positive       0.86      0.76      0.81       186\n",
            "    positive       0.86      0.76      0.81       186\n",
            "     neutral       0.68      0.93      0.79       142\n",
            "    positive       0.86      0.76      0.81       186\n",
            "    negative       0.92      0.77      0.84       193\n",
            "     neutral       0.68      0.93      0.79       142\n",
            "    positive       0.86      0.76      0.81       186\n",
            "    positive       0.86      0.76      0.81       186\n",
            "     neutral       0.68      0.93      0.79       142\n",
            "    positive       0.86      0.76      0.81       186\n",
            "    positive       0.86      0.76      0.81       186\n",
            "     neutral       0.68      0.93      0.79       142\n",
            "    positive       0.86      0.76      0.81       186\n",
            "     neutral       0.68      0.93      0.79       142\n",
            "    positive       0.86      0.76      0.81       186\n",
            "    positive       0.86      0.76      0.81       186\n",
            "     neutral       0.68      0.93      0.79       142\n",
            "    positive       0.86      0.76      0.81       186\n",
            "     neutral       0.68      0.93      0.79       142\n",
            "     neutral       0.68      0.93      0.79       142\n",
            "    positive       0.86      0.76      0.81       186\n",
            "    positive       0.86      0.76      0.81       186\n",
            "    negative       0.92      0.77      0.84       193\n",
            "    positive       0.86      0.76      0.81       186\n",
            "     neutral       0.68      0.93      0.79       142\n",
            "    negative       0.92      0.77      0.84       193\n",
            "    negative       0.92      0.77      0.84       193\n",
            "    negative       0.92      0.77      0.84       193\n",
            "    positive       0.86      0.76      0.81       186\n",
            "    positive       0.86      0.76      0.81       186\n",
            "    negative       0.92      0.77      0.84       193\n",
            "     neutral       0.68      0.93      0.79       142\n",
            "    positive       0.86      0.76      0.81       186\n",
            "    positive       0.86      0.76      0.81       186\n",
            "    positive       0.86      0.76      0.81       186\n",
            "     neutral       0.68      0.93      0.79       142\n",
            "     neutral       0.68      0.93      0.79       142\n",
            "    negative       0.92      0.77      0.84       193\n",
            "     neutral       0.68      0.93      0.79       142\n",
            "    negative       0.92      0.77      0.84       193\n",
            "    negative       0.92      0.77      0.84       193\n",
            "    negative       0.92      0.77      0.84       193\n",
            "    negative       0.92      0.77      0.84       193\n",
            "     neutral       0.68      0.93      0.79       142\n",
            "    positive       0.86      0.76      0.81       186\n",
            "     neutral       0.68      0.93      0.79       142\n",
            "    positive       0.86      0.76      0.81       186\n",
            "     neutral       0.68      0.93      0.79       142\n",
            "    positive       0.86      0.76      0.81       186\n",
            "     neutral       0.68      0.93      0.79       142\n",
            "     neutral       0.68      0.93      0.79       142\n",
            "    positive       0.86      0.76      0.81       186\n",
            "    negative       0.92      0.77      0.84       193\n",
            "     neutral       0.68      0.93      0.79       142\n",
            "    negative       0.92      0.77      0.84       193\n",
            "    positive       0.86      0.76      0.81       186\n",
            "    negative       0.92      0.77      0.84       193\n",
            "    positive       0.86      0.76      0.81       186\n",
            "    negative       0.92      0.77      0.84       193\n",
            "    negative       0.92      0.77      0.84       193\n",
            "    negative       0.92      0.77      0.84       193\n",
            "    positive       0.86      0.76      0.81       186\n",
            "    positive       0.86      0.76      0.81       186\n",
            "     neutral       0.68      0.93      0.79       142\n",
            "    positive       0.86      0.76      0.81       186\n",
            "    positive       0.86      0.76      0.81       186\n",
            "     neutral       0.68      0.93      0.79       142\n",
            "    negative       0.92      0.77      0.84       193\n",
            "    positive       0.86      0.76      0.81       186\n",
            "    negative       0.92      0.77      0.84       193\n",
            "     neutral       0.68      0.93      0.79       142\n",
            "     neutral       0.68      0.93      0.79       142\n",
            "    negative       0.92      0.77      0.84       193\n",
            "    negative       0.92      0.77      0.84       193\n",
            "     neutral       0.68      0.93      0.79       142\n",
            "    negative       0.92      0.77      0.84       193\n",
            "    negative       0.92      0.77      0.84       193\n",
            "    negative       0.92      0.77      0.84       193\n",
            "    positive       0.86      0.76      0.81       186\n",
            "    negative       0.92      0.77      0.84       193\n",
            "    positive       0.86      0.76      0.81       186\n",
            "    positive       0.86      0.76      0.81       186\n",
            "    positive       0.86      0.76      0.81       186\n",
            "    positive       0.86      0.76      0.81       186\n",
            "     neutral       0.68      0.93      0.79       142\n",
            "    positive       0.86      0.76      0.81       186\n",
            "     neutral       0.68      0.93      0.79       142\n",
            "     neutral       0.68      0.93      0.79       142\n",
            "    positive       0.86      0.76      0.81       186\n",
            "    negative       0.92      0.77      0.84       193\n",
            "    positive       0.86      0.76      0.81       186\n",
            "    positive       0.86      0.76      0.81       186\n",
            "     neutral       0.68      0.93      0.79       142\n",
            "    negative       0.92      0.77      0.84       193\n",
            "    negative       0.92      0.77      0.84       193\n",
            "    negative       0.92      0.77      0.84       193\n",
            "    positive       0.86      0.76      0.81       186\n",
            "    positive       0.86      0.76      0.81       186\n",
            "    negative       0.92      0.77      0.84       193\n",
            "     neutral       0.68      0.93      0.79       142\n",
            "    negative       0.92      0.77      0.84       193\n",
            "    negative       0.92      0.77      0.84       193\n",
            "    negative       0.92      0.77      0.84       193\n",
            "     neutral       0.68      0.93      0.79       142\n",
            "    positive       0.86      0.76      0.81       186\n",
            "    negative       0.92      0.77      0.84       193\n",
            "    negative       0.92      0.77      0.84       193\n",
            "    positive       0.86      0.76      0.81       186\n",
            "    positive       0.86      0.76      0.81       186\n",
            "    negative       0.92      0.77      0.84       193\n",
            "    negative       0.92      0.77      0.84       193\n",
            "    positive       0.86      0.76      0.81       186\n",
            "     neutral       0.68      0.93      0.79       142\n",
            "    negative       0.92      0.77      0.84       193\n",
            "     neutral       0.68      0.93      0.79       142\n",
            "    negative       0.92      0.77      0.84       193\n",
            "     neutral       0.68      0.93      0.79       142\n",
            "    negative       0.92      0.77      0.84       193\n",
            "     neutral       0.68      0.93      0.79       142\n",
            "    negative       0.92      0.77      0.84       193\n",
            "    positive       0.86      0.76      0.81       186\n",
            "    negative       0.92      0.77      0.84       193\n",
            "    negative       0.92      0.77      0.84       193\n",
            "     neutral       0.68      0.93      0.79       142\n",
            "    positive       0.86      0.76      0.81       186\n",
            "     neutral       0.68      0.93      0.79       142\n",
            "    negative       0.92      0.77      0.84       193\n",
            "    negative       0.92      0.77      0.84       193\n",
            "    positive       0.86      0.76      0.81       186\n",
            "     neutral       0.68      0.93      0.79       142\n",
            "    negative       0.92      0.77      0.84       193\n",
            "    positive       0.86      0.76      0.81       186\n",
            "    negative       0.92      0.77      0.84       193\n",
            "    positive       0.86      0.76      0.81       186\n",
            "    positive       0.86      0.76      0.81       186\n",
            "     neutral       0.68      0.93      0.79       142\n",
            "    negative       0.92      0.77      0.84       193\n",
            "     neutral       0.68      0.93      0.79       142\n",
            "     neutral       0.68      0.93      0.79       142\n",
            "    negative       0.92      0.77      0.84       193\n",
            "    negative       0.92      0.77      0.84       193\n",
            "    negative       0.92      0.77      0.84       193\n",
            "    positive       0.86      0.76      0.81       186\n",
            "    negative       0.92      0.77      0.84       193\n",
            "     neutral       0.68      0.93      0.79       142\n",
            "    negative       0.92      0.77      0.84       193\n",
            "    positive       0.86      0.76      0.81       186\n",
            "     neutral       0.68      0.93      0.79       142\n",
            "     neutral       0.68      0.93      0.79       142\n",
            "    positive       0.86      0.76      0.81       186\n",
            "     neutral       0.68      0.93      0.79       142\n",
            "     neutral       0.68      0.93      0.79       142\n",
            "    positive       0.86      0.76      0.81       186\n",
            "    positive       0.86      0.76      0.81       186\n",
            "    positive       0.86      0.76      0.81       186\n",
            "    positive       0.86      0.76      0.81       186\n",
            "    positive       0.86      0.76      0.81       186\n",
            "    negative       0.92      0.77      0.84       193\n",
            "    positive       0.86      0.76      0.81       186\n",
            "    negative       0.92      0.77      0.84       193\n",
            "    positive       0.86      0.76      0.81       186\n",
            "    positive       0.86      0.76      0.81       186\n",
            "    positive       0.86      0.76      0.81       186\n",
            "    positive       0.86      0.76      0.81       186\n",
            "    negative       0.92      0.77      0.84       193\n",
            "    positive       0.86      0.76      0.81       186\n",
            "    positive       0.86      0.76      0.81       186\n",
            "    negative       0.92      0.77      0.84       193\n",
            "    negative       0.92      0.77      0.84       193\n",
            "    positive       0.86      0.76      0.81       186\n",
            "    negative       0.92      0.77      0.84       193\n",
            "     neutral       0.68      0.93      0.79       142\n",
            "    negative       0.92      0.77      0.84       193\n",
            "    negative       0.92      0.77      0.84       193\n",
            "     neutral       0.68      0.93      0.79       142\n",
            "     neutral       0.68      0.93      0.79       142\n",
            "     neutral       0.68      0.93      0.79       142\n",
            "    negative       0.92      0.77      0.84       193\n",
            "    positive       0.86      0.76      0.81       186\n",
            "    positive       0.86      0.76      0.81       186\n",
            "    positive       0.86      0.76      0.81       186\n",
            "    positive       0.86      0.76      0.81       186\n",
            "    negative       0.92      0.77      0.84       193\n",
            "    negative       0.92      0.77      0.84       193\n",
            "    positive       0.86      0.76      0.81       186\n",
            "    positive       0.86      0.76      0.81       186\n",
            "     neutral       0.68      0.93      0.79       142\n",
            "    negative       0.92      0.77      0.84       193\n",
            "     neutral       0.68      0.93      0.79       142\n",
            "     neutral       0.68      0.93      0.79       142\n",
            "    positive       0.86      0.76      0.81       186\n",
            "     neutral       0.68      0.93      0.79       142\n",
            "    positive       0.86      0.76      0.81       186\n",
            "    positive       0.86      0.76      0.81       186\n",
            "    negative       0.92      0.77      0.84       193\n",
            "    negative       0.92      0.77      0.84       193\n",
            "    negative       0.92      0.77      0.84       193\n",
            "    positive       0.86      0.76      0.81       186\n",
            "     neutral       0.68      0.93      0.79       142\n",
            "    positive       0.86      0.76      0.81       186\n",
            "    positive       0.86      0.76      0.81       186\n",
            "    negative       0.92      0.77      0.84       193\n",
            "    positive       0.86      0.76      0.81       186\n",
            "    negative       0.92      0.77      0.84       193\n",
            "     neutral       0.68      0.93      0.79       142\n",
            "    negative       0.92      0.77      0.84       193\n",
            "     neutral       0.68      0.93      0.79       142\n",
            "     neutral       0.68      0.93      0.79       142\n",
            "    positive       0.86      0.76      0.81       186\n",
            "    positive       0.86      0.76      0.81       186\n",
            "     neutral       0.68      0.93      0.79       142\n",
            "    positive       0.86      0.76      0.81       186\n",
            "    positive       0.86      0.76      0.81       186\n",
            "    positive       0.86      0.76      0.81       186\n",
            "    negative       0.92      0.77      0.84       193\n",
            "     neutral       0.68      0.93      0.79       142\n",
            "     neutral       0.68      0.93      0.79       142\n",
            "    negative       0.92      0.77      0.84       193\n",
            "     neutral       0.68      0.93      0.79       142\n",
            "     neutral       0.68      0.93      0.79       142\n",
            "    positive       0.86      0.76      0.81       186\n",
            "    positive       0.86      0.76      0.81       186\n",
            "     neutral       0.68      0.93      0.79       142\n",
            "     neutral       0.68      0.93      0.79       142\n",
            "    positive       0.86      0.76      0.81       186\n",
            "    negative       0.92      0.77      0.84       193\n",
            "     neutral       0.68      0.93      0.79       142\n",
            "    negative       0.92      0.77      0.84       193\n",
            "    negative       0.92      0.77      0.84       193\n",
            "     neutral       0.68      0.93      0.79       142\n",
            "    positive       0.86      0.76      0.81       186\n",
            "     neutral       0.68      0.93      0.79       142\n",
            "     neutral       0.68      0.93      0.79       142\n",
            "     neutral       0.68      0.93      0.79       142\n",
            "     neutral       0.68      0.93      0.79       142\n",
            "    negative       0.92      0.77      0.84       193\n",
            "    negative       0.92      0.77      0.84       193\n",
            "     neutral       0.68      0.93      0.79       142\n",
            "     neutral       0.68      0.93      0.79       142\n",
            "    positive       0.86      0.76      0.81       186\n",
            "     neutral       0.68      0.93      0.79       142\n",
            "    negative       0.92      0.77      0.84       193\n",
            "     neutral       0.68      0.93      0.79       142\n",
            "    positive       0.86      0.76      0.81       186\n",
            "    positive       0.86      0.76      0.81       186\n",
            "    positive       0.86      0.76      0.81       186\n",
            "    negative       0.92      0.77      0.84       193\n",
            "    positive       0.86      0.76      0.81       186\n",
            "    positive       0.86      0.76      0.81       186\n",
            "    negative       0.92      0.77      0.84       193\n",
            "    negative       0.92      0.77      0.84       193\n",
            "    negative       0.92      0.77      0.84       193\n",
            "    negative       0.92      0.77      0.84       193\n",
            "    positive       0.86      0.76      0.81       186\n",
            "    negative       0.92      0.77      0.84       193\n",
            "    negative       0.92      0.77      0.84       193\n",
            "    positive       0.86      0.76      0.81       186\n",
            "     neutral       0.68      0.93      0.79       142\n",
            "     neutral       0.68      0.93      0.79       142\n",
            "    negative       0.92      0.77      0.84       193\n",
            "    negative       0.92      0.77      0.84       193\n",
            "    negative       0.92      0.77      0.84       193\n",
            "    negative       0.92      0.77      0.84       193\n",
            "    positive       0.86      0.76      0.81       186\n",
            "    positive       0.86      0.76      0.81       186\n",
            "    positive       0.86      0.76      0.81       186\n",
            "    positive       0.86      0.76      0.81       186\n",
            "    negative       0.92      0.77      0.84       193\n",
            "    negative       0.92      0.77      0.84       193\n",
            "    negative       0.92      0.77      0.84       193\n",
            "    negative       0.92      0.77      0.84       193\n",
            "    positive       0.86      0.76      0.81       186\n",
            "    positive       0.86      0.76      0.81       186\n",
            "\n",
            "    accuracy                           0.81     92009\n",
            "   macro avg       0.83      0.81      0.81     92009\n",
            "weighted avg       0.85      0.80      0.82     92009\n",
            "\n"
          ]
        }
      ]
    },
    {
      "cell_type": "markdown",
      "source": [
        "In the following code cell we are going to create a function that plots a simple confusion matrix for our actual test labels vrs our predicted labels."
      ],
      "metadata": {
        "id": "OH52AjV_LKao"
      }
    },
    {
      "cell_type": "code",
      "source": [
        "def plot_confusion_matrix(labels:list=[], pred_labels:list =[], classes:list=[]):\n",
        "  fig = plt.figure(figsize = (10, 10))\n",
        "  ax = fig.add_subplot(1, 1, 1)\n",
        "  cm = confusion_matrix(labels, pred_labels)\n",
        "\n",
        "  if len(classes) == 0:\n",
        "    classes = labels.numpy()\n",
        "\n",
        "  cm = ConfusionMatrixDisplay(cm, display_labels= classes)\n",
        "  cm.plot(values_format = 'd', cmap = 'Blues', ax = ax)\n",
        "  plt.xticks(rotation = 0, color=\"black\", fontsize=10)\n",
        "  plt.yticks(rotation = 0, color=\"black\", fontsize=10)"
      ],
      "metadata": {
        "id": "OVAK21x76FFi"
      },
      "execution_count": 64,
      "outputs": []
    },
    {
      "cell_type": "code",
      "source": [
        "plot_confusion_matrix(y, y_preds, classes)"
      ],
      "metadata": {
        "id": "19FFqTyf6IWl",
        "colab": {
          "base_uri": "https://localhost:8080/",
          "height": 574
        },
        "outputId": "7cddc664-772f-42c0-f967-8bac8e569b7d"
      },
      "execution_count": 65,
      "outputs": [
        {
          "output_type": "display_data",
          "data": {
            "text/plain": [
              "<Figure size 720x720 with 2 Axes>"
            ],
            "image/png": "[encoded data removed]"
          },
          "metadata": {
            "needs_background": "light"
          }
        }
      ]
    },
    {
      "cell_type": "markdown",
      "source": [
        "In the following code cell we are going to create another, `plot_confusion_matrix` function that will display the percenatage on how the model is being confused in classifying our class labels."
      ],
      "metadata": {
        "id": "yc-FOfz6LugA"
      }
    },
    {
      "cell_type": "code",
      "source": [
        "def plot_confusion_matrix(y_true, y_pred, classes=None, figsize=(5, 5), text_size=20):\n",
        "    cm = confusion_matrix(y_true, y_pred)\n",
        "    cm_norm = cm.astype(\"float\") / cm.sum(axis=1)[:, np.newaxis]\n",
        "    n_classes = cm.shape[0]\n",
        "\n",
        "    fig, ax = plt.subplots(figsize=figsize)\n",
        "    cax = ax.matshow(cm, cmap=plt.cm.Blues)\n",
        "    fig.colorbar(cax)\n",
        "\n",
        "    if len(classes):\n",
        "        labels = classes\n",
        "    else:\n",
        "        labels = np.arange(cm.shape[0])\n",
        "\n",
        "    ax.set(title=\"Confusion Matrix\",\n",
        "         xlabel=\"Predicted label\",\n",
        "         ylabel=\"True label\",\n",
        "         xticks=np.arange(n_classes),\n",
        "         yticks=np.arange(n_classes),\n",
        "         xticklabels=labels,\n",
        "         yticklabels=labels,\n",
        "          )\n",
        "    ax.yaxis.label.set_color('green')\n",
        "    ax.xaxis.label.set_color('green')\n",
        "\n",
        "\n",
        "    ax.xaxis.set_label_position(\"bottom\")\n",
        "    ax.xaxis.tick_bottom()\n",
        "\n",
        "    threshold = (cm.max() + cm.min()) / 2.\n",
        "    # Plot the text on each cell\n",
        "    for i, j in itertools.product(range(cm.shape[0]), range(cm.shape[1])):\n",
        "        plt.text(j, i, f\"{cm[i, j]} ({cm_norm[i, j]*100:.1f}%)\",\n",
        "                 horizontalalignment=\"center\",\n",
        "                 color=\"white\" if cm[i, j] > threshold else \"black\",\n",
        "                 size=text_size)"
      ],
      "metadata": {
        "id": "3Ho-caDF6dDi"
      },
      "execution_count": 66,
      "outputs": []
    },
    {
      "cell_type": "code",
      "source": [
        "\n",
        "plot_confusion_matrix(y, y_preds, classes=classes, figsize=(8, 8))"
      ],
      "metadata": {
        "id": "udaoB07U6gKU",
        "colab": {
          "base_uri": "https://localhost:8080/",
          "height": 466
        },
        "outputId": "b1bf1ec6-2844-4fa6-da63-6d34e2cca3ee"
      },
      "execution_count": 67,
      "outputs": [
        {
          "output_type": "display_data",
          "data": {
            "text/plain": [
              "<Figure size 576x576 with 2 Axes>"
            ],
            "image/png": "[encoded data removed]"
          },
          "metadata": {
            "needs_background": "light"
          }
        }
      ]
    },
    {
      "cell_type": "markdown",
      "source": [
        "### Downloading the Model\n",
        "\n",
        "To download the model from google colab we do it as follows:\n"
      ],
      "metadata": {
        "id": "vAuCQfxW5BvI"
      }
    },
    {
      "cell_type": "code",
      "source": [
        "from google.colab import files\n",
        "files.download(model_path)"
      ],
      "metadata": {
        "id": "wAynB0dA5JGW"
      },
      "execution_count": null,
      "outputs": []
    },
    {
      "cell_type": "markdown",
      "source": [
        "### Additional Resources\n",
        "\n",
        "1. [paperswithcode.com](https://paperswithcode.com/task/sentiment-analysis)"
      ],
      "metadata": {
        "id": "49FvAsmwGwC1"
      }
    }
  ]
}